{
 "cells": [
  {
   "cell_type": "markdown",
   "metadata": {},
   "source": [
    "### API's. 2"
   ]
  },
  {
   "cell_type": "code",
   "execution_count": null,
   "id": "243b4d68-b9bb-40ec-8acf-fd44dbdd6a5d",
   "metadata": {},
   "outputs": [],
   "source": [
    "import requests"
   ]
  },
  {
   "cell_type": "markdown",
   "metadata": {},
   "source": [
    "To recap...\n",
    "- We connect to an ENDPOIND\n",
    "- We use GET method\n",
    "- We receive a RESPONSE\n",
    "- response has a STATUS\n",
    "- response has a CONTENT\n",
    "- response has a HEADERS"
   ]
  },
  {
   "cell_type": "code",
   "execution_count": null,
   "id": "2bd27040-1e55-432e-b9f4-8fb53f25147c",
   "metadata": {},
   "outputs": [],
   "source": [
    "# QUERY STRING PARAMETERS\n",
    "\n",
    "# Many times we have to send parameters to our GET requests.\n",
    "# We can add the data as parameters as a dictionary"
   ]
  },
  {
   "cell_type": "code",
   "execution_count": null,
   "id": "52f50c14",
   "metadata": {},
   "outputs": [],
   "source": []
  },
  {
   "cell_type": "code",
   "execution_count": null,
   "id": "0f464146-0840-496d-8dce-96ac42a363a7",
   "metadata": {},
   "outputs": [],
   "source": [
    "# Example with HTTPBin (in local - docker)\n",
    "# We do not pass any \"argument = args\".\n",
    "url = 'http://httpbin.org/get'\n",
    "response = requests.get(url)\n",
    "response.json()"
   ]
  },
  {
   "cell_type": "code",
   "execution_count": null,
   "id": "8c67e639-ed26-4541-8cfe-2503b6e7b5b8",
   "metadata": {},
   "outputs": [],
   "source": [
    "# We pass a key argument: value\n",
    "# Check how the URL is constructed (try to open it with the browser)\n",
    "url = 'http://httpbin.org/get'\n",
    "response = requests.get(url,\n",
    "                       params = {'key':'value'})\n",
    "response.json()"
   ]
  },
  {
   "cell_type": "code",
   "execution_count": null,
   "id": "c1da9b64-4f05-4117-8e13-e6027070ff26",
   "metadata": {},
   "outputs": [],
   "source": [
    "# We pass two pairs of arguments\n",
    "# Check how the URL is constructed (try to open it with the browser)\n",
    "url = 'http://httpbin.org/get'\n",
    "response = requests.get(url,\n",
    "                       params = {'nome':'fulanito','apelido':'menganez'})\n",
    "response.json()"
   ]
  },
  {
   "cell_type": "markdown",
   "metadata": {},
   "source": [
    "**PAYLOAD**\n",
    "\n",
    "In computing and telecommunications the payload is the set of transmitted data which is actually the message sent. The payload excludes the headers or metadata, which are sent simply to facilitate the delivery of the message. The term is borrowed from freight transport, where payload refers to that part of the cargo which is used to pay for the transport."
   ]
  },
  {
   "cell_type": "code",
   "execution_count": null,
   "id": "be71e23c-d15f-4ee8-a45a-f9a846b87513",
   "metadata": {},
   "outputs": [],
   "source": [
    "## PAYLOAD\n",
    "# En informática y telecomunicaciones la carga útil1(payload en inglés) es el conjunto de datos\n",
    "# transmitidos que es en realidad el mensaje enviado. La carga útil excluye las cabeceras o metadatos,\n",
    "# que son enviados simplemente para facilitar la entrega del mensaje. El término está tomado prestado\n",
    "# del transporte de mercancías, donde carga útil se refiere a la parte de la carga que se utiliza \n",
    "# para costear el transporte. \n",
    "\n",
    "url = 'http://httpbin.org/get'\n",
    "payload = {'nome':'fulanito','apelido':'menganez'}\n",
    "response = requests.get(url,\n",
    "                       params = payload)\n",
    "response.json()"
   ]
  },
  {
   "cell_type": "code",
   "execution_count": null,
   "id": "15d9a20b-89c6-4064-84b2-d21cac696863",
   "metadata": {},
   "outputs": [],
   "source": [
    "# In summary, some endpoints support or require the sending of parameters to provide a response."
   ]
  },
  {
   "cell_type": "code",
   "execution_count": null,
   "id": "ac7a2ee5-8e05-4caf-a656-fded219bcad4",
   "metadata": {},
   "outputs": [],
   "source": [
    "### REQUEST HEADERS\n",
    "# In addition to modifying the requests by adding parameters you can also parameterise the requests \n",
    "# through the headers or REQUEST HEADERS"
   ]
  },
  {
   "cell_type": "code",
   "execution_count": null,
   "id": "1d8d9502-b583-42fd-9e65-49a7a96342f7",
   "metadata": {},
   "outputs": [],
   "source": [
    "# Example with HTTPBin (local - docker)\n",
    "# Look at our \"default\" HEADERS\n",
    "url = 'http://httpbin.org/get'\n",
    "response = requests.get(url)\n",
    "response.json()"
   ]
  },
  {
   "cell_type": "code",
   "execution_count": null,
   "id": "9962ac5c-96c0-4815-9203-3582245f5fbd",
   "metadata": {},
   "outputs": [],
   "source": [
    "# We can falsify the \"user-agent\", i.e., who is making the requests.\n",
    "response = requests.get(url,\n",
    "                     headers={'User-Agent' : 'Mozilla/5.0 (Windows NT 10.0;Win64;x64) AppleWebKit/537.36 (KHTML, like Gecko) Chrome/74.0.3729.169 Safari/537.36'})\n",
    "response.json()"
   ]
  },
  {
   "cell_type": "code",
   "execution_count": null,
   "id": "80adcf5d-353f-40d0-93e1-84468c270b19",
   "metadata": {},
   "outputs": [],
   "source": [
    "# We can falsify the \"user-agent\", i.e. who is making the requests (we can actually add anything).\n",
    "response = requests.get(url,\n",
    "                     headers={'User-Agent' : 'Macanudo Browser 5.1'})\n",
    "response.json()"
   ]
  },
  {
   "cell_type": "code",
   "execution_count": null,
   "id": "29da7977-1ee8-432a-8597-e42158cf917b",
   "metadata": {},
   "outputs": [],
   "source": [
    "# Some applications require us to indicate which formats we accept in our responses.\n",
    "# It is common to indicate: application/json\n",
    "response = requests.get(url,\n",
    "                     headers={'User-Agent' : 'Macanudo Browser 5.1','Accept':'application/json'})\n",
    "response.json()"
   ]
  },
  {
   "cell_type": "code",
   "execution_count": null,
   "id": "f2796c46",
   "metadata": {},
   "outputs": [],
   "source": [
    "# Some applications require us to indicate credentials using headers\n",
    "response = requests.get(url,\n",
    "                     headers={'user':'fulanito'})\n",
    "response.json()"
   ]
  },
  {
   "cell_type": "code",
   "execution_count": null,
   "id": "692b65c5",
   "metadata": {},
   "outputs": [],
   "source": [
    "# It's not the same sending credentials via parameters than via headers\n",
    "response = requests.get(url,\n",
    "                     headers={'user':'fulanito'})\n",
    "print(response.url)"
   ]
  },
  {
   "cell_type": "code",
   "execution_count": null,
   "id": "705efe03",
   "metadata": {},
   "outputs": [],
   "source": [
    "# It's not the same sending credentials via parameters than via headers\n",
    "response = requests.get(url,\n",
    "                     params={'user':'fulanito'})\n",
    "print(response.url)"
   ]
  },
  {
   "cell_type": "code",
   "execution_count": null,
   "id": "a72657be-eef3-4b2e-9ddf-f22f1adb22c4",
   "metadata": {},
   "outputs": [],
   "source": [
    "# Show the same request through CURL\n",
    "# curl -X GET \"http://httpbin.org/get\" -H \"accept: application/json\"\n",
    "# On Windows, download CURL\n",
    "# https://curl.se/windows/\n",
    "\n",
    "# curl -X == --request <command> -> curl -X GET (for example) or curl -X PUT\n",
    "# -H \"accept: application/json\" <- pass in headers do request\n",
    "# Indicates the type of response we will accept"
   ]
  }
 ],
 "metadata": {
  "kernelspec": {
   "display_name": "sistemas24",
   "language": "python",
   "name": "python3"
  },
  "language_info": {
   "codemirror_mode": {
    "name": "ipython",
    "version": 3
   },
   "file_extension": ".py",
   "mimetype": "text/x-python",
   "name": "python",
   "nbconvert_exporter": "python",
   "pygments_lexer": "ipython3",
   "version": "3.13.0"
  }
 },
 "nbformat": 4,
 "nbformat_minor": 5
}
