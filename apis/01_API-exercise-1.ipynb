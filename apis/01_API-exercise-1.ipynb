{
 "cells": [
  {
   "cell_type": "markdown",
   "metadata": {},
   "source": [
    "# APIs. Exercise 1"
   ]
  },
  {
   "cell_type": "code",
<<<<<<< HEAD
   "execution_count": null,
=======
   "execution_count": 1,
>>>>>>> 27abb7cde2f2c449d1e9d586b2022a91e4a64529
   "id": "5b298500-6912-4bfb-a72f-602d5379fba6",
   "metadata": {},
   "outputs": [],
   "source": [
<<<<<<< HEAD
    "# Import the library to work with APIs"
=======
    "# Import the library to work with APIs\n",
    "import requests"
>>>>>>> 27abb7cde2f2c449d1e9d586b2022a91e4a64529
   ]
  },
  {
   "cell_type": "markdown",
   "metadata": {},
   "source": [
    "### Sample APIs\n",
    "\n",
    "https://sampleapis.com/\n",
    "\n",
    "A simple, no fuss, no mess, no auth playground for learning RESTful or GraphQL APIs."
   ]
  },
  {
   "cell_type": "code",
<<<<<<< HEAD
   "execution_count": null,
=======
   "execution_count": 2,
>>>>>>> 27abb7cde2f2c449d1e9d586b2022a91e4a64529
   "id": "71e58e58-2738-4659-994d-d6bec6c3f227",
   "metadata": {},
   "outputs": [],
   "source": [
    "# Configure the endpoint\n",
    "# Page with sample APIs: https://sampleapis.com/\n",
<<<<<<< HEAD
    "# Use the endpoint url for hot coffees\n"
=======
    "# Use the endpoint url for hot coffees\n",
    "endpoint = 'https://api.sampleapis.com/coffee/hot'"
>>>>>>> 27abb7cde2f2c449d1e9d586b2022a91e4a64529
   ]
  },
  {
   "cell_type": "code",
<<<<<<< HEAD
   "execution_count": null,
   "id": "6c50dc1d-2766-49e1-86bb-f07a968a1656",
   "metadata": {},
   "outputs": [],
   "source": [
    "# Make a first request to the endpoint\n"
=======
   "execution_count": 3,
   "id": "6c50dc1d-2766-49e1-86bb-f07a968a1656",
   "metadata": {},
   "outputs": [
    {
     "data": {
      "text/plain": [
       "<Response [200]>"
      ]
     },
     "execution_count": 3,
     "metadata": {},
     "output_type": "execute_result"
    }
   ],
   "source": [
    "# Make a first request to the endpoint\n",
    "requests.get(endpoint)"
>>>>>>> 27abb7cde2f2c449d1e9d586b2022a91e4a64529
   ]
  },
  {
   "cell_type": "code",
<<<<<<< HEAD
   "execution_count": null,
   "id": "2c355b0c-1171-4dce-b106-7a24e4310a98",
   "metadata": {},
   "outputs": [],
   "source": [
    "# Check the status of the response\n"
=======
   "execution_count": 4,
   "id": "2c355b0c-1171-4dce-b106-7a24e4310a98",
   "metadata": {},
   "outputs": [
    {
     "data": {
      "text/plain": [
       "200"
      ]
     },
     "execution_count": 4,
     "metadata": {},
     "output_type": "execute_result"
    }
   ],
   "source": [
    "# Check the status of the response\n",
    "response = requests.get(endpoint)\n",
    "response.status_code"
>>>>>>> 27abb7cde2f2c449d1e9d586b2022a91e4a64529
   ]
  },
  {
   "cell_type": "code",
<<<<<<< HEAD
   "execution_count": null,
   "id": "713707fb-2e4f-4653-9f99-76a4867e8f7b",
   "metadata": {},
   "outputs": [],
   "source": [
    "# Modify the endpoint and consult the status of the response after a request (force some failure)\n"
=======
   "execution_count": 5,
   "id": "713707fb-2e4f-4653-9f99-76a4867e8f7b",
   "metadata": {},
   "outputs": [
    {
     "data": {
      "text/plain": [
       "<Response [404]>"
      ]
     },
     "execution_count": 5,
     "metadata": {},
     "output_type": "execute_result"
    }
   ],
   "source": [
    "# Modify the endpoint and consult the status of the response after a request (force some failure)\n",
    "\n",
    "failure = 'https://api.sampleapis.com/coffeee/hot'\n",
    "\n",
    "requests.get(failure)"
>>>>>>> 27abb7cde2f2c449d1e9d586b2022a91e4a64529
   ]
  },
  {
   "cell_type": "code",
<<<<<<< HEAD
   "execution_count": null,
   "id": "8636f3ee-cab8-496d-ab4b-c166fca6867a",
   "metadata": {},
   "outputs": [],
   "source": [
    "# Check the correct endpoint again and check the raw content of the API response.\n"
=======
   "execution_count": 6,
   "id": "8636f3ee-cab8-496d-ab4b-c166fca6867a",
   "metadata": {},
   "outputs": [
    {
     "data": {
      "text/plain": [
       "b'[{\"title\":\"Black Coffee\",\"description\":\"Svart kaffe \\xc3\\xa4r s\\xc3\\xa5 enkelt som det kan bli med malda kaffeb\\xc3\\xb6nor dr\\xc3\\xa4nkta i hett vatten, serverat varmt. Och om du vill l\\xc3\\xa5ta fancy kan du kalla svart kaffe med sitt r\\xc3\\xa4tta namn: caf\\xc3\\xa9 noir.\",\"ingredients\":[\"Coffee\"],\"image\":\"https://images.unsplash.com/photo-1494314671902-399b18174975?auto=format&fit=crop&q=80&w=1887&ixlib=rb-4.0.3&ixid=M3wxMjA3fDB8MHxwaG90by1wYWdlfHx8fGVufDB8fHx8fA%3D%3D\",\"id\":1},{\"title\":\"Latte\",\"description\":\"Som den mest popul\\xc3\\xa4ra kaffedrycken d\\xc3\\xa4r ute best\\xc3\\xa5r latte av en skv\\xc3\\xa4tt espresso och \\xc3\\xa5ngad mj\\xc3\\xb6lk med bara en gnutta skum. Den kan best\\xc3\\xa4llas utan smak eller med smak av allt fr\\xc3\\xa5n vanilj till pumpa kryddor.\",\"ingredients\":[\"Espresso\",\"\\xc3\\x85ngad mj\\xc3\\xb6lk\"],\"image\":\"https://images.unsplash.com/photo-1561882468-9110e03e0f78?auto=format&fit=crop&q=60&w=800&ixlib=rb-4.0.3&ixid=M3wxMjA3fDB8MHxzZWFyY2h8MTl8fGxhdHRlfGVufDB8fDB8fHww\",\"id\":2},{\"title\":\"Caramel Latte\",\"description\":\"Om du gillar latte med en speciell smak kan karamell latte vara det b\\xc3\\xa4sta alternativet f\\xc3\\xb6r att ge dig en upplevelse av den naturliga s\\xc3\\xb6tman och kr\\xc3\\xa4migheten hos \\xc3\\xa5ngad mj\\xc3\\xb6lk och karamell.\",\"ingredients\":[\"Espresso\",\"\\xc3\\x85ngad mj\\xc3\\xb6lk\",\"Karamellsirap\"],\"image\":\"https://images.unsplash.com/photo-1599398054066-846f28917f38?auto=format&fit=crop&q=80&w=1887&ixlib=rb-4.0.3&ixid=M3wxMjA3fDB8MHxwaG90by1wYWdlfHx8fGVufDB8fHx8fA%3D%3D\",\"id\":3},{\"title\":\"Cappuccino\",\"description\":\"Cappuccino \\xc3\\xa4r en latte som \\xc3\\xa4r gjord med mer skum \\xc3\\xa4n \\xc3\\xa5ngad mj\\xc3\\xb6lk, ofta med ett str\\xc3\\xb6 av kakaopulver eller kanel p\\xc3\\xa5 toppen. Ibland kan du hitta variationer som anv\\xc3\\xa4nder gr\\xc3\\xa4dde ist\\xc3\\xa4llet f\\xc3\\xb6r mj\\xc3\\xb6lk eller s\\xc3\\xa5dana som tills\\xc3\\xa4tter smak\\xc3\\xa4mnen ocks\\xc3\\xa5.\",\"ingredients\":[\"Espresso\",\"\\xc3\\x85ngad mj\\xc3\\xb6lk\",\"Foam\"],\"image\":\"https://images.unsplash.com/photo-1557006021-b85faa2bc5e2?auto=format&fit=crop&q=80&w=1887&ixlib=rb-4.0.3&ixid=M3wxMjA3fDB8MHxwaG90by1wYWdlfHx8fGVufDB8fHx8fA%3D%3D\",\"id\":4},{\"title\":\"Americano\",\"description\":\"Med en liknande smak som svart kaffe best\\xc3\\xa5r americano av en espresso skott utsp\\xc3\\xa4tt med hett vatten.\",\"ingredients\":[\"Espresso\",\"Hett vatten\"],\"image\":\"https://images.unsplash.com/photo-1532004491497-ba35c367d634?auto=format&fit=crop&q=80&w=1887&ixlib=rb-4.0.3&ixid=M3wxMjA3fDB8MHxwaG90by1wYWdlfHx8fGVufDB8fHx8fA%3D%3D\",\"id\":5},{\"title\":\"Espresso\",\"description\":\"Ett espressoskott kan serveras ensamt eller anv\\xc3\\xa4ndas som grund f\\xc3\\xb6r de flesta kaffedrycker, som latte och macchiato.\",\"ingredients\":[\"Espresso\"],\"image\":\"https://images.unsplash.com/photo-1579992357154-faf4bde95b3d?auto=format&fit=crop&q=80&w=1887&ixlib=rb-4.0.3&ixid=M3wxMjA3fDB8MHxwaG90by1wYWdlfHx8fGVufDB8fHx8fA%3D%3D\",\"id\":6},{\"title\":\"Macchiato\",\"description\":\"Macchiaton \\xc3\\xa4r en annan espresso-baserad dryck som har en liten m\\xc3\\xa4ngd skum p\\xc3\\xa5 toppen. Det \\xc3\\xa4r det glada mellanrummet mellan en cappuccino och en doppio.\",\"ingredients\":[\"Espresso\",\"Foam\"],\"image\":\"https://images.unsplash.com/photo-1557772611-722dabe20327?auto=format&fit=crop&q=80&w=1887&ixlib=rb-4.0.3&ixid=M3wxMjA3fDB8MHxwaG90by1wYWdlfHx8fGVufDB8fHx8fA%3D%3D\",\"id\":7},{\"title\":\"Mocha\",\"description\":\"F\\xc3\\xb6r alla choklad\\xc3\\xa4lskare d\\xc3\\xa4r ute kommer ni att bli f\\xc3\\xb6r\\xc3\\xa4lskade i en mocha. Mocha \\xc3\\xa4r en choklad-espressodryck med \\xc3\\xa5ngad mj\\xc3\\xb6lk och skum.\",\"ingredients\":[\"Espresso\",\"\\xc3\\x85ngad mj\\xc3\\xb6lk\",\"Choklad\"],\"image\":\"https://images.unsplash.com/photo-1607260550778-aa9d29444ce1?auto=format&fit=crop&q=80&w=1887&ixlib=rb-4.0.3&ixid=M3wxMjA3fDB8MHxwaG90by1wYWdlfHx8fGVufDB8fHx8fA%3D%3D\",\"id\":8},{\"title\":\"Hot Chocolate\",\"description\":\"Under kalla vinterdagar f\\xc3\\xa5r en kopp varm choklad dig att k\\xc3\\xa4nna dig bekv\\xc3\\xa4m och lycklig. Den f\\xc3\\xa5r dig ocks\\xc3\\xa5 att m\\xc3\\xa5 bra eftersom den inneh\\xc3\\xa5ller energigivande koffein.\",\"ingredients\":[\"Choklad\",\"Mj\\xc3\\xb6lk\"],\"image\":\"https://images.unsplash.com/photo-1542990253-0d0f5be5f0ed?auto=format&fit=crop&q=60&w=800&ixlib=rb-4.0.3&ixid=M3wxMjA3fDB8MHxzZWFyY2h8NDh8fGhvdCUyMGNob2NvbGF0ZXxlbnwwfHwwfHx8MA%3D%3D\",\"id\":9},{\"title\":\"Chai Latte\",\"description\":\"Om du letar efter en smakfull varm dryck mitt i vintern, v\\xc3\\xa4lj chai latte. Kombinationen av kardemumma och kanel ger en underbar smak.\",\"ingredients\":[\"Te\",\"Mj\\xc3\\xb6lk\",\"Ingef\\xc3\\xa4ra\",\"Kardemumma\",\"Kanel\"],\"image\":\"https://images.unsplash.com/photo-1578899952107-9c390f1af1b7?w=900&auto=format&fit=crop&q=60&ixlib=rb-4.0.3&ixid=M3wxMjA3fDB8MHxzZWFyY2h8MTJ8fGNoYWklMjBsYXR0ZXxlbnwwfHwwfHx8MA%3D%3D\",\"id\":10},{\"title\":\"Matcha Latte\",\"description\":\"Matcha latte \\xc3\\xa4r en gr\\xc3\\xb6n, h\\xc3\\xa4lsosam kaffedryck med finkrossad matcha-te och mj\\xc3\\xb6lk, erbjuder mild s\\xc3\\xb6tma, en unik smak och en mild koffeinkick.\",\"ingredients\":[\"Matcha-pulver\",\"Mj\\xc3\\xb6lk\",\"Socker*\"],\"image\":\"https://images.unsplash.com/photo-1536256263959-770b48d82b0a?w=900&auto=format&fit=crop&q=60&ixlib=rb-4.0.3&ixid=M3wxMjA3fDB8MHxzZWFyY2h8M3x8bWF0Y2hhJTIwbGF0dGV8ZW58MHx8MHx8fDA%3D\",\"id\":11},{\"title\":\"Seasonal Brew\",\"description\":\"S\\xc3\\xa4songs kaffe med olika smaktoner som karamell, frukt och choklad\",\"ingredients\":[\"Kaffe\"],\"image\":\"https://images.unsplash.com/photo-1611162458324-aae1eb4129a4?w=900&auto=format&fit=crop&q=60&ixlib=rb-4.0.3&ixid=M3wxMjA3fDB8MHxzZWFyY2h8MTg1fHxibGFjayUyMGNvZmZlZXxlbnwwfHwwfHx8MA%3D%3D\",\"id\":12},{\"title\":\"Svart Te\",\"description\":\"Svart te f\\xc3\\xb6ddes i Kina. Det \\xc3\\xa4r tillverkat av blad fr\\xc3\\xa5n en v\\xc3\\xa4xt som kallas Camellia och kan smaks\\xc3\\xa4ttas olika med frukter till exempel. En trevlig, varm, smakfull och aromatisk dryck som passar till vardagen.\",\"ingredients\":[\"Te\"],\"image\":\"https://images.unsplash.com/photo-1576092768241-dec231879fc3?auto=format&fit=crop&q=60&w=800&ixlib=rb-4.0.3&ixid=M3wxMjA3fDB8MHxzZWFyY2h8MjB8fHRlYXxlbnwwfHwwfHx8MA%3D%3D\",\"id\":13},{\"title\":\"Islatte\",\"description\":\"Iced latte \\xc3\\xa4r en kyld kaffedryck som g\\xc3\\xb6rs genom att blanda espresso och kyld mj\\xc3\\xb6lk. Den serveras med isbitar och \\xc3\\xa4r \\xc3\\xa4ven k\\xc3\\xa4nd som caf\\xc3\\xa8 latte iced eller latte on the rocks.\",\"ingredients\":[\"Espresso\",\"Mj\\xc3\\xb6lk\",\"Is\",\"Sirap\"],\"image\":\"https://images.unsplash.com/photo-1517701550927-30cf4ba1dba5?auto=format&fit=crop&q=60&w=800&ixlib=rb-4.0.3&ixid=M3wxMjA3fDB8MHxzZWFyY2h8NHx8aWNlZCUyMGxhdHRlfGVufDB8fDB8fHww\",\"id\":14},{\"title\":\"Islatte Mocha\",\"description\":\"Iced latte Mocha \\xc3\\xa4r en kombination av latte och mocha, som i sig \\xc3\\xa4r en kombination av choklad och kaffe. Den ger kalla dryck\\xc3\\xa4lskare en l\\xc3\\xa4cker upplevelse av choklad och kaffe.\",\"ingredients\":[\"Espresso\",\"Is\",\"Mj\\xc3\\xb6lk\",\"Choklad \"],\"image\":\"https://images.unsplash.com/photo-1642647391072-6a2416f048e5?auto=format&fit=crop&q=60&w=800&ixlib=rb-4.0.3&ixid=M3wxMjA3fDB8MHxzZWFyY2h8Mzh8fGljZWQlMjBtb2NoYSUyMGxhdHRlfGVufDB8fDB8fHww\",\"id\":15},{\"title\":\"Frapino Caramel\",\"description\":\"Det \\xc3\\xa4r en blandad eller b\\xc3\\xa4ttre sagt skakad kaffe med vispad gr\\xc3\\xa4dde p\\xc3\\xa5 toppen. Ett m\\xc3\\xa5ste f\\xc3\\xb6r varma sommardagar.\",\"ingredients\":[\"coffee\",\"Is\",\"Mj\\xc3\\xb6lk\",\"Karamellsirap\",\"Vispgr\\xc3\\xa4dde*\",\"Karamells\\xc3\\xa5s\"],\"image\":\"https://images.unsplash.com/photo-1662047102608-a6f2e492411f?auto=format&fit=crop&q=60&w=800&ixlib=rb-4.0.3&ixid=M3wxMjA3fDB8MHxzZWFyY2h8NHx8ZnJhcGlubyUyMGNhcmFtZWx8ZW58MHx8MHx8fDA%3D\",\"id\":16},{\"title\":\"Frapino Mocka\",\"description\":\"\\xc3\\x84nnu en ber\\xc3\\xb6md och uts\\xc3\\xb6kt kall dryck f\\xc3\\xb6r dem som f\\xc3\\xb6redrar choklad. T\\xc3\\xa4nk dig smaken av en shake med choklad och vispad gr\\xc3\\xa4dde p\\xc3\\xa5 toppen.\",\"ingredients\":[\"Coffee\",\"Is\",\"Mj\\xc3\\xb6lk\",\"Cocoa\",\"Vispgr\\xc3\\xa4dde*\"],\"image\":\"https://images.unsplash.com/photo-1530373239216-42518e6b4063?auto=format&fit=crop&q=60&w=800&ixlib=rb-4.0.3&ixid=M3wxMjA3fDB8MHxzZWFyY2h8NHx8ZnJhcGlubyUyMG1vY2hhfGVufDB8fDB8fHww\",\"id\":17},{\"title\":\"Apelsinjuice\",\"description\":\"Vi har inget att s\\xc3\\xa4ga om v\\xc3\\xa5r nypressade apelsinjuice. Du m\\xc3\\xa5ste prova den sj\\xc3\\xa4lv.\",\"ingredients\":[\"F\\xc3\\xa4rska Apelsiner\",\"Is\"],\"image\":\"https://images.unsplash.com/photo-1600271886742-f049cd451bba?auto=format&fit=crop&q=60&w=800&ixlib=rb-4.0.3&ixid=M3wxMjA3fDB8MHxzZWFyY2h8NzF8fG9yYW5nZSUyMGp1aWNlfGVufDB8fDB8fHww\",\"id\":18},{\"title\":\"Frozen Lemonade\",\"description\":\"Frozen lemonade \\xc3\\xa4r en uppfriskande sommardryck som kombinerar f\\xc3\\xa4rskpressad citronsaft, is och s\\xc3\\xb6tning till en svalkande, syrlig och s\\xc3\\xb6tsyrlig smaksensation.\",\"ingredients\":[\"Citronsaft\",\"Is\",\"Socker*\"],\"image\":\"https://images.unsplash.com/photo-1523371054106-bbf80586c38c?w=900&auto=format&fit=crop&q=60&ixlib=rb-4.0.3&ixid=M3wxMjA3fDB8MHxzZWFyY2h8MTZ8fGxlbW9uYWRlJTIwd2l0aCUyMGljZXxlbnwwfHwwfHx8MA%3D%3D\",\"id\":19},{\"title\":\"Lemonad\",\"description\":\"Var k\\xc3\\xa4nd i Paris f\\xc3\\xb6rst och blev sedan mycket popul\\xc3\\xa4r i hela Europa. Denna s\\xc3\\xb6ta, f\\xc3\\xa4rgl\\xc3\\xb6sa, kolsyrade dryck g\\xc3\\xb6rs genom att blanda citronsaft och kolsyrat vatten.\",\"ingredients\":[\"Citronsaft\",\"Kolsyrat vatten\",\"Honung\"],\"image\":\"https://images.unsplash.com/photo-1621263764928-df1444c5e859?auto=format&fit=crop&q=60&w=800&ixlib=rb-4.0.3&ixid=M3wxMjA3fDB8MHxzZWFyY2h8Nnx8bGVtb25hZGV8ZW58MHx8MHx8fDA%3D\",\"id\":20}]'"
      ]
     },
     "execution_count": 6,
     "metadata": {},
     "output_type": "execute_result"
    }
   ],
   "source": [
    "# Check the correct endpoint again and check the raw content of the API response.\n",
    "response.content"
>>>>>>> 27abb7cde2f2c449d1e9d586b2022a91e4a64529
   ]
  },
  {
   "cell_type": "code",
<<<<<<< HEAD
   "execution_count": null,
   "id": "8cd47564-8d1b-48c1-879b-cf0110e0531e",
   "metadata": {},
   "outputs": [],
   "source": [
    "# Visualize the content of the list in JSON format\n"
=======
   "execution_count": 7,
   "id": "8cd47564-8d1b-48c1-879b-cf0110e0531e",
   "metadata": {},
   "outputs": [
    {
     "data": {
      "text/plain": [
       "[{'title': 'Black Coffee',\n",
       "  'description': 'Svart kaffe är så enkelt som det kan bli med malda kaffebönor dränkta i hett vatten, serverat varmt. Och om du vill låta fancy kan du kalla svart kaffe med sitt rätta namn: café noir.',\n",
       "  'ingredients': ['Coffee'],\n",
       "  'image': 'https://images.unsplash.com/photo-1494314671902-399b18174975?auto=format&fit=crop&q=80&w=1887&ixlib=rb-4.0.3&ixid=M3wxMjA3fDB8MHxwaG90by1wYWdlfHx8fGVufDB8fHx8fA%3D%3D',\n",
       "  'id': 1},\n",
       " {'title': 'Latte',\n",
       "  'description': 'Som den mest populära kaffedrycken där ute består latte av en skvätt espresso och ångad mjölk med bara en gnutta skum. Den kan beställas utan smak eller med smak av allt från vanilj till pumpa kryddor.',\n",
       "  'ingredients': ['Espresso', 'Ångad mjölk'],\n",
       "  'image': 'https://images.unsplash.com/photo-1561882468-9110e03e0f78?auto=format&fit=crop&q=60&w=800&ixlib=rb-4.0.3&ixid=M3wxMjA3fDB8MHxzZWFyY2h8MTl8fGxhdHRlfGVufDB8fDB8fHww',\n",
       "  'id': 2},\n",
       " {'title': 'Caramel Latte',\n",
       "  'description': 'Om du gillar latte med en speciell smak kan karamell latte vara det bästa alternativet för att ge dig en upplevelse av den naturliga sötman och krämigheten hos ångad mjölk och karamell.',\n",
       "  'ingredients': ['Espresso', 'Ångad mjölk', 'Karamellsirap'],\n",
       "  'image': 'https://images.unsplash.com/photo-1599398054066-846f28917f38?auto=format&fit=crop&q=80&w=1887&ixlib=rb-4.0.3&ixid=M3wxMjA3fDB8MHxwaG90by1wYWdlfHx8fGVufDB8fHx8fA%3D%3D',\n",
       "  'id': 3},\n",
       " {'title': 'Cappuccino',\n",
       "  'description': 'Cappuccino är en latte som är gjord med mer skum än ångad mjölk, ofta med ett strö av kakaopulver eller kanel på toppen. Ibland kan du hitta variationer som använder grädde istället för mjölk eller sådana som tillsätter smakämnen också.',\n",
       "  'ingredients': ['Espresso', 'Ångad mjölk', 'Foam'],\n",
       "  'image': 'https://images.unsplash.com/photo-1557006021-b85faa2bc5e2?auto=format&fit=crop&q=80&w=1887&ixlib=rb-4.0.3&ixid=M3wxMjA3fDB8MHxwaG90by1wYWdlfHx8fGVufDB8fHx8fA%3D%3D',\n",
       "  'id': 4},\n",
       " {'title': 'Americano',\n",
       "  'description': 'Med en liknande smak som svart kaffe består americano av en espresso skott utspätt med hett vatten.',\n",
       "  'ingredients': ['Espresso', 'Hett vatten'],\n",
       "  'image': 'https://images.unsplash.com/photo-1532004491497-ba35c367d634?auto=format&fit=crop&q=80&w=1887&ixlib=rb-4.0.3&ixid=M3wxMjA3fDB8MHxwaG90by1wYWdlfHx8fGVufDB8fHx8fA%3D%3D',\n",
       "  'id': 5},\n",
       " {'title': 'Espresso',\n",
       "  'description': 'Ett espressoskott kan serveras ensamt eller användas som grund för de flesta kaffedrycker, som latte och macchiato.',\n",
       "  'ingredients': ['Espresso'],\n",
       "  'image': 'https://images.unsplash.com/photo-1579992357154-faf4bde95b3d?auto=format&fit=crop&q=80&w=1887&ixlib=rb-4.0.3&ixid=M3wxMjA3fDB8MHxwaG90by1wYWdlfHx8fGVufDB8fHx8fA%3D%3D',\n",
       "  'id': 6},\n",
       " {'title': 'Macchiato',\n",
       "  'description': 'Macchiaton är en annan espresso-baserad dryck som har en liten mängd skum på toppen. Det är det glada mellanrummet mellan en cappuccino och en doppio.',\n",
       "  'ingredients': ['Espresso', 'Foam'],\n",
       "  'image': 'https://images.unsplash.com/photo-1557772611-722dabe20327?auto=format&fit=crop&q=80&w=1887&ixlib=rb-4.0.3&ixid=M3wxMjA3fDB8MHxwaG90by1wYWdlfHx8fGVufDB8fHx8fA%3D%3D',\n",
       "  'id': 7},\n",
       " {'title': 'Mocha',\n",
       "  'description': 'För alla chokladälskare där ute kommer ni att bli förälskade i en mocha. Mocha är en choklad-espressodryck med ångad mjölk och skum.',\n",
       "  'ingredients': ['Espresso', 'Ångad mjölk', 'Choklad'],\n",
       "  'image': 'https://images.unsplash.com/photo-1607260550778-aa9d29444ce1?auto=format&fit=crop&q=80&w=1887&ixlib=rb-4.0.3&ixid=M3wxMjA3fDB8MHxwaG90by1wYWdlfHx8fGVufDB8fHx8fA%3D%3D',\n",
       "  'id': 8},\n",
       " {'title': 'Hot Chocolate',\n",
       "  'description': 'Under kalla vinterdagar får en kopp varm choklad dig att känna dig bekväm och lycklig. Den får dig också att må bra eftersom den innehåller energigivande koffein.',\n",
       "  'ingredients': ['Choklad', 'Mjölk'],\n",
       "  'image': 'https://images.unsplash.com/photo-1542990253-0d0f5be5f0ed?auto=format&fit=crop&q=60&w=800&ixlib=rb-4.0.3&ixid=M3wxMjA3fDB8MHxzZWFyY2h8NDh8fGhvdCUyMGNob2NvbGF0ZXxlbnwwfHwwfHx8MA%3D%3D',\n",
       "  'id': 9},\n",
       " {'title': 'Chai Latte',\n",
       "  'description': 'Om du letar efter en smakfull varm dryck mitt i vintern, välj chai latte. Kombinationen av kardemumma och kanel ger en underbar smak.',\n",
       "  'ingredients': ['Te', 'Mjölk', 'Ingefära', 'Kardemumma', 'Kanel'],\n",
       "  'image': 'https://images.unsplash.com/photo-1578899952107-9c390f1af1b7?w=900&auto=format&fit=crop&q=60&ixlib=rb-4.0.3&ixid=M3wxMjA3fDB8MHxzZWFyY2h8MTJ8fGNoYWklMjBsYXR0ZXxlbnwwfHwwfHx8MA%3D%3D',\n",
       "  'id': 10},\n",
       " {'title': 'Matcha Latte',\n",
       "  'description': 'Matcha latte är en grön, hälsosam kaffedryck med finkrossad matcha-te och mjölk, erbjuder mild sötma, en unik smak och en mild koffeinkick.',\n",
       "  'ingredients': ['Matcha-pulver', 'Mjölk', 'Socker*'],\n",
       "  'image': 'https://images.unsplash.com/photo-1536256263959-770b48d82b0a?w=900&auto=format&fit=crop&q=60&ixlib=rb-4.0.3&ixid=M3wxMjA3fDB8MHxzZWFyY2h8M3x8bWF0Y2hhJTIwbGF0dGV8ZW58MHx8MHx8fDA%3D',\n",
       "  'id': 11},\n",
       " {'title': 'Seasonal Brew',\n",
       "  'description': 'Säsongs kaffe med olika smaktoner som karamell, frukt och choklad',\n",
       "  'ingredients': ['Kaffe'],\n",
       "  'image': 'https://images.unsplash.com/photo-1611162458324-aae1eb4129a4?w=900&auto=format&fit=crop&q=60&ixlib=rb-4.0.3&ixid=M3wxMjA3fDB8MHxzZWFyY2h8MTg1fHxibGFjayUyMGNvZmZlZXxlbnwwfHwwfHx8MA%3D%3D',\n",
       "  'id': 12},\n",
       " {'title': 'Svart Te',\n",
       "  'description': 'Svart te föddes i Kina. Det är tillverkat av blad från en växt som kallas Camellia och kan smaksättas olika med frukter till exempel. En trevlig, varm, smakfull och aromatisk dryck som passar till vardagen.',\n",
       "  'ingredients': ['Te'],\n",
       "  'image': 'https://images.unsplash.com/photo-1576092768241-dec231879fc3?auto=format&fit=crop&q=60&w=800&ixlib=rb-4.0.3&ixid=M3wxMjA3fDB8MHxzZWFyY2h8MjB8fHRlYXxlbnwwfHwwfHx8MA%3D%3D',\n",
       "  'id': 13},\n",
       " {'title': 'Islatte',\n",
       "  'description': 'Iced latte är en kyld kaffedryck som görs genom att blanda espresso och kyld mjölk. Den serveras med isbitar och är även känd som cafè latte iced eller latte on the rocks.',\n",
       "  'ingredients': ['Espresso', 'Mjölk', 'Is', 'Sirap'],\n",
       "  'image': 'https://images.unsplash.com/photo-1517701550927-30cf4ba1dba5?auto=format&fit=crop&q=60&w=800&ixlib=rb-4.0.3&ixid=M3wxMjA3fDB8MHxzZWFyY2h8NHx8aWNlZCUyMGxhdHRlfGVufDB8fDB8fHww',\n",
       "  'id': 14},\n",
       " {'title': 'Islatte Mocha',\n",
       "  'description': 'Iced latte Mocha är en kombination av latte och mocha, som i sig är en kombination av choklad och kaffe. Den ger kalla dryckälskare en läcker upplevelse av choklad och kaffe.',\n",
       "  'ingredients': ['Espresso', 'Is', 'Mjölk', 'Choklad '],\n",
       "  'image': 'https://images.unsplash.com/photo-1642647391072-6a2416f048e5?auto=format&fit=crop&q=60&w=800&ixlib=rb-4.0.3&ixid=M3wxMjA3fDB8MHxzZWFyY2h8Mzh8fGljZWQlMjBtb2NoYSUyMGxhdHRlfGVufDB8fDB8fHww',\n",
       "  'id': 15},\n",
       " {'title': 'Frapino Caramel',\n",
       "  'description': 'Det är en blandad eller bättre sagt skakad kaffe med vispad grädde på toppen. Ett måste för varma sommardagar.',\n",
       "  'ingredients': ['coffee',\n",
       "   'Is',\n",
       "   'Mjölk',\n",
       "   'Karamellsirap',\n",
       "   'Vispgrädde*',\n",
       "   'Karamellsås'],\n",
       "  'image': 'https://images.unsplash.com/photo-1662047102608-a6f2e492411f?auto=format&fit=crop&q=60&w=800&ixlib=rb-4.0.3&ixid=M3wxMjA3fDB8MHxzZWFyY2h8NHx8ZnJhcGlubyUyMGNhcmFtZWx8ZW58MHx8MHx8fDA%3D',\n",
       "  'id': 16},\n",
       " {'title': 'Frapino Mocka',\n",
       "  'description': 'Ännu en berömd och utsökt kall dryck för dem som föredrar choklad. Tänk dig smaken av en shake med choklad och vispad grädde på toppen.',\n",
       "  'ingredients': ['Coffee', 'Is', 'Mjölk', 'Cocoa', 'Vispgrädde*'],\n",
       "  'image': 'https://images.unsplash.com/photo-1530373239216-42518e6b4063?auto=format&fit=crop&q=60&w=800&ixlib=rb-4.0.3&ixid=M3wxMjA3fDB8MHxzZWFyY2h8NHx8ZnJhcGlubyUyMG1vY2hhfGVufDB8fDB8fHww',\n",
       "  'id': 17},\n",
       " {'title': 'Apelsinjuice',\n",
       "  'description': 'Vi har inget att säga om vår nypressade apelsinjuice. Du måste prova den själv.',\n",
       "  'ingredients': ['Färska Apelsiner', 'Is'],\n",
       "  'image': 'https://images.unsplash.com/photo-1600271886742-f049cd451bba?auto=format&fit=crop&q=60&w=800&ixlib=rb-4.0.3&ixid=M3wxMjA3fDB8MHxzZWFyY2h8NzF8fG9yYW5nZSUyMGp1aWNlfGVufDB8fDB8fHww',\n",
       "  'id': 18},\n",
       " {'title': 'Frozen Lemonade',\n",
       "  'description': 'Frozen lemonade är en uppfriskande sommardryck som kombinerar färskpressad citronsaft, is och sötning till en svalkande, syrlig och sötsyrlig smaksensation.',\n",
       "  'ingredients': ['Citronsaft', 'Is', 'Socker*'],\n",
       "  'image': 'https://images.unsplash.com/photo-1523371054106-bbf80586c38c?w=900&auto=format&fit=crop&q=60&ixlib=rb-4.0.3&ixid=M3wxMjA3fDB8MHxzZWFyY2h8MTZ8fGxlbW9uYWRlJTIwd2l0aCUyMGljZXxlbnwwfHwwfHx8MA%3D%3D',\n",
       "  'id': 19},\n",
       " {'title': 'Lemonad',\n",
       "  'description': 'Var känd i Paris först och blev sedan mycket populär i hela Europa. Denna söta, färglösa, kolsyrade dryck görs genom att blanda citronsaft och kolsyrat vatten.',\n",
       "  'ingredients': ['Citronsaft', 'Kolsyrat vatten', 'Honung'],\n",
       "  'image': 'https://images.unsplash.com/photo-1621263764928-df1444c5e859?auto=format&fit=crop&q=60&w=800&ixlib=rb-4.0.3&ixid=M3wxMjA3fDB8MHxzZWFyY2h8Nnx8bGVtb25hZGV8ZW58MHx8MHx8fDA%3D',\n",
       "  'id': 20}]"
      ]
     },
     "execution_count": 7,
     "metadata": {},
     "output_type": "execute_result"
    }
   ],
   "source": [
    "# Visualize the content of the list in JSON format\n",
    "response.json()"
>>>>>>> 27abb7cde2f2c449d1e9d586b2022a91e4a64529
   ]
  },
  {
   "cell_type": "code",
<<<<<<< HEAD
   "execution_count": null,
   "id": "dcdb7a34-b820-41b3-aafe-76ebbd47b62b",
   "metadata": {},
   "outputs": [],
   "source": [
    "# Check the type of response\n"
=======
   "execution_count": 8,
   "id": "dcdb7a34-b820-41b3-aafe-76ebbd47b62b",
   "metadata": {},
   "outputs": [
    {
     "data": {
      "text/plain": [
       "requests.models.Response"
      ]
     },
     "execution_count": 8,
     "metadata": {},
     "output_type": "execute_result"
    }
   ],
   "source": [
    "# Check the type of response\n",
    "type(response)"
>>>>>>> 27abb7cde2f2c449d1e9d586b2022a91e4a64529
   ]
  },
  {
   "cell_type": "code",
<<<<<<< HEAD
   "execution_count": null,
   "id": "196dd16c-18da-4107-97be-6d1f7dad3156",
   "metadata": {},
   "outputs": [],
   "source": [
    "# Access the first item on the list\n"
=======
   "execution_count": 10,
   "id": "196dd16c-18da-4107-97be-6d1f7dad3156",
   "metadata": {},
   "outputs": [
    {
     "data": {
      "text/plain": [
       "{'title': 'Black Coffee',\n",
       " 'description': 'Svart kaffe är så enkelt som det kan bli med malda kaffebönor dränkta i hett vatten, serverat varmt. Och om du vill låta fancy kan du kalla svart kaffe med sitt rätta namn: café noir.',\n",
       " 'ingredients': ['Coffee'],\n",
       " 'image': 'https://images.unsplash.com/photo-1494314671902-399b18174975?auto=format&fit=crop&q=80&w=1887&ixlib=rb-4.0.3&ixid=M3wxMjA3fDB8MHxwaG90by1wYWdlfHx8fGVufDB8fHx8fA%3D%3D',\n",
       " 'id': 1}"
      ]
     },
     "execution_count": 10,
     "metadata": {},
     "output_type": "execute_result"
    }
   ],
   "source": [
    "# Access the first item on the list\n",
    "response_list = response.json()\n",
    "response_list[0]"
>>>>>>> 27abb7cde2f2c449d1e9d586b2022a91e4a64529
   ]
  },
  {
   "cell_type": "code",
<<<<<<< HEAD
   "execution_count": null,
   "id": "41ae6448-e57e-48b0-8b89-df6da577a477",
   "metadata": {},
   "outputs": [],
   "source": [
    "# Check the type of the first item in the list\n"
=======
   "execution_count": 11,
   "id": "41ae6448-e57e-48b0-8b89-df6da577a477",
   "metadata": {},
   "outputs": [
    {
     "data": {
      "text/plain": [
       "dict"
      ]
     },
     "execution_count": 11,
     "metadata": {},
     "output_type": "execute_result"
    }
   ],
   "source": [
    "# Check the type of the first item in the list\n",
    "type(response_list[0])"
>>>>>>> 27abb7cde2f2c449d1e9d586b2022a91e4a64529
   ]
  },
  {
   "cell_type": "code",
<<<<<<< HEAD
   "execution_count": null,
   "id": "328b2e18-eea6-4428-bd48-b4dc61feda20",
   "metadata": {},
   "outputs": [],
   "source": [
    "# Consult the \"title\" of the first element returned by the endpoint\n"
=======
   "execution_count": 12,
   "id": "328b2e18-eea6-4428-bd48-b4dc61feda20",
   "metadata": {},
   "outputs": [
    {
     "data": {
      "text/plain": [
       "'Black Coffee'"
      ]
     },
     "execution_count": 12,
     "metadata": {},
     "output_type": "execute_result"
    }
   ],
   "source": [
    "# Consult the \"title\" of the first element returned by the endpoint\n",
    "response_list[0]['title']"
>>>>>>> 27abb7cde2f2c449d1e9d586b2022a91e4a64529
   ]
  },
  {
   "cell_type": "code",
<<<<<<< HEAD
   "execution_count": null,
   "id": "a7b1d8e6-7e3e-4ec7-9204-d7ea9f1f0d9c",
   "metadata": {},
   "outputs": [],
   "source": [
    "# Query the \"title\" of the penultimate element returned by the endpoint"
=======
   "execution_count": 14,
   "id": "a7b1d8e6-7e3e-4ec7-9204-d7ea9f1f0d9c",
   "metadata": {},
   "outputs": [
    {
     "data": {
      "text/plain": [
       "'Frozen Lemonade'"
      ]
     },
     "execution_count": 14,
     "metadata": {},
     "output_type": "execute_result"
    }
   ],
   "source": [
    "# Query the \"title\" of the penultimate element returned by the endpoint\n",
    "response_list[-2]['title']"
>>>>>>> 27abb7cde2f2c449d1e9d586b2022a91e4a64529
   ]
  },
  {
   "cell_type": "code",
<<<<<<< HEAD
   "execution_count": null,
=======
   "execution_count": 19,
>>>>>>> 27abb7cde2f2c449d1e9d586b2022a91e4a64529
   "id": "530ecc56",
   "metadata": {},
   "outputs": [],
   "source": [
    "# We can create dataframes with data from a query\n",
    "# import pandas\n",
<<<<<<< HEAD
    "# Use the constructor 'Dataframe()'\n"
=======
    "# Use the constructor 'Dataframe()'\n",
    "import pandas as pd\n",
    "\n",
    "df = pd.DataFrame(response_list)"
>>>>>>> 27abb7cde2f2c449d1e9d586b2022a91e4a64529
   ]
  },
  {
   "cell_type": "code",
<<<<<<< HEAD
   "execution_count": null,
   "id": "93ce0a3d",
   "metadata": {},
   "outputs": [],
   "source": [
    "# Show the new created Dataframe"
=======
   "execution_count": 20,
   "id": "93ce0a3d",
   "metadata": {},
   "outputs": [
    {
     "data": {
      "text/html": [
       "<div>\n",
       "<style scoped>\n",
       "    .dataframe tbody tr th:only-of-type {\n",
       "        vertical-align: middle;\n",
       "    }\n",
       "\n",
       "    .dataframe tbody tr th {\n",
       "        vertical-align: top;\n",
       "    }\n",
       "\n",
       "    .dataframe thead th {\n",
       "        text-align: right;\n",
       "    }\n",
       "</style>\n",
       "<table border=\"1\" class=\"dataframe\">\n",
       "  <thead>\n",
       "    <tr style=\"text-align: right;\">\n",
       "      <th></th>\n",
       "      <th>title</th>\n",
       "      <th>description</th>\n",
       "      <th>ingredients</th>\n",
       "      <th>image</th>\n",
       "      <th>id</th>\n",
       "    </tr>\n",
       "  </thead>\n",
       "  <tbody>\n",
       "    <tr>\n",
       "      <th>0</th>\n",
       "      <td>Black Coffee</td>\n",
       "      <td>Svart kaffe är så enkelt som det kan bli med m...</td>\n",
       "      <td>[Coffee]</td>\n",
       "      <td>https://images.unsplash.com/photo-149431467190...</td>\n",
       "      <td>1</td>\n",
       "    </tr>\n",
       "    <tr>\n",
       "      <th>1</th>\n",
       "      <td>Latte</td>\n",
       "      <td>Som den mest populära kaffedrycken där ute bes...</td>\n",
       "      <td>[Espresso, Ångad mjölk]</td>\n",
       "      <td>https://images.unsplash.com/photo-1561882468-9...</td>\n",
       "      <td>2</td>\n",
       "    </tr>\n",
       "    <tr>\n",
       "      <th>2</th>\n",
       "      <td>Caramel Latte</td>\n",
       "      <td>Om du gillar latte med en speciell smak kan ka...</td>\n",
       "      <td>[Espresso, Ångad mjölk, Karamellsirap]</td>\n",
       "      <td>https://images.unsplash.com/photo-159939805406...</td>\n",
       "      <td>3</td>\n",
       "    </tr>\n",
       "    <tr>\n",
       "      <th>3</th>\n",
       "      <td>Cappuccino</td>\n",
       "      <td>Cappuccino är en latte som är gjord med mer sk...</td>\n",
       "      <td>[Espresso, Ångad mjölk, Foam]</td>\n",
       "      <td>https://images.unsplash.com/photo-1557006021-b...</td>\n",
       "      <td>4</td>\n",
       "    </tr>\n",
       "    <tr>\n",
       "      <th>4</th>\n",
       "      <td>Americano</td>\n",
       "      <td>Med en liknande smak som svart kaffe består am...</td>\n",
       "      <td>[Espresso, Hett vatten]</td>\n",
       "      <td>https://images.unsplash.com/photo-153200449149...</td>\n",
       "      <td>5</td>\n",
       "    </tr>\n",
       "    <tr>\n",
       "      <th>5</th>\n",
       "      <td>Espresso</td>\n",
       "      <td>Ett espressoskott kan serveras ensamt eller an...</td>\n",
       "      <td>[Espresso]</td>\n",
       "      <td>https://images.unsplash.com/photo-157999235715...</td>\n",
       "      <td>6</td>\n",
       "    </tr>\n",
       "    <tr>\n",
       "      <th>6</th>\n",
       "      <td>Macchiato</td>\n",
       "      <td>Macchiaton är en annan espresso-baserad dryck ...</td>\n",
       "      <td>[Espresso, Foam]</td>\n",
       "      <td>https://images.unsplash.com/photo-1557772611-7...</td>\n",
       "      <td>7</td>\n",
       "    </tr>\n",
       "    <tr>\n",
       "      <th>7</th>\n",
       "      <td>Mocha</td>\n",
       "      <td>För alla chokladälskare där ute kommer ni att ...</td>\n",
       "      <td>[Espresso, Ångad mjölk, Choklad]</td>\n",
       "      <td>https://images.unsplash.com/photo-160726055077...</td>\n",
       "      <td>8</td>\n",
       "    </tr>\n",
       "    <tr>\n",
       "      <th>8</th>\n",
       "      <td>Hot Chocolate</td>\n",
       "      <td>Under kalla vinterdagar får en kopp varm chokl...</td>\n",
       "      <td>[Choklad, Mjölk]</td>\n",
       "      <td>https://images.unsplash.com/photo-1542990253-0...</td>\n",
       "      <td>9</td>\n",
       "    </tr>\n",
       "    <tr>\n",
       "      <th>9</th>\n",
       "      <td>Chai Latte</td>\n",
       "      <td>Om du letar efter en smakfull varm dryck mitt ...</td>\n",
       "      <td>[Te, Mjölk, Ingefära, Kardemumma, Kanel]</td>\n",
       "      <td>https://images.unsplash.com/photo-157889995210...</td>\n",
       "      <td>10</td>\n",
       "    </tr>\n",
       "    <tr>\n",
       "      <th>10</th>\n",
       "      <td>Matcha Latte</td>\n",
       "      <td>Matcha latte är en grön, hälsosam kaffedryck m...</td>\n",
       "      <td>[Matcha-pulver, Mjölk, Socker*]</td>\n",
       "      <td>https://images.unsplash.com/photo-153625626395...</td>\n",
       "      <td>11</td>\n",
       "    </tr>\n",
       "    <tr>\n",
       "      <th>11</th>\n",
       "      <td>Seasonal Brew</td>\n",
       "      <td>Säsongs kaffe med olika smaktoner som karamell...</td>\n",
       "      <td>[Kaffe]</td>\n",
       "      <td>https://images.unsplash.com/photo-161116245832...</td>\n",
       "      <td>12</td>\n",
       "    </tr>\n",
       "    <tr>\n",
       "      <th>12</th>\n",
       "      <td>Svart Te</td>\n",
       "      <td>Svart te föddes i Kina. Det är tillverkat av b...</td>\n",
       "      <td>[Te]</td>\n",
       "      <td>https://images.unsplash.com/photo-157609276824...</td>\n",
       "      <td>13</td>\n",
       "    </tr>\n",
       "    <tr>\n",
       "      <th>13</th>\n",
       "      <td>Islatte</td>\n",
       "      <td>Iced latte är en kyld kaffedryck som görs geno...</td>\n",
       "      <td>[Espresso, Mjölk, Is, Sirap]</td>\n",
       "      <td>https://images.unsplash.com/photo-151770155092...</td>\n",
       "      <td>14</td>\n",
       "    </tr>\n",
       "    <tr>\n",
       "      <th>14</th>\n",
       "      <td>Islatte Mocha</td>\n",
       "      <td>Iced latte Mocha är en kombination av latte oc...</td>\n",
       "      <td>[Espresso, Is, Mjölk, Choklad ]</td>\n",
       "      <td>https://images.unsplash.com/photo-164264739107...</td>\n",
       "      <td>15</td>\n",
       "    </tr>\n",
       "    <tr>\n",
       "      <th>15</th>\n",
       "      <td>Frapino Caramel</td>\n",
       "      <td>Det är en blandad eller bättre sagt skakad kaf...</td>\n",
       "      <td>[coffee, Is, Mjölk, Karamellsirap, Vispgrädde*...</td>\n",
       "      <td>https://images.unsplash.com/photo-166204710260...</td>\n",
       "      <td>16</td>\n",
       "    </tr>\n",
       "    <tr>\n",
       "      <th>16</th>\n",
       "      <td>Frapino Mocka</td>\n",
       "      <td>Ännu en berömd och utsökt kall dryck för dem s...</td>\n",
       "      <td>[Coffee, Is, Mjölk, Cocoa, Vispgrädde*]</td>\n",
       "      <td>https://images.unsplash.com/photo-153037323921...</td>\n",
       "      <td>17</td>\n",
       "    </tr>\n",
       "    <tr>\n",
       "      <th>17</th>\n",
       "      <td>Apelsinjuice</td>\n",
       "      <td>Vi har inget att säga om vår nypressade apelsi...</td>\n",
       "      <td>[Färska Apelsiner, Is]</td>\n",
       "      <td>https://images.unsplash.com/photo-160027188674...</td>\n",
       "      <td>18</td>\n",
       "    </tr>\n",
       "    <tr>\n",
       "      <th>18</th>\n",
       "      <td>Frozen Lemonade</td>\n",
       "      <td>Frozen lemonade är en uppfriskande sommardryck...</td>\n",
       "      <td>[Citronsaft, Is, Socker*]</td>\n",
       "      <td>https://images.unsplash.com/photo-152337105410...</td>\n",
       "      <td>19</td>\n",
       "    </tr>\n",
       "    <tr>\n",
       "      <th>19</th>\n",
       "      <td>Lemonad</td>\n",
       "      <td>Var känd i Paris först och blev sedan mycket p...</td>\n",
       "      <td>[Citronsaft, Kolsyrat vatten, Honung]</td>\n",
       "      <td>https://images.unsplash.com/photo-162126376492...</td>\n",
       "      <td>20</td>\n",
       "    </tr>\n",
       "  </tbody>\n",
       "</table>\n",
       "</div>"
      ],
      "text/plain": [
       "              title                                        description  \\\n",
       "0      Black Coffee  Svart kaffe är så enkelt som det kan bli med m...   \n",
       "1             Latte  Som den mest populära kaffedrycken där ute bes...   \n",
       "2     Caramel Latte  Om du gillar latte med en speciell smak kan ka...   \n",
       "3        Cappuccino  Cappuccino är en latte som är gjord med mer sk...   \n",
       "4         Americano  Med en liknande smak som svart kaffe består am...   \n",
       "5          Espresso  Ett espressoskott kan serveras ensamt eller an...   \n",
       "6         Macchiato  Macchiaton är en annan espresso-baserad dryck ...   \n",
       "7             Mocha  För alla chokladälskare där ute kommer ni att ...   \n",
       "8     Hot Chocolate  Under kalla vinterdagar får en kopp varm chokl...   \n",
       "9        Chai Latte  Om du letar efter en smakfull varm dryck mitt ...   \n",
       "10     Matcha Latte  Matcha latte är en grön, hälsosam kaffedryck m...   \n",
       "11    Seasonal Brew  Säsongs kaffe med olika smaktoner som karamell...   \n",
       "12         Svart Te  Svart te föddes i Kina. Det är tillverkat av b...   \n",
       "13          Islatte  Iced latte är en kyld kaffedryck som görs geno...   \n",
       "14    Islatte Mocha  Iced latte Mocha är en kombination av latte oc...   \n",
       "15  Frapino Caramel  Det är en blandad eller bättre sagt skakad kaf...   \n",
       "16    Frapino Mocka  Ännu en berömd och utsökt kall dryck för dem s...   \n",
       "17     Apelsinjuice  Vi har inget att säga om vår nypressade apelsi...   \n",
       "18  Frozen Lemonade  Frozen lemonade är en uppfriskande sommardryck...   \n",
       "19          Lemonad  Var känd i Paris först och blev sedan mycket p...   \n",
       "\n",
       "                                          ingredients  \\\n",
       "0                                            [Coffee]   \n",
       "1                             [Espresso, Ångad mjölk]   \n",
       "2              [Espresso, Ångad mjölk, Karamellsirap]   \n",
       "3                       [Espresso, Ångad mjölk, Foam]   \n",
       "4                             [Espresso, Hett vatten]   \n",
       "5                                          [Espresso]   \n",
       "6                                    [Espresso, Foam]   \n",
       "7                    [Espresso, Ångad mjölk, Choklad]   \n",
       "8                                    [Choklad, Mjölk]   \n",
       "9            [Te, Mjölk, Ingefära, Kardemumma, Kanel]   \n",
       "10                    [Matcha-pulver, Mjölk, Socker*]   \n",
       "11                                            [Kaffe]   \n",
       "12                                               [Te]   \n",
       "13                       [Espresso, Mjölk, Is, Sirap]   \n",
       "14                    [Espresso, Is, Mjölk, Choklad ]   \n",
       "15  [coffee, Is, Mjölk, Karamellsirap, Vispgrädde*...   \n",
       "16            [Coffee, Is, Mjölk, Cocoa, Vispgrädde*]   \n",
       "17                             [Färska Apelsiner, Is]   \n",
       "18                          [Citronsaft, Is, Socker*]   \n",
       "19              [Citronsaft, Kolsyrat vatten, Honung]   \n",
       "\n",
       "                                                image  id  \n",
       "0   https://images.unsplash.com/photo-149431467190...   1  \n",
       "1   https://images.unsplash.com/photo-1561882468-9...   2  \n",
       "2   https://images.unsplash.com/photo-159939805406...   3  \n",
       "3   https://images.unsplash.com/photo-1557006021-b...   4  \n",
       "4   https://images.unsplash.com/photo-153200449149...   5  \n",
       "5   https://images.unsplash.com/photo-157999235715...   6  \n",
       "6   https://images.unsplash.com/photo-1557772611-7...   7  \n",
       "7   https://images.unsplash.com/photo-160726055077...   8  \n",
       "8   https://images.unsplash.com/photo-1542990253-0...   9  \n",
       "9   https://images.unsplash.com/photo-157889995210...  10  \n",
       "10  https://images.unsplash.com/photo-153625626395...  11  \n",
       "11  https://images.unsplash.com/photo-161116245832...  12  \n",
       "12  https://images.unsplash.com/photo-157609276824...  13  \n",
       "13  https://images.unsplash.com/photo-151770155092...  14  \n",
       "14  https://images.unsplash.com/photo-164264739107...  15  \n",
       "15  https://images.unsplash.com/photo-166204710260...  16  \n",
       "16  https://images.unsplash.com/photo-153037323921...  17  \n",
       "17  https://images.unsplash.com/photo-160027188674...  18  \n",
       "18  https://images.unsplash.com/photo-152337105410...  19  \n",
       "19  https://images.unsplash.com/photo-162126376492...  20  "
      ]
     },
     "execution_count": 20,
     "metadata": {},
     "output_type": "execute_result"
    }
   ],
   "source": [
    "# Show the new created Dataframe\n",
    "df"
>>>>>>> 27abb7cde2f2c449d1e9d586b2022a91e4a64529
   ]
  },
  {
   "cell_type": "code",
<<<<<<< HEAD
   "execution_count": null,
   "id": "69026c49-17fa-4056-a44f-68ff6b415a06",
   "metadata": {},
   "outputs": [],
=======
   "execution_count": 33,
   "id": "69026c49-17fa-4056-a44f-68ff6b415a06",
   "metadata": {},
   "outputs": [
    {
     "data": {
      "text/plain": [
       "[{'id': 1,\n",
       "  'title': 'Inside Out',\n",
       "  'posterURL': 'https://m.media-amazon.com/images/M/MV5BOTgxMDQwMDk0OF5BMl5BanBnXkFtZTgwNjU5OTg2NDE@._V1_SX300.jpg',\n",
       "  'imdbId': 'tt2096673'},\n",
       " {'id': 2,\n",
       "  'title': 'Coco',\n",
       "  'posterURL': 'https://m.media-amazon.com/images/M/MV5BYjQ5NjM0Y2YtNjZkNC00ZDhkLWJjMWItN2QyNzFkMDE3ZjAxXkEyXkFqcGdeQXVyODIxMzk5NjA@._V1_SX300.jpg',\n",
       "  'imdbId': 'tt2380307'},\n",
       " {'id': 3,\n",
       "  'title': 'Incredibles 2',\n",
       "  'posterURL': 'https://m.media-amazon.com/images/M/MV5BMTEzNzY0OTg0NTdeQTJeQWpwZ15BbWU4MDU3OTg3MjUz._V1_SX300.jpg',\n",
       "  'imdbId': 'tt3606756'},\n",
       " {'id': 4,\n",
       "  'title': 'Snow White and the Seven Dwarfs',\n",
       "  'posterURL': 'https://m.media-amazon.com/images/M/MV5BMTQwMzE2Mzc4M15BMl5BanBnXkFtZTcwMTE4NTc1Nw@@._V1_SX300.jpg',\n",
       "  'imdbId': 'tt0029583'},\n",
       " {'id': 5,\n",
       "  'title': 'Zootopia',\n",
       "  'posterURL': 'https://m.media-amazon.com/images/M/MV5BOTMyMjEyNzIzMV5BMl5BanBnXkFtZTgwNzIyNjU0NzE@._V1_SX300.jpg',\n",
       "  'imdbId': 'tt2948356'},\n",
       " {'id': 6,\n",
       "  'title': 'Toy Story 2',\n",
       "  'posterURL': 'https://m.media-amazon.com/images/M/MV5BMWM5ZDcxMTYtNTEyNS00MDRkLWI3YTItNThmMGExMWY4NDIwXkEyXkFqcGdeQXVyNjUwNzk3NDc@._V1_SX300.jpg',\n",
       "  'imdbId': 'tt0120363'},\n",
       " {'id': 7,\n",
       "  'title': 'Up',\n",
       "  'posterURL': 'https://m.media-amazon.com/images/M/MV5BMTk3NDE2NzI4NF5BMl5BanBnXkFtZTgwNzE1MzEyMTE@._V1_SX300.jpg',\n",
       "  'imdbId': 'tt1049413'},\n",
       " {'id': 8,\n",
       "  'title': 'Toy Story 3',\n",
       "  'posterURL': 'https://m.media-amazon.com/images/M/MV5BMTgxOTY4Mjc0MF5BMl5BanBnXkFtZTcwNTA4MDQyMw@@._V1_SX300.jpg',\n",
       "  'imdbId': 'tt0435761'},\n",
       " {'id': 9,\n",
       "  'title': 'Finding Nemo',\n",
       "  'posterURL': 'https://m.media-amazon.com/images/M/MV5BZTAzNWZlNmUtZDEzYi00ZjA5LWIwYjEtZGM1NWE1MjE4YWRhXkEyXkFqcGdeQXVyNjU0OTQ0OTY@._V1_SX300.jpg',\n",
       "  'imdbId': 'tt0266543'},\n",
       " {'id': 10,\n",
       "  'title': 'Finding Dory',\n",
       "  'posterURL': 'https://m.media-amazon.com/images/M/MV5BNzg4MjM2NDQ4MV5BMl5BanBnXkFtZTgwMzk3MTgyODE@._V1_SX300.jpg',\n",
       "  'imdbId': 'tt2277860'},\n",
       " {'id': 11,\n",
       "  'title': 'Pinocchio',\n",
       "  'posterURL': 'https://m.media-amazon.com/images/M/MV5BMTU4Mzk3ODIyOF5BMl5BanBnXkFtZTgwODgyNzk2NjE@._V1_SX300.jpg',\n",
       "  'imdbId': 'tt0032910'},\n",
       " {'id': 12,\n",
       "  'title': 'Moana',\n",
       "  'posterURL': 'https://m.media-amazon.com/images/M/MV5BMjI4MzU5NTExNF5BMl5BanBnXkFtZTgwNzY1MTEwMDI@._V1_SX300.jpg',\n",
       "  'imdbId': 'tt3521164'},\n",
       " {'id': 13,\n",
       "  'title': 'Toy Story',\n",
       "  'posterURL': 'https://m.media-amazon.com/images/M/MV5BMDU2ZWJlMjktMTRhMy00ZTA5LWEzNDgtYmNmZTEwZTViZWJkXkEyXkFqcGdeQXVyNDQ2OTk4MzI@._V1_SX300.jpg',\n",
       "  'imdbId': 'tt0114709'},\n",
       " {'id': 14,\n",
       "  'title': 'Kubo and the Two Strings',\n",
       "  'posterURL': 'https://m.media-amazon.com/images/M/MV5BMjA2Mzg2NDMzNl5BMl5BanBnXkFtZTgwMjcwODUzOTE@._V1_SX300.jpg',\n",
       "  'imdbId': 'tt4302938'},\n",
       " {'id': 15,\n",
       "  'title': 'How to Train Your Dragon',\n",
       "  'posterURL': 'https://m.media-amazon.com/images/M/MV5BMjA5NDQyMjc2NF5BMl5BanBnXkFtZTcwMjg5ODcyMw@@._V1_SX300.jpg',\n",
       "  'imdbId': 'tt0892769'},\n",
       " {'id': 16,\n",
       "  'title': 'Shaun the Sheep Movie',\n",
       "  'posterURL': 'https://m.media-amazon.com/images/M/MV5BOTc1ODY5MTQ1Nl5BMl5BanBnXkFtZTgwMDM5ODI1NjE@._V1_SX300.jpg',\n",
       "  'imdbId': 'tt2872750'},\n",
       " {'id': 17,\n",
       "  'title': 'Isle of Dogs',\n",
       "  'posterURL': 'https://m.media-amazon.com/images/M/MV5BMTYyOTUwNjAxM15BMl5BanBnXkFtZTgwODcyMzE0NDM@._V1_SX300.jpg',\n",
       "  'imdbId': 'tt5104604'},\n",
       " {'id': 18,\n",
       "  'title': 'Dumbo',\n",
       "  'posterURL': 'https://m.media-amazon.com/images/M/MV5BNWVmNWQ2OTQtNzJlNC00ZmQwLTg4ZTktZTNmM2IxZTlkOGM3L2ltYWdlXkEyXkFqcGdeQXVyNTAyODkwOQ@@._V1_SX300.jpg',\n",
       "  'imdbId': 'tt0033563'},\n",
       " {'id': 19,\n",
       "  'title': 'WALL-E',\n",
       "  'posterURL': 'https://m.media-amazon.com/images/M/MV5BMjExMTg5OTU0NF5BMl5BanBnXkFtZTcwMjMxMzMzMw@@._V1_SX300.jpg',\n",
       "  'imdbId': 'tt0910970'},\n",
       " {'id': 20,\n",
       "  'title': 'The Lego Movie',\n",
       "  'posterURL': 'https://m.media-amazon.com/images/M/MV5BMTg4MDk1ODExN15BMl5BanBnXkFtZTgwNzIyNjg3MDE@._V1_SX300.jpg',\n",
       "  'imdbId': 'tt1490017'},\n",
       " {'id': 21,\n",
       "  'title': 'Ratatouille',\n",
       "  'posterURL': 'https://m.media-amazon.com/images/M/MV5BMTMzODU0NTkxMF5BMl5BanBnXkFtZTcwMjQ4MzMzMw@@._V1_SX300.jpg',\n",
       "  'imdbId': 'tt0382932'},\n",
       " {'id': 22,\n",
       "  'title': 'The Incredibles',\n",
       "  'posterURL': 'https://m.media-amazon.com/images/M/MV5BMTY5OTU0OTc2NV5BMl5BanBnXkFtZTcwMzU4MDcyMQ@@._V1_SX300.jpg',\n",
       "  'imdbId': 'tt0317705'},\n",
       " {'id': 23,\n",
       "  'title': 'Only Yesterday',\n",
       "  'posterURL': 'https://m.media-amazon.com/images/M/MV5BMTY5NjI2MjQxMl5BMl5BanBnXkFtZTgwMDA2MzM2NzE@._V1_SX300.jpg',\n",
       "  'imdbId': 'tt0102587'},\n",
       " {'id': 24,\n",
       "  'title': 'Yellow Submarine',\n",
       "  'posterURL': 'https://m.media-amazon.com/images/M/MV5BMGExODFmMjQtZTgxOC00ZDE0LWJmM2MtOTQzM2YzNDZlMzNmL2ltYWdlL2ltYWdlXkEyXkFqcGdeQXVyNjc1NTYyMjg@._V1_SX300.jpg',\n",
       "  'imdbId': 'tt0063823'},\n",
       " {'id': 25,\n",
       "  'title': 'Beauty and the Beast',\n",
       "  'posterURL': 'https://m.media-amazon.com/images/M/MV5BMzE5MDM1NDktY2I0OC00YWI5LTk2NzUtYjczNDczOWQxYjM0XkEyXkFqcGdeQXVyMTQxNzMzNDI@._V1_SX300.jpg',\n",
       "  'imdbId': 'tt0101414'},\n",
       " {'id': 26,\n",
       "  'title': 'Chicken Run',\n",
       "  'posterURL': 'https://m.media-amazon.com/images/M/MV5BY2UyYjFkNzAtYzIyMC00MGI1LTlkNDktNzUyOGQ5NTI2ZGFjXkEyXkFqcGdeQXVyNTUyMzE4Mzg@._V1_SX300.jpg',\n",
       "  'imdbId': 'tt0120630'},\n",
       " {'id': 27,\n",
       "  'title': 'The Lego Batman Movie',\n",
       "  'posterURL': 'https://m.media-amazon.com/images/M/MV5BMTcyNTEyOTY0M15BMl5BanBnXkFtZTgwOTAyNzU3MDI@._V1_SX300.jpg',\n",
       "  'imdbId': 'tt4116284'},\n",
       " {'id': 28,\n",
       "  'title': 'The Nightmare Before Christmas',\n",
       "  'posterURL': 'https://m.media-amazon.com/images/M/MV5BNWE4OTNiM2ItMjY4Ni00ZTViLWFiZmEtZGEyNGY2ZmNlMzIyXkEyXkFqcGdeQXVyMDU5NDcxNw@@._V1_SX300.jpg',\n",
       "  'imdbId': 'tt0107688'},\n",
       " {'id': 29,\n",
       "  'title': 'Monsters, Inc.',\n",
       "  'posterURL': 'https://m.media-amazon.com/images/M/MV5BMTY1NTI0ODUyOF5BMl5BanBnXkFtZTgwNTEyNjQ0MDE@._V1_SX300.jpg',\n",
       "  'imdbId': 'tt0198781'},\n",
       " {'id': 30,\n",
       "  'title': 'The Iron Giant',\n",
       "  'posterURL': 'https://m.media-amazon.com/images/M/MV5BMjIxNDU2Njk0OV5BMl5BanBnXkFtZTgwODc3Njc3NjE@._V1_SX300.jpg',\n",
       "  'imdbId': 'tt0129167'},\n",
       " {'id': 31,\n",
       "  'title': 'Tower',\n",
       "  'posterURL': 'https://m.media-amazon.com/images/M/MV5BNjI1Nzg3NTgyOV5BMl5BanBnXkFtZTgwNzIwMjIxMDI@._V1_SX300.jpg',\n",
       "  'imdbId': 'tt5116410'},\n",
       " {'id': 32,\n",
       "  'title': 'Anomalisa',\n",
       "  'posterURL': 'https://m.media-amazon.com/images/M/MV5BMTkyMzI2MzQ1N15BMl5BanBnXkFtZTgwNDg0MzQxNzE@._V1_SX300.jpg',\n",
       "  'imdbId': 'tt2401878'},\n",
       " {'id': 33,\n",
       "  'title': 'Song of the Sea',\n",
       "  'posterURL': 'https://m.media-amazon.com/images/M/MV5BMTQ2MDMwNjEwNV5BMl5BanBnXkFtZTgwOTkxMzI0MzE@._V1_SX300.jpg',\n",
       "  'imdbId': 'tt1865505'},\n",
       " {'id': 34,\n",
       "  'title': 'The Lion King',\n",
       "  'posterURL': 'https://m.media-amazon.com/images/M/MV5BYTYxNGMyZTYtMjE3MS00MzNjLWFjNmYtMDk3N2FmM2JiM2M1XkEyXkFqcGdeQXVyNjY5NDU4NzI@._V1_SX300.jpg',\n",
       "  'imdbId': 'tt0110357'},\n",
       " {'id': 35,\n",
       "  'title': 'Who Framed Roger Rabbit',\n",
       "  'posterURL': 'https://m.media-amazon.com/images/M/MV5BMDhiOTM2OTctODk3Ny00NWI4LThhZDgtNGQ4NjRiYjFkZGQzXkEyXkFqcGdeQXVyMTA0MjU0Ng@@._V1_SX300.jpg',\n",
       "  'imdbId': 'tt0096438'},\n",
       " {'id': 36,\n",
       "  'title': 'Waltz with Bashir',\n",
       "  'posterURL': 'https://m.media-amazon.com/images/M/MV5BNjM2OTI3NzQyNl5BMl5BanBnXkFtZTcwNjkzNzQ5MQ@@._V1_SX300.jpg',\n",
       "  'imdbId': 'tt1185616'},\n",
       " {'id': 37,\n",
       "  'title': 'Persepolis',\n",
       "  'posterURL': 'https://m.media-amazon.com/images/M/MV5BMGRkZThmYzEtYjQxZC00OWEzLThjYjAtYzFkMjY0NGZkZWI4XkEyXkFqcGdeQXVyNTAyODkwOQ@@._V1_SX300.jpg',\n",
       "  'imdbId': 'tt0808417'},\n",
       " {'id': 38,\n",
       "  'title': 'Wallace & Gromit: The Curse of the Were-Rabbit',\n",
       "  'posterURL': 'https://m.media-amazon.com/images/M/MV5BMTk1NzIwNTM1NV5BMl5BanBnXkFtZTcwMDA1NzkyMw@@._V1_SX300.jpg',\n",
       "  'imdbId': 'tt0312004'},\n",
       " {'id': 39,\n",
       "  'title': 'Fantasia',\n",
       "  'posterURL': 'https://m.media-amazon.com/images/M/MV5BYjhlYzNkOGEtZjNkZC00OTQ4LWJiMzEtMTM3YzBiM2FkMDUxXkEyXkFqcGdeQXVyNzY1NDgwNjQ@._V1_SX300.jpg',\n",
       "  'imdbId': 'tt0032455'},\n",
       " {'id': 40,\n",
       "  'title': 'Fantastic Mr. Fox',\n",
       "  'posterURL': 'https://m.media-amazon.com/images/M/MV5BOGUwYTU4NGEtNDM4MS00NDRjLTkwNmQtOTkwMWMyMjhmMjdlXkEyXkFqcGdeQXVyMTMxODk2OTU@._V1_SX300.jpg',\n",
       "  'imdbId': 'tt0432283'},\n",
       " {'id': 41,\n",
       "  'title': 'Aladdin',\n",
       "  'posterURL': 'https://m.media-amazon.com/images/M/MV5BY2Q2NDI1MjUtM2Q5ZS00MTFlLWJiYWEtNTZmNjQ3OGJkZDgxXkEyXkFqcGdeQXVyNTI4MjkwNjA@._V1_SX300.jpg',\n",
       "  'imdbId': 'tt0103639'},\n",
       " {'id': 42,\n",
       "  'title': 'Frozen',\n",
       "  'posterURL': 'https://m.media-amazon.com/images/M/MV5BMTQ1MjQwMTE5OF5BMl5BanBnXkFtZTgwNjk3MTcyMDE@._V1_SX300.jpg',\n",
       "  'imdbId': 'tt2294629'},\n",
       " {'id': 43,\n",
       "  'title': 'How to Train Your Dragon 2',\n",
       "  'posterURL': 'https://m.media-amazon.com/images/M/MV5BMzMwMTAwODczN15BMl5BanBnXkFtZTgwMDk2NDA4MTE@._V1_SX300.jpg',\n",
       "  'imdbId': 'tt1646971'},\n",
       " {'id': 44,\n",
       "  'title': 'The Breadwinner',\n",
       "  'posterURL': 'https://m.media-amazon.com/images/M/MV5BMWM2MzQ4YTAtMTBkZS00ODA1LWFmNTEtMjEwNzk3ZGJiZDc3XkEyXkFqcGdeQXVyMjM4NTM5NDY@._V1_SX300.jpg',\n",
       "  'imdbId': 'tt3901826'},\n",
       " {'id': 45,\n",
       "  'title': 'Coraline',\n",
       "  'posterURL': 'https://m.media-amazon.com/images/M/MV5BMzQxNjM5NzkxNV5BMl5BanBnXkFtZTcwMzg5NDMwMg@@._V1_SX300.jpg',\n",
       "  'imdbId': 'tt0327597'},\n",
       " {'id': 46,\n",
       "  'title': 'The Little Mermaid',\n",
       "  'posterURL': 'https://m.media-amazon.com/images/M/MV5BN2JlZTBhYTEtZDE3OC00NTA3LTk5NTQtNjg5M2RjODllM2M0XkEyXkFqcGdeQXVyNjk1Njg5NTA@._V1_SX300.jpg',\n",
       "  'imdbId': 'tt0097757'},\n",
       " {'id': 47,\n",
       "  'title': 'Lady and the Tramp',\n",
       "  'posterURL': 'https://m.media-amazon.com/images/M/MV5BYTI1ZDc1OTItM2EzNS00ODMxLWIxYzctOTc5YWNiYzI3NGZiXkEyXkFqcGdeQXVyNDE5MTU2MDE@._V1_SX300.jpg',\n",
       "  'imdbId': 'tt0048280'},\n",
       " {'id': 48,\n",
       "  'title': 'Antz',\n",
       "  'posterURL': 'https://m.media-amazon.com/images/M/MV5BMzMzMDdlMDktODg4OC00Y2E5LTk1ZjMtNzM2MzIxZGQ0ZGI3XkEyXkFqcGdeQXVyMTQxNzMzNDI@._V1_SX300.jpg',\n",
       "  'imdbId': 'tt0120587'},\n",
       " {'id': 49,\n",
       "  'title': 'The Triplets of Belleville',\n",
       "  'posterURL': 'https://m.media-amazon.com/images/M/MV5BMjAzMzUxNzc5M15BMl5BanBnXkFtZTgwODc2NDE2MDE@._V1_SX300.jpg',\n",
       "  'imdbId': 'tt0286244'},\n",
       " {'id': 50,\n",
       "  'title': 'Bambi',\n",
       "  'posterURL': 'https://m.media-amazon.com/images/M/MV5BMTY1NzM4NDg5MV5BMl5BanBnXkFtZTgwMjI1MTkzMjE@._V1_SX300.jpg',\n",
       "  'imdbId': 'tt0034492'},\n",
       " {'id': 51,\n",
       "  'title': 'My Neighbor Totoro',\n",
       "  'posterURL': 'https://m.media-amazon.com/images/M/MV5BNTdiOTQ0YmUtOGE3YS00NDg5LWI3YTEtNDAxZmE0MzRmZWM5L2ltYWdlXkEyXkFqcGdeQXVyNTAyODkwOQ@@._V1_SX300.jpg',\n",
       "  'imdbId': 'tt0096283'},\n",
       " {'id': 52,\n",
       "  'title': 'Big Hero 6',\n",
       "  'posterURL': 'https://m.media-amazon.com/images/M/MV5BMDliOTIzNmUtOTllOC00NDU3LWFiNjYtMGM0NDc1YTMxNjYxXkEyXkFqcGdeQXVyNTM3NzExMDQ@._V1_SX300.jpg',\n",
       "  'imdbId': 'tt2245084'},\n",
       " {'id': 53,\n",
       "  'title': 'Arthur Christmas',\n",
       "  'posterURL': 'https://m.media-amazon.com/images/M/MV5BMTYyMjMyMzEzMl5BMl5BanBnXkFtZTcwMDg4NTM5Ng@@._V1_SX300.jpg',\n",
       "  'imdbId': 'tt1430607'},\n",
       " {'id': 54,\n",
       "  'title': \"A Bug's Life\",\n",
       "  'posterURL': 'https://m.media-amazon.com/images/M/MV5BNThmZGY4NzgtMTM4OC00NzNkLWEwNmEtMjdhMGY5YTc1NDE4XkEyXkFqcGdeQXVyMTQxNzMzNDI@._V1_SX300.jpg',\n",
       "  'imdbId': 'tt0120623'},\n",
       " {'id': 55,\n",
       "  'title': 'Mary and Max',\n",
       "  'posterURL': 'https://m.media-amazon.com/images/M/MV5BMDgzYjQwMDMtNGUzYi00MTRmLWIyMGMtNjE1OGZkNzY2YWIzL2ltYWdlXkEyXkFqcGdeQXVyNjU0OTQ0OTY@._V1_SX300.jpg',\n",
       "  'imdbId': 'tt0978762'},\n",
       " {'id': 56,\n",
       "  'title': 'Teen Titans Go! To the Movies',\n",
       "  'posterURL': 'https://m.media-amazon.com/images/M/MV5BOTZhMTIwZDUtYjZjZS00MmViLTg3NzEtNWE5NzI1NDUwNDJmXkEyXkFqcGdeQXVyODQxMTI4MjM@._V1_SX300.jpg',\n",
       "  'imdbId': 'tt7424200'},\n",
       " {'id': 57,\n",
       "  'title': 'Bolt',\n",
       "  'posterURL': 'https://m.media-amazon.com/images/M/MV5BNDQyNDE5NjQ1N15BMl5BanBnXkFtZTcwMDExMTAwMg@@._V1_SX300.jpg',\n",
       "  'imdbId': 'tt0397892'},\n",
       " {'id': 58,\n",
       "  'title': 'Shrek 2',\n",
       "  'posterURL': 'https://m.media-amazon.com/images/M/MV5BMDJhMGRjN2QtNDUxYy00NGM3LThjNGQtMmZiZTRhNjM4YzUxL2ltYWdlL2ltYWdlXkEyXkFqcGdeQXVyMTQxNzMzNDI@._V1_SX300.jpg',\n",
       "  'imdbId': 'tt0298148'},\n",
       " {'id': 59,\n",
       "  'title': 'Tangled',\n",
       "  'posterURL': 'https://m.media-amazon.com/images/M/MV5BMTAxNDYxMjg0MjNeQTJeQWpwZ15BbWU3MDcyNTk2OTM@._V1_SX300.jpg',\n",
       "  'imdbId': 'tt0398286'},\n",
       " {'id': 60,\n",
       "  'title': 'The Simpsons Movie',\n",
       "  'posterURL': 'https://m.media-amazon.com/images/M/MV5BMTgxMDczMTA5N15BMl5BanBnXkFtZTcwMzk1MzMzMw@@._V1_SX300.jpg',\n",
       "  'imdbId': 'tt0462538'},\n",
       " {'id': 61,\n",
       "  'title': 'James and the Giant Peach',\n",
       "  'posterURL': 'https://m.media-amazon.com/images/M/MV5BMTNkNWIwNGUtNTJlOC00NDU3LTk0NWEtNjNjNDM4NzRiNThkXkEyXkFqcGdeQXVyMTQxNzMzNDI@._V1_SX300.jpg',\n",
       "  'imdbId': 'tt0116683'},\n",
       " {'id': 62,\n",
       "  'title': 'Shrek',\n",
       "  'posterURL': 'https://m.media-amazon.com/images/M/MV5BOGZhM2FhNTItODAzNi00YjA0LWEyN2UtNjJlYWQzYzU1MDg5L2ltYWdlL2ltYWdlXkEyXkFqcGdeQXVyMTQxNzMzNDI@._V1_SX300.jpg',\n",
       "  'imdbId': 'tt0126029'},\n",
       " {'id': 63,\n",
       "  'title': 'Frankenweenie',\n",
       "  'posterURL': 'https://m.media-amazon.com/images/M/MV5BY2UwYWI3MTktM2MxNC00MjRhLTlkMWEtYTNjMjRkOTIwOTkyXkEyXkFqcGdeQXVyNTAyODkwOQ@@._V1_SX300.jpg',\n",
       "  'imdbId': 'tt1142977'},\n",
       " {'id': 64,\n",
       "  'title': 'Sleeping Beauty',\n",
       "  'posterURL': 'https://m.media-amazon.com/images/M/MV5BOTJmZjA3MjMtMWNmZS00YTliLWFhMWUtZDU2NGJhNTlmY2ZkL2ltYWdlL2ltYWdlXkEyXkFqcGdeQXVyMTQxNzMzNDI@._V1_SX300.jpg',\n",
       "  'imdbId': 'tt0053285'},\n",
       " {'id': 65,\n",
       "  'title': 'Rango',\n",
       "  'posterURL': 'https://m.media-amazon.com/images/M/MV5BMTc4NjEyODE1OV5BMl5BanBnXkFtZTcwMjYzNTkxNA@@._V1_SX300.jpg',\n",
       "  'imdbId': 'tt1192628'},\n",
       " {'id': 66,\n",
       "  'title': 'Winnie the Pooh',\n",
       "  'posterURL': 'https://m.media-amazon.com/images/M/MV5BYzBlYTJkMGQtYzQ4MS00Zjk3LTk4MmEtYTZiNTEzNmRlMjUxXkEyXkFqcGdeQXVyMzI0NDc4ODY@._V1_SX300.jpg',\n",
       "  'imdbId': 'tt1449283'},\n",
       " {'id': 67,\n",
       "  'title': 'ParaNorman',\n",
       "  'posterURL': 'https://m.media-amazon.com/images/M/MV5BMjA1OTU1NDM3N15BMl5BanBnXkFtZTcwMjYxNTg0Nw@@._V1_SX300.jpg',\n",
       "  'imdbId': 'tt1623288'},\n",
       " {'id': 68,\n",
       "  'title': 'The Peanuts Movie',\n",
       "  'posterURL': 'https://m.media-amazon.com/images/M/MV5BNTE5NzMxNzkwNl5BMl5BanBnXkFtZTgwOTQ0Nzk5NzE@._V1_SX300.jpg',\n",
       "  'imdbId': 'tt2452042'},\n",
       " {'id': 69,\n",
       "  'title': 'Kung Fu Panda',\n",
       "  'posterURL': 'https://m.media-amazon.com/images/M/MV5BODJkZTZhMWItMDI3Yy00ZWZlLTk4NjQtOTI1ZjU5NjBjZTVjXkEyXkFqcGdeQXVyODE5NzE3OTE@._V1_SX300.jpg',\n",
       "  'imdbId': 'tt0441773'},\n",
       " {'id': 70,\n",
       "  'title': 'Tarzan',\n",
       "  'posterURL': 'https://m.media-amazon.com/images/M/MV5BY2ZiYWUxN2ItYmQxZi00NDlkLWE2NDAtOTNmYTg1MDI0NDk1XkEyXkFqcGdeQXVyNjUwNzk3NDc@._V1_SX300.jpg',\n",
       "  'imdbId': 'tt0120855'},\n",
       " {'id': 71,\n",
       "  'title': 'Wreck-It Ralph',\n",
       "  'posterURL': 'https://m.media-amazon.com/images/M/MV5BNzMxNTExOTkyMF5BMl5BanBnXkFtZTcwMzEyNDc0OA@@._V1_SX300.jpg',\n",
       "  'imdbId': 'tt1772341'},\n",
       " {'id': 72,\n",
       "  'title': 'Kung Fu Panda 3',\n",
       "  'posterURL': 'https://m.media-amazon.com/images/M/MV5BMTUyNzgxNjg2M15BMl5BanBnXkFtZTgwMTY1NDI1NjE@._V1_SX300.jpg',\n",
       "  'imdbId': 'tt2267968'},\n",
       " {'id': 73,\n",
       "  'title': 'Sausage Party',\n",
       "  'posterURL': 'https://m.media-amazon.com/images/M/MV5BMjkxOTk1MzY4MF5BMl5BanBnXkFtZTgwODQzOTU5ODE@._V1_SX300.jpg',\n",
       "  'imdbId': 'tt1700841'},\n",
       " {'id': 74,\n",
       "  'title': 'Akira',\n",
       "  'posterURL': 'https://m.media-amazon.com/images/M/MV5BM2ZiZTk1ODgtMTZkNS00NTYxLWIxZTUtNWExZGYwZTRjODViXkEyXkFqcGdeQXVyMTE2MzA3MDM@._V1_SX300.jpg',\n",
       "  'imdbId': 'tt0094625'},\n",
       " {'id': 75,\n",
       "  'title': 'Tokyo Godfathers',\n",
       "  'posterURL': 'https://m.media-amazon.com/images/M/MV5BYmJmMjFiY2ItNDBkZS00MGQyLWE3ZjQtZWMzNjQ5ZTA5YjcwL2ltYWdlL2ltYWdlXkEyXkFqcGdeQXVyMzM4MjM0Nzg@._V1_SX300.jpg',\n",
       "  'imdbId': 'tt0388473'},\n",
       " {'id': 76,\n",
       "  'title': 'The Pirates! Band of Misfits',\n",
       "  'posterURL': 'https://m.media-amazon.com/images/M/MV5BNDhkOGZkZWMtNGI4Mi00ZWI3LTgyYTgtMDU4ZDI3NTNjMWFiXkEyXkFqcGdeQXVyNjk1Njg5NTA@._V1_SX300.jpg',\n",
       "  'imdbId': 'tt1430626'},\n",
       " {'id': 77,\n",
       "  'title': 'The Princess and the Frog',\n",
       "  'posterURL': 'https://m.media-amazon.com/images/M/MV5BMjEyOTQ5NzAzNl5BMl5BanBnXkFtZTcwMTcyNTU1Mg@@._V1_SX300.jpg',\n",
       "  'imdbId': 'tt0780521'}]"
      ]
     },
     "execution_count": 33,
     "metadata": {},
     "output_type": "execute_result"
    }
   ],
>>>>>>> 27abb7cde2f2c449d1e9d586b2022a91e4a64529
   "source": [
    "# Change the endpoint and point to movies\n",
    "# https://sampleapis.com/api-list/movies\n",
    "# Choose the animation movies\n",
<<<<<<< HEAD
    "# Shows the result of the query\n"
=======
    "# Shows the result of the query\n",
    "\n",
    "endpoint2 = 'https://api.sampleapis.com/movies/animation'\n",
    "\n",
    "response2 = requests.get(endpoint2)\n",
    "response2.json()"
>>>>>>> 27abb7cde2f2c449d1e9d586b2022a91e4a64529
   ]
  },
  {
   "cell_type": "code",
   "execution_count": null,
   "id": "1d1bf40a-f619-425c-906d-634cc3728daf",
   "metadata": {},
<<<<<<< HEAD
   "outputs": [],
   "source": [
    "# Count or number of animated films\n"
=======
   "outputs": [
    {
     "data": {
      "text/plain": [
       "77"
      ]
     },
     "execution_count": 47,
     "metadata": {},
     "output_type": "execute_result"
    }
   ],
   "source": [
    "# Count or number of animated films\n",
    "response2_json = response2.json()\n",
    "\n",
    "len(response2_json)"
>>>>>>> 27abb7cde2f2c449d1e9d586b2022a91e4a64529
   ]
  },
  {
   "cell_type": "code",
<<<<<<< HEAD
   "execution_count": null,
   "id": "dd6fa827-4f59-497d-ac06-ab70c6a23692",
   "metadata": {},
   "outputs": [],
   "source": [
    "# Check the type of server behind the API (consult the headers)\n"
=======
   "execution_count": 44,
   "id": "dd6fa827-4f59-497d-ac06-ab70c6a23692",
   "metadata": {},
   "outputs": [
    {
     "data": {
      "text/plain": [
       "'cloudflare'"
      ]
     },
     "execution_count": 44,
     "metadata": {},
     "output_type": "execute_result"
    }
   ],
   "source": [
    "# Check the type of server behind the API (consult the headers)\n",
    "response2.headers['server']"
>>>>>>> 27abb7cde2f2c449d1e9d586b2022a91e4a64529
   ]
  },
  {
   "cell_type": "code",
<<<<<<< HEAD
   "execution_count": null,
   "id": "72077c6c-0337-49eb-b3bf-e7c4e7124156",
   "metadata": {},
   "outputs": [],
   "source": [
    "# Check if it is the same server used for the coffee API."
=======
   "execution_count": 45,
   "id": "72077c6c-0337-49eb-b3bf-e7c4e7124156",
   "metadata": {},
   "outputs": [
    {
     "data": {
      "text/plain": [
       "'cloudflare'"
      ]
     },
     "execution_count": 45,
     "metadata": {},
     "output_type": "execute_result"
    }
   ],
   "source": [
    "# Check if it is the same server used for the coffee API.\n",
    "response.headers['server']"
>>>>>>> 27abb7cde2f2c449d1e9d586b2022a91e4a64529
   ]
  },
  {
   "cell_type": "code",
<<<<<<< HEAD
   "execution_count": null,
   "id": "c2781912-fea4-4ea2-aae1-395dd614b076",
   "metadata": {},
   "outputs": [],
   "source": [
    "# Consult the following header information: Content-Type\n"
   ]
  },
  {
   "cell_type": "code",
   "execution_count": null,
   "id": "88e2e61c",
   "metadata": {},
   "outputs": [],
   "source": []
  },
  {
=======
   "execution_count": 46,
   "id": "c2781912-fea4-4ea2-aae1-395dd614b076",
   "metadata": {},
   "outputs": [
    {
     "data": {
      "text/plain": [
       "'application/json; charset=utf-8'"
      ]
     },
     "execution_count": 46,
     "metadata": {},
     "output_type": "execute_result"
    }
   ],
   "source": [
    "# Consult the following header information: Content-Type\n",
    "response2.headers['Content-Type']"
   ]
  },
  {
>>>>>>> 27abb7cde2f2c449d1e9d586b2022a91e4a64529
   "cell_type": "markdown",
   "id": "de908d8d-f6ec-4c85-924c-00f7bbfabaf5",
   "metadata": {},
   "source": [
    "### Extra"
   ]
  },
  {
   "cell_type": "code",
<<<<<<< HEAD
   "execution_count": null,
   "id": "009c1c23-3769-467d-a848-059ce9b660df",
   "metadata": {},
   "outputs": [],
   "source": [
    "# Show the data of the first film"
=======
   "execution_count": 49,
   "id": "009c1c23-3769-467d-a848-059ce9b660df",
   "metadata": {},
   "outputs": [
    {
     "data": {
      "text/plain": [
       "{'id': 1,\n",
       " 'title': 'Inside Out',\n",
       " 'posterURL': 'https://m.media-amazon.com/images/M/MV5BOTgxMDQwMDk0OF5BMl5BanBnXkFtZTgwNjU5OTg2NDE@._V1_SX300.jpg',\n",
       " 'imdbId': 'tt2096673'}"
      ]
     },
     "execution_count": 49,
     "metadata": {},
     "output_type": "execute_result"
    }
   ],
   "source": [
    "# Show the data of the first film\n",
    "response2_json[0]"
>>>>>>> 27abb7cde2f2c449d1e9d586b2022a91e4a64529
   ]
  },
  {
   "cell_type": "code",
<<<<<<< HEAD
   "execution_count": null,
=======
   "execution_count": 50,
>>>>>>> 27abb7cde2f2c449d1e9d586b2022a91e4a64529
   "id": "93148307-5955-4d18-9cb9-bc774ef93c73",
   "metadata": {},
   "outputs": [],
   "source": [
    "# Save the url of the image in a variable\n",
<<<<<<< HEAD
    "imaxeURL = ..."
=======
    "imaxeURL = 'https://m.media-amazon.com/images/M/MV5BOTgxMDQwMDk0OF5BMl5BanBnXkFtZTgwNjU5OTg2NDE@._V1_SX300.jpg'\n",
    " "
>>>>>>> 27abb7cde2f2c449d1e9d586b2022a91e4a64529
   ]
  },
  {
   "cell_type": "code",
<<<<<<< HEAD
   "execution_count": null,
   "id": "68270a98-4933-4b77-ab0d-09eda9da24f1",
   "metadata": {},
   "outputs": [],
=======
   "execution_count": 51,
   "id": "68270a98-4933-4b77-ab0d-09eda9da24f1",
   "metadata": {},
   "outputs": [
    {
     "data": {
      "image/jpeg": "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",
      "text/plain": [
       "<IPython.core.display.Image object>"
      ]
     },
     "execution_count": 51,
     "metadata": {},
     "output_type": "execute_result"
    }
   ],
>>>>>>> 27abb7cde2f2c449d1e9d586b2022a91e4a64529
   "source": [
    "# Show the image\n",
    "from IPython import display\n",
    "display.Image(imaxeURL)"
   ]
  },
  {
   "cell_type": "code",
<<<<<<< HEAD
   "execution_count": null,
   "id": "203d4fe5",
   "metadata": {},
   "outputs": [],
   "source": [
    "# Iterate the results to show only 'Akira' movie (all data)"
=======
   "execution_count": 67,
   "id": "203d4fe5",
   "metadata": {},
   "outputs": [
    {
     "name": "stdout",
     "output_type": "stream",
     "text": [
      "{'id': 74, 'title': 'Akira', 'posterURL': 'https://m.media-amazon.com/images/M/MV5BM2ZiZTk1ODgtMTZkNS00NTYxLWIxZTUtNWExZGYwZTRjODViXkEyXkFqcGdeQXVyMTE2MzA3MDM@._V1_SX300.jpg', 'imdbId': 'tt0094625'}\n"
     ]
    }
   ],
   "source": [
    "# Iterate the results to show only 'Akira' movie (all data)\n",
    "for i in range(len(response2_json)):\n",
    "    if response2_json[i]['title'] == 'Akira':\n",
    "        print(response2_json[i])\n",
    "\n",
    "   "
>>>>>>> 27abb7cde2f2c449d1e9d586b2022a91e4a64529
   ]
  },
  {
   "cell_type": "code",
<<<<<<< HEAD
   "execution_count": null,
   "id": "3b943348",
   "metadata": {},
   "outputs": [],
   "source": [
    "# Iterate the results to show all 'Kung Fu Panda' movies (all data)"
=======
   "execution_count": 69,
   "id": "3b943348",
   "metadata": {},
   "outputs": [
    {
     "name": "stdout",
     "output_type": "stream",
     "text": [
      "{'id': 69, 'title': 'Kung Fu Panda', 'posterURL': 'https://m.media-amazon.com/images/M/MV5BODJkZTZhMWItMDI3Yy00ZWZlLTk4NjQtOTI1ZjU5NjBjZTVjXkEyXkFqcGdeQXVyODE5NzE3OTE@._V1_SX300.jpg', 'imdbId': 'tt0441773'}\n",
      "{'id': 72, 'title': 'Kung Fu Panda 3', 'posterURL': 'https://m.media-amazon.com/images/M/MV5BMTUyNzgxNjg2M15BMl5BanBnXkFtZTgwMTY1NDI1NjE@._V1_SX300.jpg', 'imdbId': 'tt2267968'}\n"
     ]
    }
   ],
   "source": [
    "# Iterate the results to show all 'Kung Fu Panda' movies (all data)\n",
    "for i in range(len(response2_json)):\n",
    "    if 'Kung Fu Panda' in response2_json[i]['title']:\n",
    "        print(response2_json[i])"
>>>>>>> 27abb7cde2f2c449d1e9d586b2022a91e4a64529
   ]
  }
 ],
 "metadata": {
  "kernelspec": {
<<<<<<< HEAD
   "display_name": "Python 3",
=======
   "display_name": "sistemas-bigdata",
>>>>>>> 27abb7cde2f2c449d1e9d586b2022a91e4a64529
   "language": "python",
   "name": "python3"
  },
  "language_info": {
   "codemirror_mode": {
    "name": "ipython",
    "version": 3
   },
   "file_extension": ".py",
   "mimetype": "text/x-python",
   "name": "python",
   "nbconvert_exporter": "python",
   "pygments_lexer": "ipython3",
<<<<<<< HEAD
   "version": "3.8.10 (default, Nov 14 2022, 12:59:47) \n[GCC 9.4.0]"
  },
  "vscode": {
   "interpreter": {
    "hash": "916dbcbb3f70747c44a77c7bcd40155683ae19c65e1c03b4aa3499c5328201f1"
   }
=======
   "version": "3.13.0"
>>>>>>> 27abb7cde2f2c449d1e9d586b2022a91e4a64529
  }
 },
 "nbformat": 4,
 "nbformat_minor": 5
}
