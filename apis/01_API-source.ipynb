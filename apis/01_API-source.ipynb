{
 "cells": [
  {
   "cell_type": "markdown",
   "id": "0765d326-8bbd-4848-9bbc-cbade94387a6",
   "metadata": {},
   "source": [
    "### API's. 1"
   ]
  },
  {
   "cell_type": "markdown",
   "metadata": {},
   "source": [
    "APIs are used to access data, services or facilitate communication between programs.\n",
    "\n",
    "They are very useful in some of the following cases:\n",
    "* Data that changes very quickly. For example: weather data or stock market data.\n",
    "* We need only smaller sets of the data set. For example: tweets from a single account.\n",
    "* Consumption of a specialised service. For example, xeocoding\n",
    "\n",
    "APIs return results in formats such as XML and especially **JSON**.\n",
    "\n",
    "Examples of JSON vs XML https://www.json.org/example.html"
   ]
  },
  {
   "attachments": {},
   "cell_type": "markdown",
   "id": "56005280",
   "metadata": {},
   "source": [
    "What is a API and specifically a Rest API?\n",
    "\n",
    "https://dossetenta.com/que-es-una-api-rest/\n",
    "\n",
    "https://www.ibm.com/es-es/cloud/learn/rest-apis"
   ]
  },
  {
   "attachments": {},
   "cell_type": "markdown",
   "id": "4f9397d8",
   "metadata": {},
   "source": [
    "![imaxe-API-REST](img/imaxe_api_rest.png)"
   ]
  },
  {
   "cell_type": "code",
<<<<<<< HEAD
   "execution_count": null,
=======
   "execution_count": 2,
>>>>>>> 27abb7cde2f2c449d1e9d586b2022a91e4a64529
   "id": "5b298500-6912-4bfb-a72f-602d5379fba6",
   "metadata": {},
   "outputs": [],
   "source": [
    "# Requests library\n",
    "# The requests library is the main Python library for working with APIs.\n",
    "import requests"
   ]
  },
  {
   "cell_type": "markdown",
   "metadata": {},
   "source": [
    "We will use different APIs to practice with the **request** library.\n",
    "\n",
    "APIs should be documented to help us understand how to work with them.\n",
    "\n",
    "They generally follow the **REST standards**\n",
    "\n",
    "\n",
    "\n",
    "To work with APIs it is essential to know their url. We speak of **endpoint** as the point at which we communicate with the API"
   ]
  },
  {
   "cell_type": "code",
<<<<<<< HEAD
   "execution_count": null,
=======
   "execution_count": 3,
>>>>>>> 27abb7cde2f2c449d1e9d586b2022a91e4a64529
   "id": "71e58e58-2738-4659-994d-d6bec6c3f227",
   "metadata": {},
   "outputs": [],
   "source": [
    "# Sample APIs provide a sandbox to play with Rest APIs\n",
    "# https://sampleapis.com/\n",
    "# Documentation: https://sampleapis.com/docs\n",
    "# API list: https://sampleapis.com/api-list"
   ]
  },
  {
   "cell_type": "code",
<<<<<<< HEAD
   "execution_count": null,
=======
   "execution_count": 4,
>>>>>>> 27abb7cde2f2c449d1e9d586b2022a91e4a64529
   "id": "680c4e7e",
   "metadata": {},
   "outputs": [],
   "source": [
    "# We are goin to play with Beers API\n",
    "# https://sampleapis.com/api-list/beers\n",
    "\n",
    "\n",
    "endpoint = 'https://api.sampleapis.com/beers/ale'"
   ]
  },
  {
   "cell_type": "code",
<<<<<<< HEAD
   "execution_count": null,
   "id": "6c50dc1d-2766-49e1-86bb-f07a968a1656",
   "metadata": {},
   "outputs": [],
=======
   "execution_count": 5,
   "id": "6c50dc1d-2766-49e1-86bb-f07a968a1656",
   "metadata": {},
   "outputs": [
    {
     "data": {
      "text/plain": [
       "<Response [200]>"
      ]
     },
     "execution_count": 5,
     "metadata": {},
     "output_type": "execute_result"
    }
   ],
>>>>>>> 27abb7cde2f2c449d1e9d586b2022a91e4a64529
   "source": [
    "# We can execute different methods against an API: GET, POST, DELETE.... \n",
    "# Let's focus on the use of GET to obtain data from the API.\n",
    "\n",
    "requests.get(endpoint)"
   ]
  },
  {
   "cell_type": "markdown",
   "metadata": {},
   "source": [
    "### Response\n",
    "\n",
    "The execution of a GET request can return different values.\n",
    "\n",
    "The _status code_ tells us if the request was successful and, in case of error, gives us information about its causes.\n",
    "Some codes are:\n",
    "* 200: success\n",
    "* 300: redirection\n",
    "* 400: incorrect request\n",
    "* 401: authentication error\n",
    "* 403: no permissions or incorrect credentials\n",
    "* 404: resource does not exist\n",
    "* 500: server gave error\n",
    "\n",
    "Complete list of codes: [here](https://en.wikipedia.org/wiki/List_of_HTTP_status_codes)\n",
    "\n",
    "You might like these list better: [http.dogs](https://http.dog/) or [httpstatusdogs](https://httpstatusdogs.com/)"
   ]
  },
  {
   "cell_type": "code",
<<<<<<< HEAD
   "execution_count": null,
   "id": "57e5ca40-acd5-4226-9d0d-3ba17ef1c379",
   "metadata": {},
   "outputs": [],
=======
   "execution_count": 6,
   "id": "57e5ca40-acd5-4226-9d0d-3ba17ef1c379",
   "metadata": {},
   "outputs": [
    {
     "data": {
      "text/plain": [
       "200"
      ]
     },
     "execution_count": 6,
     "metadata": {},
     "output_type": "execute_result"
    }
   ],
>>>>>>> 27abb7cde2f2c449d1e9d586b2022a91e4a64529
   "source": [
    "# Query the status code\n",
    "response = requests.get(endpoint)\n",
    "response.status_code"
   ]
  },
  {
   "cell_type": "code",
<<<<<<< HEAD
   "execution_count": null,
   "id": "db3c1dad-6ae3-4238-85c2-1b3d5ff8b4ca",
   "metadata": {},
   "outputs": [],
=======
   "execution_count": 7,
   "id": "db3c1dad-6ae3-4238-85c2-1b3d5ff8b4ca",
   "metadata": {},
   "outputs": [
    {
     "name": "stdout",
     "output_type": "stream",
     "text": [
      "It works!\n"
     ]
    }
   ],
>>>>>>> 27abb7cde2f2c449d1e9d586b2022a91e4a64529
   "source": [
    "# Control the API response\n",
    "if response.status_code == 200:\n",
    "    print('It works!')\n",
    "else:\n",
    "    print('It does not work')    "
   ]
  },
  {
   "cell_type": "code",
<<<<<<< HEAD
   "execution_count": null,
   "id": "0289a17f-2abb-4809-a07f-77d16b421be6",
   "metadata": {},
   "outputs": [],
=======
   "execution_count": 8,
   "id": "0289a17f-2abb-4809-a07f-77d16b421be6",
   "metadata": {},
   "outputs": [
    {
     "name": "stdout",
     "output_type": "stream",
     "text": [
      "Non funciona\n"
     ]
    }
   ],
>>>>>>> 27abb7cde2f2c449d1e9d586b2022a91e4a64529
   "source": [
    "# Force an error situation\n",
    "# Beware, it may be necessary to use exceptions\n",
    "\n",
    "url_invalida = 'https://api.sampleapis.com/beerss/ale'\n",
    "\n",
    "response = requests.get(url_invalida)\n",
    "\n",
    "if response.status_code == 200:\n",
    "    print('Funciona!')\n",
    "else:\n",
    "    print('Non funciona')  "
   ]
  },
  {
   "cell_type": "code",
<<<<<<< HEAD
   "execution_count": null,
   "id": "60cac7c7-896f-472c-8992-b85f82f233ed",
   "metadata": {},
   "outputs": [],
=======
   "execution_count": 9,
   "id": "60cac7c7-896f-472c-8992-b85f82f233ed",
   "metadata": {},
   "outputs": [
    {
     "data": {
      "text/plain": [
       "404"
      ]
     },
     "execution_count": 9,
     "metadata": {},
     "output_type": "execute_result"
    }
   ],
>>>>>>> 27abb7cde2f2c449d1e9d586b2022a91e4a64529
   "source": [
    "# http://http.dog\n",
    "response.status_code"
   ]
  },
  {
   "cell_type": "code",
<<<<<<< HEAD
   "execution_count": null,
   "id": "c31d8e0d-0b50-43d8-838d-439867419913",
   "metadata": {},
   "outputs": [],
=======
   "execution_count": 10,
   "id": "c31d8e0d-0b50-43d8-838d-439867419913",
   "metadata": {},
   "outputs": [
    {
     "data": {
      "text/plain": [
       "b'[{\"price\":\"$16.99\",\"name\":\"Founders All Day IPA\",\"rating\":{\"average\":4.411243509154233,\"reviews\":453},\"image\":\"https://www.totalwine.com/media/sys_master/twmmedia/h00/h94/11891416367134.png\",\"id\":1},{\"price\":\"$13.99\",\"name\":\"Blue Moon Belgian White Belgian-Style Wheat Ale\",\"rating\":{\"average\":4.775260833383482,\"reviews\":305},\"image\":\"https://www.totalwine.com/media/sys_master/twmmedia/he8/h67/11931543830558.png\",\"id\":2},{\"price\":\"$16.99\",\"name\":\"Guinness Extra Stout\",\"rating\":{\"average\":3.9785961474594638,\"reviews\":119},\"image\":\"https://www.totalwine.com/media/sys_master/twmmedia/h50/h90/11996630056990.png\",\"id\":3},{\"price\":\"$8.99\",\"name\":\"Guinness Extra Stout\",\"rating\":{\"average\":3.5135460961961718,\"reviews\":199},\"image\":\"https://www.totalwine.com/media/sys_master/twmmedia/h35/he7/11996577726494.png\",\"id\":4},{\"price\":\"$15.49\",\"name\":\"Sierra Nevada Pale Ale\",\"rating\":{\"average\":4.266364643483868,\"reviews\":414},\"image\":\"https://www.totalwine.com/media/sys_master/twmmedia/h19/h43/11735160193054.png\",\"id\":5},{\"price\":\"$15.49\",\"name\":\"Sierra Nevada Pale Ale\",\"rating\":{\"average\":3.141161723541611,\"reviews\":459},\"image\":\"https://www.totalwine.com/media/sys_master/twmmedia/h0a/h17/11589987434526.png\",\"id\":6},{\"price\":\"$15.99\",\"name\":\"Lagunitas IPA\",\"rating\":{\"average\":1.7610665871324303,\"reviews\":358},\"image\":\"https://www.totalwine.com/media/sys_master/twmmedia/hd2/hfd/11348869382174.png\",\"id\":7},{\"price\":\"$11.99\",\"name\":\"Dogfish Head 120-Minute IPA\",\"rating\":{\"average\":3.1053162095618543,\"reviews\":64},\"image\":\"https://www.totalwine.com/media/sys_master/twmmedia/hf7/h2e/8814407614494.png\",\"id\":8},{\"price\":\"$15.49\",\"name\":\"Sierra Nevada Torpedo Extra IPA\",\"rating\":{\"average\":1.1092369711087207,\"reviews\":345},\"image\":\"https://www.totalwine.com/media/sys_master/twmmedia/ha5/h01/8799883329566.png\",\"id\":9},{\"price\":\"$15.99\",\"name\":\"Sierra Nevada Hazy Little Thing IPA\",\"rating\":{\"average\":3.9890785544340925,\"reviews\":170},\"image\":\"https://www.totalwine.com/media/sys_master/cmsmedia/hff/h0e/8979036078110.png\",\"id\":10},{\"price\":\"$14.99\",\"name\":\"New Holland Dragon\\'s Milk\",\"rating\":{\"average\":1.2005615080794012,\"reviews\":493},\"image\":\"https://www.totalwine.com/media/sys_master/twmmedia/hf1/hef/11388243083294.png\",\"id\":11},{\"price\":\"$12.99\",\"name\":\"New Belgium Oakspire Bourbon Barrel Ale\",\"rating\":{\"average\":2.0996330805016186,\"reviews\":342},\"image\":\"https://www.totalwine.com/media/sys_master/twmmedia/h8b/h8f/11475320012830.png\",\"id\":12},{\"price\":\"$7.49\",\"name\":\"Guinness Draught\",\"rating\":{\"average\":1.4506545003190645,\"reviews\":452},\"image\":\"https://www.totalwine.com/media/sys_master/twmmedia/hcc/h64/11996579201054.png\",\"id\":13},{\"price\":\"$10.99\",\"name\":\"Dogfish Head 60-Minute IPA\",\"rating\":{\"average\":1.3770307904176358,\"reviews\":324},\"image\":\"https://www.totalwine.com/media/sys_master/twmmedia/h17/hc9/10124015599646.png\",\"id\":14},{\"price\":\"$7.99\",\"name\":\"Blue Moon Belgian White Belgian-Style Wheat Ale\",\"rating\":{\"average\":4.041128289991199,\"reviews\":50},\"image\":\"https://www.totalwine.com/media/sys_master/twmmedia/h5b/hff/11941592694814.png\",\"id\":15},{\"price\":\"$16.99\",\"name\":\"Guinness Draught\",\"rating\":{\"average\":2.9002860700543973,\"reviews\":401},\"image\":\"https://www.totalwine.com/media/sys_master/twmmedia/h66/h6a/11996634775582.png\",\"id\":16},{\"price\":\"$10.99\",\"name\":\"Weihenstephaner Hefe Weissbier\",\"rating\":{\"average\":2.89292945072894,\"reviews\":267},\"image\":\"https://www.totalwine.com/media/sys_master/twmmedia/h19/he2/11969419083806.png\",\"id\":17},{\"price\":\"$2.29\",\"name\":\"Cigar City Jai-Alai IPA\",\"rating\":{\"average\":3.779669618771213,\"reviews\":206},\"image\":\"https://www.totalwine.com/media/sys_master/twmmedia/hdb/h25/11969380712478.png\",\"id\":18},{\"price\":\"$21.99\",\"name\":\"Bell\\'s Two Hearted Ale\",\"rating\":{\"average\":1.768500733899927,\"reviews\":63},\"image\":\"https://www.totalwine.com/media/sys_master/twmmedia/hfc/h84/11735172120606.png\",\"id\":19},{\"price\":\"$12.99\",\"name\":\"Kentucky Bourbon Barrel Ale\",\"rating\":{\"average\":2.2328898766089313,\"reviews\":377},\"image\":\"https://www.totalwine.com/media/sys_master/twmmedia/h0f/h40/11931598913566.png\",\"id\":20},{\"price\":\"$12.99\",\"name\":\"Dogfish Head 90-Minute IPA\",\"rating\":{\"average\":3.7771776781196387,\"reviews\":496},\"image\":\"https://www.totalwine.com/media/sys_master/twmmedia/hd0/h80/11717909905438.png\",\"id\":21},{\"price\":\"$9.49\",\"name\":\"Sierra Nevada Hazy Little Thing IPA\",\"rating\":{\"average\":1.4359814370189987,\"reviews\":351},\"image\":\"https://www.totalwine.com/media/sys_master/twmmedia/h42/h71/11375171207198.png\",\"id\":22},{\"price\":\"$4.99\",\"name\":\"Bell\\'s Double Two Hearted\",\"rating\":{\"average\":4.268804254746469,\"reviews\":74},\"image\":\"https://www.totalwine.com/media/sys_master/cmsmedia/hff/h0e/8979036078110.png\",\"id\":23},{\"price\":\"$11.99\",\"name\":\"Victory Golden Monkey Ale\",\"rating\":{\"average\":3.1676642120290497,\"reviews\":141},\"image\":\"https://www.totalwine.com/media/sys_master/twmmedia/hab/ha1/11849258827806.png\",\"id\":24},{\"price\":\"$18.49\",\"name\":\"Founders Underground Mountain Brown\",\"rating\":{\"average\":2.1446471059009395,\"reviews\":319},\"image\":\"https://www.totalwine.com/media/sys_master/cmsmedia/hff/h0e/8979036078110.png\",\"id\":25},{\"price\":\"$10.99\",\"name\":\"Bell\\'s Two Hearted Ale\",\"rating\":{\"average\":2.857913327526303,\"reviews\":440},\"image\":\"https://www.totalwine.com/media/sys_master/twmmedia/hd0/h7c/8813760610334.png\",\"id\":26},{\"price\":\"$89.99\",\"name\":\"Blue Moon Belgian White Belgian-Style Wheat Ale\",\"rating\":{\"average\":1.508525625330103,\"reviews\":381},\"image\":\"https://www.totalwine.com/media/sys_master/twmmedia/hc2/he9/11975816085534.png\",\"id\":27},{\"price\":\"$11.49\",\"name\":\"Elysian Space Dust IPA\",\"rating\":{\"average\":1.56330286120944,\"reviews\":203},\"image\":\"https://www.totalwine.com/media/sys_master/twmmedia/h0f/hb6/11735169466398.png\",\"id\":28},{\"price\":\"$12.49\",\"name\":\"Duvel Belgian Ale\",\"rating\":{\"average\":2.5572486237237335,\"reviews\":191},\"image\":\"https://www.totalwine.com/media/sys_master/twmmedia/h0c/h86/8810864082974.png\",\"id\":29},{\"price\":\"$9.99\",\"name\":\"Founders Breakfast Stout\",\"rating\":{\"average\":2.536098631569753,\"reviews\":105},\"image\":\"https://www.totalwine.com/media/sys_master/twmmedia/ha2/he2/8796687728670.png\",\"id\":30},{\"price\":\"$16.79\",\"name\":\"Founders Centennial IPA\",\"rating\":{\"average\":4.902598150770166,\"reviews\":407},\"image\":\"https://www.totalwine.com/media/sys_master/twmmedia/h9d/h94/11167126519838.png\",\"id\":31},{\"price\":\"$8.99\",\"name\":\"Lagunitas IPA\",\"rating\":{\"average\":4.599331298776508,\"reviews\":135},\"image\":\"https://www.totalwine.com/media/sys_master/twmmedia/h2c/h78/8804310777886.png\",\"id\":32},{\"price\":\"$14.99\",\"name\":\"New Belgium Fat Tire\",\"rating\":{\"average\":1.056104104160374,\"reviews\":492},\"image\":\"https://www.totalwine.com/media/sys_master/twmmedia/hee/hb0/8809351217182.png\",\"id\":33},{\"price\":\"$8.49\",\"name\":\"Boddingtons Pub Ale\",\"rating\":{\"average\":1.3365664144031921,\"reviews\":364},\"image\":\"https://www.totalwine.com/media/sys_master/twmmedia/hc8/h2c/8806352846878.png\",\"id\":34},{\"price\":\"$7.99\",\"name\":\"Hoegaarden Witbier Blanche\",\"rating\":{\"average\":3.565917975071695,\"reviews\":189},\"image\":\"https://www.totalwine.com/media/sys_master/twmmedia/h97/h48/11931669102622.png\",\"id\":35},{\"price\":\"$9.99\",\"name\":\"Lagunitas Daytime IPA\",\"rating\":{\"average\":3.7896243815044306,\"reviews\":477},\"image\":\"https://www.totalwine.com/media/sys_master/twmmedia/hd1/h89/11657040003102.png\",\"id\":36},{\"price\":\"$11.49\",\"name\":\"Stone IPA (India Pale Ale)\",\"rating\":{\"average\":1.878226983778763,\"reviews\":380},\"image\":\"https://www.totalwine.com/media/sys_master/twmmedia/h26/h91/11770094026782.png\",\"id\":37},{\"price\":\"$9.99\",\"name\":\"Spaten Franziskaner Hefe-Weisse\",\"rating\":{\"average\":1.9830030107855592,\"reviews\":223},\"image\":\"https://www.totalwine.com/media/sys_master/twmmedia/h25/h97/8798007754782.png\",\"id\":38},{\"price\":\"$18.99\",\"name\":\"Southern Tier Warlock Imperial Pumpkin Stout\",\"rating\":{\"average\":2.043941554653335,\"reviews\":241},\"image\":\"https://www.totalwine.com/media/sys_master/twmmedia/h80/h0d/10734657470494.png\",\"id\":39},{\"price\":\"$19.99\",\"name\":\"Dogfish Head 60-Minute IPA\",\"rating\":{\"average\":3.48129639229092,\"reviews\":310},\"image\":\"https://www.totalwine.com/media/sys_master/twmmedia/h5f/h00/10124016648222.png\",\"id\":40},{\"price\":\"$16.99\",\"name\":\"Newcastle Brown Ale\",\"rating\":{\"average\":1.0385809111488369,\"reviews\":485},\"image\":\"https://www.totalwine.com/media/sys_master/twmmedia/hf5/h03/11969565622302.png\",\"id\":41},{\"price\":\"$11.49\",\"name\":\"New Belgium Voodoo Ranger Imperial IPA\",\"rating\":{\"average\":1.030031658964159,\"reviews\":412},\"image\":\"https://www.totalwine.com/media/sys_master/twmmedia/h06/h57/10672758161438.png\",\"id\":42},{\"price\":\"$9.99\",\"name\":\"Smithwick\\'s Irish Ale\",\"rating\":{\"average\":3.344299483944976,\"reviews\":190},\"image\":\"https://www.totalwine.com/media/sys_master/twmmedia/h64/had/11996577431582.png\",\"id\":43},{\"price\":\"$19.99\",\"name\":\"Stone IPA (India Pale Ale)\",\"rating\":{\"average\":3.679742063810279,\"reviews\":404},\"image\":\"https://www.totalwine.com/media/sys_master/twmmedia/h80/he9/10140961341470.png\",\"id\":44},{\"price\":\"$11.49\",\"name\":\"Left Hand Milk Stout Nitro\",\"rating\":{\"average\":1.5222183530402447,\"reviews\":457},\"image\":\"https://www.totalwine.com/media/sys_master/twmmedia/h2d/haf/8813239762974.png\",\"id\":45},{\"price\":\"$9.99\",\"name\":\"Founders Porter\",\"rating\":{\"average\":3.7036191902784807,\"reviews\":247},\"image\":\"https://www.totalwine.com/media/sys_master/twmmedia/h37/h9f/8796760277022.png\",\"id\":46},{\"price\":\"$14.99\",\"name\":\"Shock Top Belgian White Ale\",\"rating\":{\"average\":4.02565627585603,\"reviews\":418},\"image\":\"https://www.totalwine.com/media/sys_master/twmmedia/hbe/h78/11891420495902.png\",\"id\":47},{\"price\":\"$10.99\",\"name\":\"Dogfish Head Slightly Mighty IPA\",\"rating\":{\"average\":3.518525930659723,\"reviews\":312},\"image\":\"https://www.totalwine.com/media/sys_master/twmmedia/hcd/ha2/11845581078558.png\",\"id\":48},{\"price\":\"$15.99\",\"name\":\"Founders Backwoods Bastard\",\"rating\":{\"average\":3.0187543429516914,\"reviews\":226},\"image\":\"https://www.totalwine.com/media/sys_master/twmmedia/h8f/h35/11536035217438.png\",\"id\":49},{\"price\":\"$16.99\",\"name\":\"Goose Island IPA\",\"rating\":{\"average\":1.1082348289013026,\"reviews\":117},\"image\":\"https://www.totalwine.com/media/sys_master/twmmedia/hb3/h9b/11444657618974.png\",\"id\":50},{\"price\":\"$18.49\",\"name\":\"Stone Farking Wheaton w00tstout\",\"rating\":{\"average\":3.3898938755564823,\"reviews\":61},\"image\":\"https://www.totalwine.com/media/sys_master/cmsmedia/hff/h0e/8979036078110.png\",\"id\":51},{\"price\":\"$7.99\",\"name\":\"Kona Big Wave Golden Ale\",\"rating\":{\"average\":4.216231501611103,\"reviews\":253},\"image\":\"https://www.totalwine.com/media/sys_master/twmmedia/hb9/h8e/8797338894366.png\",\"id\":52},{\"price\":\"$10.99\",\"name\":\"North Coast Old Rasputin Imperial Stout\",\"rating\":{\"average\":1.7226627560750893,\"reviews\":171},\"image\":\"https://www.totalwine.com/media/sys_master/twmmedia/h25/h63/11770107363358.png\",\"id\":53},{\"price\":\"$9.99\",\"name\":\"Lagunitas A Little Sumpin Sumpin\",\"rating\":{\"average\":3.5321444435967244,\"reviews\":129},\"image\":\"https://www.totalwine.com/media/sys_master/twmmedia/hdb/h96/10856913207326.png\",\"id\":54},{\"price\":\"$21.49\",\"name\":\"Chimay Grande Reserve Blue\",\"rating\":{\"average\":4.7937905748912435,\"reviews\":99},\"image\":\"https://www.totalwine.com/media/sys_master/twmmedia/h8a/h92/8798154031134.png\",\"id\":55},{\"price\":\"$13.99\",\"name\":\"Ballast Point Sculpin IPA\",\"rating\":{\"average\":1.0633744801576714,\"reviews\":323},\"image\":\"https://www.totalwine.com/media/sys_master/twmmedia/he7/hcf/11969504673822.png\",\"id\":56},{\"price\":\"$12.99\",\"name\":\"Stone Fear.Movie.Lions Double IPA\",\"rating\":{\"average\":4.193323291786882,\"reviews\":319},\"image\":\"https://www.totalwine.com/media/sys_master/twmmedia/h78/hdf/11797725052958.png\",\"id\":57},{\"price\":\"$7.99\",\"name\":\"New Belgium Fat Tire\",\"rating\":{\"average\":4.36964965425013,\"reviews\":440},\"image\":\"https://www.totalwine.com/media/sys_master/twmmedia/hfa/hc0/11805929209886.png\",\"id\":58},{\"price\":\"$87.99\",\"name\":\"New Belgium Fat Tire\",\"rating\":{\"average\":4.492195528374378,\"reviews\":83},\"image\":\"https://www.totalwine.com/media/sys_master/twmmedia/h5f/h1f/9781897035806.png\",\"id\":59},{\"price\":\"$10.99\",\"name\":\"New Belgium Trippel Belgian Style Ale\",\"rating\":{\"average\":2.6576216939051998,\"reviews\":389},\"image\":\"https://www.totalwine.com/media/sys_master/twmmedia/hc7/h44/11464107982878.png\",\"id\":60},{\"price\":\"$1.99\",\"name\":\"Paulaner Hefe Weizen\",\"rating\":{\"average\":2.224460075596946,\"reviews\":87},\"image\":\"https://www.totalwine.com/media/sys_master/twmmedia/h7f/h64/8820569014302.png\",\"id\":61},{\"price\":\"$10.99\",\"name\":\"Dogfish Head SeaQuenchAle\",\"rating\":{\"average\":2.604050274543601,\"reviews\":62},\"image\":\"https://www.totalwine.com/media/sys_master/twmmedia/h60/h11/10124017303582.png\",\"id\":62},{\"price\":\"$20.99\",\"name\":\"St Bernardus Abt 12\",\"rating\":{\"average\":1.0089880840508387,\"reviews\":205},\"image\":\"https://www.totalwine.com/media/sys_master/twmmedia/hcc/h30/10728889778206.png\",\"id\":63},{\"price\":\"$36.99\",\"name\":\"Dogfish Head World Wide Stout\",\"rating\":{\"average\":1.1643783197497646,\"reviews\":119},\"image\":\"https://www.totalwine.com/media/sys_master/twmmedia/h8c/h4e/10657395245086.png\",\"id\":64},{\"price\":\"$9.99\",\"name\":\"Unibroue - La Fin Du Monde\",\"rating\":{\"average\":2.514476444565455,\"reviews\":127},\"image\":\"https://www.totalwine.com/media/sys_master/twmmedia/h8c/hcd/8800920829982.png\",\"id\":65},{\"price\":\"$9.49\",\"name\":\"Sierra Nevada Pale Ale\",\"rating\":{\"average\":4.017110604857885,\"reviews\":393},\"image\":\"https://www.totalwine.com/media/sys_master/twmmedia/h05/h54/11589988024350.png\",\"id\":66},{\"price\":\"$8.99\",\"name\":\"Blue Moon Mango Wheat\",\"rating\":{\"average\":3.7853182263516203,\"reviews\":58},\"image\":\"https://www.totalwine.com/media/sys_master/twmmedia/hed/h46/11170760327198.png\",\"id\":67},{\"price\":\"$12.99\",\"name\":\"Oskar Blues Death By Coconut\",\"rating\":{\"average\":2.499562698383815,\"reviews\":130},\"image\":\"https://www.totalwine.com/media/sys_master/twmmedia/ha6/h87/9664767787038.png\",\"id\":68},{\"price\":\"$16.49\",\"name\":\"New Belgium Voodoo Ranger IPA\",\"rating\":{\"average\":1.3981363388800485,\"reviews\":441},\"image\":\"https://www.totalwine.com/media/sys_master/twmmedia/h5d/h93/10675772489758.png\",\"id\":69},{\"price\":\"$14.99\",\"name\":\"Kona Big Wave Golden Ale\",\"rating\":{\"average\":3.366369397953016,\"reviews\":370},\"image\":\"https://www.totalwine.com/media/sys_master/twmmedia/h8a/hcc/12027169669150.png\",\"id\":70},{\"price\":\"$8.99\",\"name\":\"Guinness Foreign Extra Stout\",\"rating\":{\"average\":3.955232912250458,\"reviews\":57},\"image\":\"https://www.totalwine.com/media/sys_master/twmmedia/h64/h42/11996578906142.png\",\"id\":71},{\"price\":\"$15.99\",\"name\":\"Schofferhofer Hefeweizen Grapefruit\",\"rating\":{\"average\":2.887846830566846,\"reviews\":297},\"image\":\"https://www.totalwine.com/media/sys_master/twmmedia/hb5/hd5/11358023155742.png\",\"id\":72},{\"price\":\"$13.99\",\"name\":\"Ballast Point Sculpin IPA\",\"rating\":{\"average\":1.4983124359520046,\"reviews\":53},\"image\":\"https://www.totalwine.com/media/sys_master/twmmedia/h54/h09/11969425702942.png\",\"id\":73},{\"price\":\"$11.49\",\"name\":\"Stone Arrogant Bastard Ale\",\"rating\":{\"average\":4.476922876044725,\"reviews\":410},\"image\":\"https://www.totalwine.com/media/sys_master/twmmedia/h7a/h9c/11770097860638.png\",\"id\":74},{\"price\":\"$13.49\",\"name\":\"Ballast Point Grapefruit Sculpin IPA\",\"rating\":{\"average\":2.2181579436694605,\"reviews\":130},\"image\":\"https://www.totalwine.com/media/sys_master/twmmedia/h2e/h8e/11969407221790.png\",\"id\":75},{\"price\":\"$9.99\",\"name\":\"Oskar Blues Dale\\'s Pale Ale\",\"rating\":{\"average\":1.0189692403493238,\"reviews\":280},\"image\":\"https://www.totalwine.com/media/sys_master/twmmedia/h2f/h10/8804817240094.png\",\"id\":76},{\"price\":\"$13.99\",\"name\":\"Chimay Grande Reserve Blue\",\"rating\":{\"average\":3.3233628692606922,\"reviews\":90},\"image\":\"https://www.totalwine.com/media/sys_master/twmmedia/h43/hf5/8820567834654.png\",\"id\":77},{\"price\":\"$17.49\",\"name\":\"Boulevard Bourbon Barrel Quad\",\"rating\":{\"average\":3.3608031669590206,\"reviews\":126},\"image\":\"https://www.totalwine.com/media/sys_master/twmmedia/h6b/ha4/10501577375774.png\",\"id\":78},{\"price\":\"$9.49\",\"name\":\"Hofbrau Hefe Weizen\",\"rating\":{\"average\":3.1129695093601795,\"reviews\":169},\"image\":\"https://www.totalwine.com/media/sys_master/twmmedia/h08/h77/8816818946078.png\",\"id\":79},{\"price\":\"$14.99\",\"name\":\"Boulevard Tank 7 Farmhouse Ale\",\"rating\":{\"average\":2.525521586557562,\"reviews\":369},\"image\":\"https://www.totalwine.com/media/sys_master/twmmedia/h41/h0f/12021147697182.png\",\"id\":80},{\"price\":\"$2.99\",\"name\":\"Samuel Smith\\'s Organic Chocolate Stout\",\"rating\":{\"average\":4.1555247865397416,\"reviews\":169},\"image\":\"https://www.totalwine.com/media/sys_master/twmmedia/h37/ha6/8803802054686.png\",\"id\":81},{\"price\":\"$2.79\",\"name\":\"Bell\\'s Special Double Cream Stout\",\"rating\":{\"average\":3.682967725411885,\"reviews\":56},\"image\":\"https://www.totalwine.com/media/sys_master/twmmedia/h73/h11/8803018965022.png\",\"id\":82},{\"price\":\"$9.99\",\"name\":\"Founders Dirty Bastard Ale\",\"rating\":{\"average\":3.970086617125669,\"reviews\":72},\"image\":\"https://www.totalwine.com/media/sys_master/twmmedia/h6b/ha2/8806269812766.png\",\"id\":83},{\"price\":\"$11.79\",\"name\":\"Achouffe La Chouffe\",\"rating\":{\"average\":3.800563812674647,\"reviews\":151},\"image\":\"https://www.totalwine.com/media/sys_master/twmmedia/ha0/h87/10140920315934.png\",\"id\":84},{\"price\":\"$17.99\",\"name\":\"Founders Mosaic Promise\",\"rating\":{\"average\":4.052128197668433,\"reviews\":378},\"image\":\"https://www.totalwine.com/media/sys_master/twmmedia/h32/hca/10698194583582.png\",\"id\":85},{\"price\":\"$22.99\",\"name\":\"Stone Delicious IPA\",\"rating\":{\"average\":4.437512706307549,\"reviews\":238},\"image\":\"https://www.totalwine.com/media/sys_master/twmmedia/ha2/h39/12007074758686.png\",\"id\":86},{\"price\":\"$10.99\",\"name\":\"Rogue Batsquatch Hazy IPA\",\"rating\":{\"average\":4.502906484625454,\"reviews\":483},\"image\":\"https://www.totalwine.com/media/sys_master/twmmedia/hc3/h11/11931839692830.png\",\"id\":87},{\"price\":\"$11.49\",\"name\":\"New Belgium Voodoo Ranger Juicy Haze IPA\",\"rating\":{\"average\":4.800191829796816,\"reviews\":255},\"image\":\"https://www.totalwine.com/media/sys_master/cmsmedia/hff/h0e/8979036078110.png\",\"id\":88},{\"price\":\"$17.99\",\"name\":\"Boulevard Whiskey Barrel Stout\",\"rating\":{\"average\":3.7756782589755353,\"reviews\":180},\"image\":\"https://www.totalwine.com/media/sys_master/twmmedia/h69/h85/11443360235550.png\",\"id\":89},{\"price\":\"$9.99\",\"name\":\"Lagunitas Maximus IPA\",\"rating\":{\"average\":3.641323719494787,\"reviews\":493},\"image\":\"https://www.totalwine.com/media/sys_master/twmmedia/h45/h8f/9418350657566.png\",\"id\":90},{\"price\":\"$12.99\",\"name\":\"Offshoot Relax (It\\'s Just a Hazy IPA)\",\"rating\":{\"average\":4.169674694322197,\"reviews\":164},\"image\":\"https://www.totalwine.com/media/sys_master/twmmedia/h90/h58/11311020245022.png\",\"id\":91},{\"price\":\"$12.99\",\"name\":\"Sixpoint Resin\",\"rating\":{\"average\":3.1029248482584535,\"reviews\":234},\"image\":\"https://www.totalwine.com/media/sys_master/twmmedia/hf5/hfb/10657396424734.png\",\"id\":92},{\"price\":\"$99.99\",\"name\":\"Cigar City Jai-Alai IPA\",\"rating\":{\"average\":1.0601853988027745,\"reviews\":485},\"image\":\"https://www.totalwine.com/media/sys_master/twmmedia/hdc/h98/9781940322334.png\",\"id\":93},{\"price\":\"$12.99\",\"name\":\"Wicked Weed Pernicious IPA\",\"rating\":{\"average\":1.3267940892543262,\"reviews\":234},\"image\":\"https://www.totalwine.com/media/sys_master/cmsmedia/hff/h0e/8979036078110.png\",\"id\":94},{\"price\":\"$12.99\",\"name\":\"Dogfish Head SuperEIGHT\",\"rating\":{\"average\":2.4587302813711283,\"reviews\":191},\"image\":\"https://www.totalwine.com/media/sys_master/cmsmedia/hff/h0e/8979036078110.png\",\"id\":95},{\"price\":\"$6.99\",\"name\":\"Rochefort 10 Trappist Ale\",\"rating\":{\"average\":2.6243993844011806,\"reviews\":303},\"image\":\"https://www.totalwine.com/media/sys_master/twmmedia/hcc/h4a/8803981787166.png\",\"id\":96},{\"price\":\"$18.99\",\"name\":\"Delirium Tremens\",\"rating\":{\"average\":4.2526903890313905,\"reviews\":463},\"image\":\"https://www.totalwine.com/media/sys_master/twmmedia/h05/ha0/8804687970334.png\",\"id\":97},{\"price\":\"$8.99\",\"name\":\"Lagunitas SuperCluster\",\"rating\":{\"average\":4.969725976340016,\"reviews\":59},\"image\":\"https://www.totalwine.com/media/sys_master/cmsmedia/hff/h0e/8979036078110.png\",\"id\":98},{\"price\":\"$12.99\",\"name\":\"New Holland Dragon\\'s Milk White Stout\",\"rating\":{\"average\":2.62207680296948,\"reviews\":66},\"image\":\"https://www.totalwine.com/media/sys_master/cmsmedia/hff/h0e/8979036078110.png\",\"id\":99},{\"price\":\"$7.99\",\"name\":\"Goose Island IPA\",\"rating\":{\"average\":4.002017823140871,\"reviews\":323},\"image\":\"https://www.totalwine.com/media/sys_master/twmmedia/h39/h7f/9985249247262.png\",\"id\":100},{\"price\":\"$13.49\",\"name\":\"Ballast Point Grapefruit Sculpin IPA\",\"rating\":{\"average\":2.924150050325185,\"reviews\":66},\"image\":\"https://www.totalwine.com/media/sys_master/twmmedia/h14/h10/11969425997854.png\",\"id\":101},{\"price\":\"$1.79\",\"name\":\"Sierra Nevada Torpedo Extra IPA\",\"rating\":{\"average\":4.132209648216585,\"reviews\":86},\"image\":\"https://www.totalwine.com/media/sys_master/twmmedia/h88/h47/8796708962334.png\",\"id\":102},{\"price\":\"$10.99\",\"name\":\"Duclaw Sweet Baby Jesus!\",\"rating\":{\"average\":4.089769886898315,\"reviews\":402},\"image\":\"https://www.totalwine.com/media/sys_master/twmmedia/hb1/h21/9351707328542.png\",\"id\":103},{\"price\":\"$16.99\",\"name\":\"Lagunitas Sumpin\\' Easy\",\"rating\":{\"average\":1.3485746897254929,\"reviews\":334},\"image\":\"https://www.totalwine.com/media/sys_master/twmmedia/h29/h71/11312566894622.png\",\"id\":104},{\"price\":\"$12.99\",\"name\":\"Lord Hobo Boom Sauce\",\"rating\":{\"average\":4.271835995644435,\"reviews\":102},\"image\":\"https://www.totalwine.com/media/sys_master/twmmedia/h28/h24/11544524718110.png\",\"id\":105},{\"price\":\"$12.99\",\"name\":\"Weihenstephaner Vitus\",\"rating\":{\"average\":1.3135036691160673,\"reviews\":469},\"image\":\"https://www.totalwine.com/media/sys_master/twmmedia/he4/hd0/11969417609246.png\",\"id\":106},{\"price\":\"$12.79\",\"name\":\"New Belgium Voodoo Ranger Juicifer IPA\",\"rating\":{\"average\":3.9492021918949725,\"reviews\":236},\"image\":\"https://www.totalwine.com/media/sys_master/cmsmedia/hff/h0e/8979036078110.png\",\"id\":107},{\"price\":\"$12.99\",\"name\":\"Lindeman\\'s Framboise\",\"rating\":{\"average\":2.7519071827960273,\"reviews\":108},\"image\":\"https://www.totalwine.com/media/sys_master/cmsmedia/hff/h0e/8979036078110.png\",\"id\":108},{\"price\":\"$14.99\",\"name\":\"Dogfish Head Palo Santo Marron\",\"rating\":{\"average\":2.4190073235744673,\"reviews\":75},\"image\":\"https://www.totalwine.com/media/sys_master/twmmedia/hbe/h3c/10225139908638.png\",\"id\":109},{\"price\":\"$15.49\",\"name\":\"Clown Shoes Space Cake\",\"rating\":{\"average\":4.883356891746129,\"reviews\":367},\"image\":\"https://www.totalwine.com/media/sys_master/cmsmedia/hff/h0e/8979036078110.png\",\"id\":110},{\"price\":\"$9.99\",\"name\":\"Bell\\'s Best Brown Ale\",\"rating\":{\"average\":2.6802502419403025,\"reviews\":406},\"image\":\"https://www.totalwine.com/media/sys_master/twmmedia/heb/h89/8815740649502.png\",\"id\":111},{\"price\":\"$11.99\",\"name\":\"Victory Golden Monkey Ale\",\"rating\":{\"average\":3.223867503577261,\"reviews\":257},\"image\":\"https://www.totalwine.com/media/sys_master/twmmedia/h2e/h20/11849258532894.png\",\"id\":112},{\"price\":\"$8.99\",\"name\":\"Erdinger Weissbier\",\"rating\":{\"average\":3.9267369526916545,\"reviews\":78},\"image\":\"https://www.totalwine.com/media/sys_master/twmmedia/h61/hda/8820602109982.png\",\"id\":113},{\"price\":\"$10.99\",\"name\":\"Robinsons Trooper Ale\",\"rating\":{\"average\":3.834032592144709,\"reviews\":338},\"image\":\"https://www.totalwine.com/media/sys_master/twmmedia/h42/hf3/10675674120222.png\",\"id\":114},{\"price\":\"$3.99\",\"name\":\"Kentucky Coffee Barrel Stout\",\"rating\":{\"average\":1.335718639280703,\"reviews\":416},\"image\":\"https://www.totalwine.com/media/sys_master/twmmedia/h25/h7f/11931443626014.png\",\"id\":115},{\"price\":\"$9.99\",\"name\":\"21st Amendment Brew Free Or Die Blood Orange IPA\",\"rating\":{\"average\":4.894730680324359,\"reviews\":230},\"image\":\"https://www.totalwine.com/media/sys_master/twmmedia/h7d/had/11170752692254.png\",\"id\":116},{\"price\":\"$9.49\",\"name\":\"Kronenbourg Blanc\",\"rating\":{\"average\":2.7826152662684214,\"reviews\":304},\"image\":\"https://www.totalwine.com/media/sys_master/twmmedia/h8c/ha4/9354116857886.png\",\"id\":117},{\"price\":\"$10.99\",\"name\":\"Bell\\'s Official Hazy IPA\",\"rating\":{\"average\":4.4548183643373855,\"reviews\":480},\"image\":\"https://www.totalwine.com/media/sys_master/cmsmedia/hff/h0e/8979036078110.png\",\"id\":118},{\"price\":\"$8.99\",\"name\":\"Cigar City Maduro Brown\",\"rating\":{\"average\":2.6831070228729246,\"reviews\":474},\"image\":\"https://www.totalwine.com/media/sys_master/twmmedia/h8f/heb/11589816057886.png\",\"id\":119},{\"price\":\"$20.99\",\"name\":\"Gulden Draak 9000 Quadrupel\",\"rating\":{\"average\":2.7633099153167375,\"reviews\":359},\"image\":\"https://www.totalwine.com/media/sys_master/twmmedia/h71/h01/8800490422302.png\",\"id\":120},{\"price\":\"$10.99\",\"name\":\"Bell\\'s Two Hearted Ale\",\"rating\":{\"average\":3.086009671445667,\"reviews\":499},\"image\":\"https://www.totalwine.com/media/sys_master/cmsmedia/hff/h0e/8979036078110.png\",\"id\":121},{\"price\":\"$9.99\",\"name\":\"Sierra Nevada Hop Bullet\",\"rating\":{\"average\":4.606551938913049,\"reviews\":409},\"image\":\"https://www.totalwine.com/media/sys_master/cmsmedia/hff/h0e/8979036078110.png\",\"id\":122},{\"price\":\"$8.99\",\"name\":\"Sweetwater 420 Strain G-13\",\"rating\":{\"average\":4.176603737571783,\"reviews\":371},\"image\":\"https://www.totalwine.com/media/sys_master/cmsmedia/hff/h0e/8979036078110.png\",\"id\":123},{\"price\":\"$19.99\",\"name\":\"Tripel Karmeliet\",\"rating\":{\"average\":3.5888947699078804,\"reviews\":378},\"image\":\"https://www.totalwine.com/media/sys_master/twmmedia/h7f/h6e/8797892739102.png\",\"id\":124},{\"price\":\"$8.49\",\"name\":\"New Belgium Voodoo Ranger IPA\",\"rating\":{\"average\":4.107273030523367,\"reviews\":93},\"image\":\"https://www.totalwine.com/media/sys_master/twmmedia/h2c/h7e/10508834045982.png\",\"id\":125},{\"price\":\"$92.99\",\"name\":\"Kona Big Wave Golden Ale\",\"rating\":{\"average\":1.4034451390194747,\"reviews\":443},\"image\":\"https://www.totalwine.com/media/sys_master/twmmedia/h90/hfb/9687556685854.png\",\"id\":126},{\"price\":\"$9.99\",\"name\":\"Heavy Seas Loose Cannon IPA\",\"rating\":{\"average\":4.2247057118155755,\"reviews\":189},\"image\":\"https://www.totalwine.com/media/sys_master/twmmedia/hba/h54/11931504771102.png\",\"id\":127},{\"price\":\"$9.49\",\"name\":\"Newcastle Brown Ale\",\"rating\":{\"average\":1.3062165130061514,\"reviews\":122},\"image\":\"https://www.totalwine.com/media/sys_master/twmmedia/h2e/he3/10072387780638.png\",\"id\":128},{\"price\":\"$15.99\",\"name\":\"Ommegang Three Philosophers\",\"rating\":{\"average\":3.7650339790702576,\"reviews\":271},\"image\":\"https://www.totalwine.com/media/sys_master/twmmedia/h39/h4a/9382849708062.png\",\"id\":129},{\"price\":\"$7.49\",\"name\":\"Shock Top Belgian White Ale\",\"rating\":{\"average\":3.5245058222634285,\"reviews\":262},\"image\":\"https://www.totalwine.com/media/sys_master/twmmedia/hf6/h53/11891418136606.png\",\"id\":130},{\"price\":\"$19.49\",\"name\":\"Duchesse De Bourgogne\",\"rating\":{\"average\":3.7854120339206645,\"reviews\":115},\"image\":\"https://www.totalwine.com/media/sys_master/twmmedia/h1d/h1c/8804202479646.png\",\"id\":131},{\"price\":\"$9.49\",\"name\":\"New Belgium Fat Tire Belgian White\",\"rating\":{\"average\":3.079965625452034,\"reviews\":160},\"image\":\"https://www.totalwine.com/media/sys_master/twmmedia/hb5/hd4/11698320834590.png\",\"id\":132},{\"price\":\"$10.49\",\"name\":\"Cigar City Guayabera Citra Pale Ale\",\"rating\":{\"average\":4.146664357611568,\"reviews\":416},\"image\":\"https://www.totalwine.com/media/sys_master/twmmedia/h4a/h12/11401918382110.png\",\"id\":133},{\"price\":\"$13.99\",\"name\":\"Dogfish Head American Beauty\",\"rating\":{\"average\":2.1059576853999387,\"reviews\":64},\"image\":\"https://www.totalwine.com/media/sys_master/twmmedia/hc1/hc4/11797694316574.png\",\"id\":134},{\"price\":\"$11.49\",\"name\":\"Old Speckled Hen\",\"rating\":{\"average\":2.3637872222112417,\"reviews\":187},\"image\":\"https://www.totalwine.com/media/sys_master/twmmedia/h18/h7e/8804595925022.png\",\"id\":135},{\"price\":\"$10.99\",\"name\":\"Samuel Smith\\'s Oatmeal Stout\",\"rating\":{\"average\":3.755651312235952,\"reviews\":231},\"image\":\"https://www.totalwine.com/media/sys_master/twmmedia/hf4/h32/8802976104478.png\",\"id\":136},{\"price\":\"$1.99\",\"name\":\"Foster\\'s Special Bitter\",\"rating\":{\"average\":3.345153453413597,\"reviews\":456},\"image\":\"https://www.totalwine.com/media/sys_master/twmmedia/hd3/hf0/11941521293342.png\",\"id\":137},{\"price\":\"$8.99\",\"name\":\"Kona Hanalei Island IPA\",\"rating\":{\"average\":3.861066233750919,\"reviews\":59},\"image\":\"https://www.totalwine.com/media/sys_master/twmmedia/hc4/h25/9947401158686.png\",\"id\":138},{\"price\":\"$12.99\",\"name\":\"Gaffel Kolsch\",\"rating\":{\"average\":3.5860968066070953,\"reviews\":446},\"image\":\"https://www.totalwine.com/media/sys_master/twmmedia/h4d/h45/8804792565790.png\",\"id\":139},{\"price\":\"$9.99\",\"name\":\"Left Hand Milk Stout Nitro\",\"rating\":{\"average\":4.726783116573011,\"reviews\":236},\"image\":\"https://www.totalwine.com/media/sys_master/twmmedia/h13/hcc/10950394413086.png\",\"id\":140},{\"price\":\"$8.99\",\"name\":\"Paulaner Hefe Weizen\",\"rating\":{\"average\":2.290946882490756,\"reviews\":55},\"image\":\"https://www.totalwine.com/media/sys_master/cmsmedia/hff/h0e/8979036078110.png\",\"id\":141},{\"price\":\"$11.49\",\"name\":\"Stone Tangerine Express IPA\",\"rating\":{\"average\":2.4853029525964736,\"reviews\":185},\"image\":\"https://www.totalwine.com/media/sys_master/twmmedia/h44/h41/12007072989214.png\",\"id\":142},{\"price\":\"$15.99\",\"name\":\"Samuel Adams Rebel IPA\",\"rating\":{\"average\":2.8238527317268174,\"reviews\":383},\"image\":\"https://www.totalwine.com/media/sys_master/twmmedia/h4f/h71/8807125319710.png\",\"id\":143},{\"price\":\"$8.49\",\"name\":\"Bass Ale\",\"rating\":{\"average\":4.05017330128582,\"reviews\":374},\"image\":\"https://www.totalwine.com/media/sys_master/twmmedia/h83/he6/11931937210398.png\",\"id\":144},{\"price\":\"$20.49\",\"name\":\"Chimay Premiere Red\",\"rating\":{\"average\":3.240237215285262,\"reviews\":79},\"image\":\"https://www.totalwine.com/media/sys_master/twmmedia/h8c/hec/8804559716382.png\",\"id\":145},{\"price\":\"$11.99\",\"name\":\"Duvel Tripel Hop\",\"rating\":{\"average\":1.7576812202358694,\"reviews\":357},\"image\":\"https://www.totalwine.com/media/sys_master/twmmedia/h47/h64/10126441840670.png\",\"id\":146},{\"price\":\"$11.99\",\"name\":\"Tripel Karmeliet\",\"rating\":{\"average\":2.0935730249494418,\"reviews\":428},\"image\":\"https://www.totalwine.com/media/sys_master/twmmedia/h92/h87/8820300283934.png\",\"id\":147},{\"price\":\"$11.99\",\"name\":\"Rogue Hazelnut Brown Nectar\",\"rating\":{\"average\":1.9354656518898867,\"reviews\":259},\"image\":\"https://www.totalwine.com/media/sys_master/twmmedia/h53/hf1/11139791421470.png\",\"id\":148},{\"price\":\"$19.99\",\"name\":\"Chimay Cinq Cents White Triple\",\"rating\":{\"average\":3.750476125324088,\"reviews\":184},\"image\":\"https://www.totalwine.com/media/sys_master/twmmedia/hb8/h2f/8804746330142.png\",\"id\":149},{\"price\":\"$8.99\",\"name\":\"Cigar City Florida Cracker Belgian-style White Ale\",\"rating\":{\"average\":3.6242276941091225,\"reviews\":113},\"image\":\"https://www.totalwine.com/media/sys_master/twmmedia/h33/h59/11589816352798.png\",\"id\":150},{\"price\":\"$12.99\",\"name\":\"New Belgium Honey Orange Tripel\",\"rating\":{\"average\":4.180322318620529,\"reviews\":408},\"image\":\"https://www.totalwine.com/media/sys_master/twmmedia/h03/h93/11375132606494.png\",\"id\":151},{\"price\":\"$14.79\",\"name\":\"Dogfish Head Flesh and Blood IPA\",\"rating\":{\"average\":3.250643535696838,\"reviews\":385},\"image\":\"https://www.totalwine.com/media/sys_master/twmmedia/hdd/hba/10124016943134.png\",\"id\":152},{\"price\":\"$17.99\",\"name\":\"Bell\\'s Expedition Stout\",\"rating\":{\"average\":3.717992549497703,\"reviews\":404},\"image\":\"https://www.totalwine.com/media/sys_master/twmmedia/h60/hb2/8800955105310.png\",\"id\":153},{\"price\":\"$11.49\",\"name\":\"Duchesse De Bourgogne\",\"rating\":{\"average\":2.524190913111866,\"reviews\":262},\"image\":\"https://www.totalwine.com/media/sys_master/twmmedia/h8f/h1d/8801000161310.png\",\"id\":154},{\"price\":\"$14.99\",\"name\":\"Westmalle Tripel Trappist Ale\",\"rating\":{\"average\":2.209130924062644,\"reviews\":129},\"image\":\"https://www.totalwine.com/media/sys_master/twmmedia/hb1/hd1/8798192369694.png\",\"id\":155},{\"price\":\"$3.99\",\"name\":\"Weihenstephaner HefeWeissbier Dark\",\"rating\":{\"average\":3.434066764526942,\"reviews\":374},\"image\":\"https://www.totalwine.com/media/sys_master/twmmedia/h43/h4b/10734629224478.png\",\"id\":156},{\"price\":\"$8.99\",\"name\":\"Fuller\\'s London Pride\",\"rating\":{\"average\":4.788464936323404,\"reviews\":465},\"image\":\"https://www.totalwine.com/media/sys_master/twmmedia/had/h2c/9770875682846.png\",\"id\":157},{\"price\":\"$16.49\",\"name\":\"SweetWater 420 Pale Ale\",\"rating\":{\"average\":1.5438991712581398,\"reviews\":144},\"image\":\"https://www.totalwine.com/media/sys_master/twmmedia/h38/h5f/11508996374558.png\",\"id\":158},{\"price\":\"$16.99\",\"name\":\"Sweetwater 420 Strain G-13\",\"rating\":{\"average\":4.032524982682152,\"reviews\":370},\"image\":\"https://www.totalwine.com/media/sys_master/cmsmedia/hff/h0e/8979036078110.png\",\"id\":159},{\"price\":\"$9.99\",\"name\":\"Lagunitas Hop Stoopid Ale\",\"rating\":{\"average\":2.0824476203303357,\"reviews\":468},\"image\":\"https://www.totalwine.com/media/sys_master/twmmedia/h59/hc4/11213336576030.png\",\"id\":160},{\"price\":\"$114.99\",\"name\":\"Dogfish Head 60-Minute IPA\",\"rating\":{\"average\":1.630334145085353,\"reviews\":311},\"image\":\"https://www.totalwine.com/media/sys_master/twmmedia/h52/h71/9789269934110.png\",\"id\":161},{\"price\":\"$9.99\",\"name\":\"Founders All Day IPA\",\"rating\":{\"average\":4.008025403767698,\"reviews\":441},\"image\":\"https://www.totalwine.com/media/sys_master/twmmedia/h13/hd3/11891418726430.png\",\"id\":162},{\"price\":\"$8.49\",\"name\":\"Unibroue - La Fin Du Monde\",\"rating\":{\"average\":2.8047611369349283,\"reviews\":470},\"image\":\"https://www.totalwine.com/media/sys_master/twmmedia/h74/h43/8804124753950.png\",\"id\":163},{\"price\":\"$15.99\",\"name\":\"Oskar Blues Ten FIDY\",\"rating\":{\"average\":2.9788154999137637,\"reviews\":436},\"image\":\"https://www.totalwine.com/media/sys_master/twmmedia/hc1/h8e/11465945481246.png\",\"id\":164},{\"price\":\"$10.99\",\"name\":\"Anderson Valley GOSE Blood Orange\",\"rating\":{\"average\":3.1066752148241683,\"reviews\":288},\"image\":\"https://www.totalwine.com/media/sys_master/twmmedia/h4a/h43/11635363905566.png\",\"id\":165},{\"price\":\"$12.49\",\"name\":\"Lindeman\\'s Peche\",\"rating\":{\"average\":3.0755646338784075,\"reviews\":138},\"image\":\"https://www.totalwine.com/media/sys_master/twmmedia/h3a/hf0/8810013884446.png\",\"id\":166},{\"price\":\"$12.49\",\"name\":\"Stone Scorpion Bowl IPA\",\"rating\":{\"average\":2.733436034499219,\"reviews\":339},\"image\":\"https://www.totalwine.com/media/sys_master/twmmedia/h49/h76/11443412828190.png\",\"id\":167},{\"price\":\"$15.99\",\"name\":\"Dogfish Head Burton Baton\",\"rating\":{\"average\":3.926503869642703,\"reviews\":86},\"image\":\"https://www.totalwine.com/media/sys_master/twmmedia/hae/haf/10124015304734.png\",\"id\":168},{\"price\":\"$14.99\",\"name\":\"Boulevard The Calling IPA\",\"rating\":{\"average\":1.5012371833611837,\"reviews\":93},\"image\":\"https://www.totalwine.com/media/sys_master/twmmedia/hec/hc3/11192440225822.png\",\"id\":169},{\"price\":\"$4.99\",\"name\":\"Delirium Red\",\"rating\":{\"average\":3.329751337964476,\"reviews\":385},\"image\":\"https://www.totalwine.com/media/sys_master/cmsmedia/hff/h0e/8979036078110.png\",\"id\":170},{\"price\":\"$1.99\",\"name\":\"Karbach Love Street Summer\",\"rating\":{\"average\":4.620266818178933,\"reviews\":185},\"image\":\"https://www.totalwine.com/media/sys_master/twmmedia/h47/hf1/10777645285406.png\",\"id\":171},{\"price\":\"$11.99\",\"name\":\"Einstok Icelandic White Ale\",\"rating\":{\"average\":4.81471460936719,\"reviews\":58},\"image\":\"https://www.totalwine.com/media/sys_master/twmmedia/h66/h62/11234593931294.png\",\"id\":172},{\"price\":\"$9.99\",\"name\":\"Dogfish Head 90-Minute IPA\",\"rating\":{\"average\":3.8590704317769315,\"reviews\":120},\"image\":\"https://www.totalwine.com/media/sys_master/cmsmedia/hff/h0e/8979036078110.png\",\"id\":173},{\"price\":\"$10.99\",\"name\":\"Anderson Valley Briney Melon Gose\",\"rating\":{\"average\":1.6308706827038444,\"reviews\":215},\"image\":\"https://www.totalwine.com/media/sys_master/twmmedia/h0b/hbe/11635387465758.png\",\"id\":174},{\"price\":\"$8.99\",\"name\":\"Boulevard Space Camper Cosmic IPA\",\"rating\":{\"average\":1.0521580970660143,\"reviews\":214},\"image\":\"https://www.totalwine.com/media/sys_master/twmmedia/hff/h26/11735207706654.png\",\"id\":175},{\"price\":\"$17.99\",\"name\":\"Piraat Ale\",\"rating\":{\"average\":4.94233495501944,\"reviews\":185},\"image\":\"https://www.totalwine.com/media/sys_master/twmmedia/h67/he1/9071469920286.png\",\"id\":176},{\"price\":\"$6.49\",\"name\":\"Lindeman\\'s Framboise\",\"rating\":{\"average\":3.749494609725903,\"reviews\":321},\"image\":\"https://www.totalwine.com/media/sys_master/twmmedia/h6e/h57/10225140629534.png\",\"id\":177},{\"price\":\"$13.99\",\"name\":\"Blue Moon Belgian White Belgian-Style Wheat Ale\",\"rating\":{\"average\":2.323260489551802,\"reviews\":132},\"image\":\"https://www.totalwine.com/media/sys_master/twmmedia/h54/h53/11931543535646.png\",\"id\":178},{\"price\":\"$9.99\",\"name\":\"Founders All Day IPA\",\"rating\":{\"average\":5,\"reviews\":462},\"image\":\"https://www.totalwine.com/media/sys_master/twmmedia/hcb/h02/11891413352478.png\",\"id\":179},{\"price\":\"$11.99\",\"name\":\"Chimay Cinq Cents White Triple\",\"rating\":{\"average\":1.997464538301898,\"reviews\":89},\"image\":\"https://www.totalwine.com/media/sys_master/twmmedia/h67/h22/8801543749662.png\",\"id\":180}]'"
      ]
     },
     "execution_count": 10,
     "metadata": {},
     "output_type": "execute_result"
    }
   ],
>>>>>>> 27abb7cde2f2c449d1e9d586b2022a91e4a64529
   "source": [
    "# The interesting thing about APIS is not so much the state of the response, but the content that is returned.\n",
    "# Everything is stored in \"response\" or in the variable to which we assign the result.\n",
    "\n",
    "endpoint = 'https://api.sampleapis.com/beers/ale'\n",
    "response = requests.get(endpoint)\n",
    "response.content"
   ]
  },
  {
   "cell_type": "code",
<<<<<<< HEAD
   "execution_count": null,
   "id": "13aff9ff-7720-4596-8b7a-8eaf24e2a303",
   "metadata": {},
   "outputs": [],
=======
   "execution_count": 11,
   "id": "13aff9ff-7720-4596-8b7a-8eaf24e2a303",
   "metadata": {},
   "outputs": [
    {
     "data": {
      "text/plain": [
       "'[{\"price\":\"$16.99\",\"name\":\"Founders All Day IPA\",\"rating\":{\"average\":4.411243509154233,\"reviews\":453},\"image\":\"https://www.totalwine.com/media/sys_master/twmmedia/h00/h94/11891416367134.png\",\"id\":1},{\"price\":\"$13.99\",\"name\":\"Blue Moon Belgian White Belgian-Style Wheat Ale\",\"rating\":{\"average\":4.775260833383482,\"reviews\":305},\"image\":\"https://www.totalwine.com/media/sys_master/twmmedia/he8/h67/11931543830558.png\",\"id\":2},{\"price\":\"$16.99\",\"name\":\"Guinness Extra Stout\",\"rating\":{\"average\":3.9785961474594638,\"reviews\":119},\"image\":\"https://www.totalwine.com/media/sys_master/twmmedia/h50/h90/11996630056990.png\",\"id\":3},{\"price\":\"$8.99\",\"name\":\"Guinness Extra Stout\",\"rating\":{\"average\":3.5135460961961718,\"reviews\":199},\"image\":\"https://www.totalwine.com/media/sys_master/twmmedia/h35/he7/11996577726494.png\",\"id\":4},{\"price\":\"$15.49\",\"name\":\"Sierra Nevada Pale Ale\",\"rating\":{\"average\":4.266364643483868,\"reviews\":414},\"image\":\"https://www.totalwine.com/media/sys_master/twmmedia/h19/h43/11735160193054.png\",\"id\":5},{\"price\":\"$15.49\",\"name\":\"Sierra Nevada Pale Ale\",\"rating\":{\"average\":3.141161723541611,\"reviews\":459},\"image\":\"https://www.totalwine.com/media/sys_master/twmmedia/h0a/h17/11589987434526.png\",\"id\":6},{\"price\":\"$15.99\",\"name\":\"Lagunitas IPA\",\"rating\":{\"average\":1.7610665871324303,\"reviews\":358},\"image\":\"https://www.totalwine.com/media/sys_master/twmmedia/hd2/hfd/11348869382174.png\",\"id\":7},{\"price\":\"$11.99\",\"name\":\"Dogfish Head 120-Minute IPA\",\"rating\":{\"average\":3.1053162095618543,\"reviews\":64},\"image\":\"https://www.totalwine.com/media/sys_master/twmmedia/hf7/h2e/8814407614494.png\",\"id\":8},{\"price\":\"$15.49\",\"name\":\"Sierra Nevada Torpedo Extra IPA\",\"rating\":{\"average\":1.1092369711087207,\"reviews\":345},\"image\":\"https://www.totalwine.com/media/sys_master/twmmedia/ha5/h01/8799883329566.png\",\"id\":9},{\"price\":\"$15.99\",\"name\":\"Sierra Nevada Hazy Little Thing IPA\",\"rating\":{\"average\":3.9890785544340925,\"reviews\":170},\"image\":\"https://www.totalwine.com/media/sys_master/cmsmedia/hff/h0e/8979036078110.png\",\"id\":10},{\"price\":\"$14.99\",\"name\":\"New Holland Dragon\\'s Milk\",\"rating\":{\"average\":1.2005615080794012,\"reviews\":493},\"image\":\"https://www.totalwine.com/media/sys_master/twmmedia/hf1/hef/11388243083294.png\",\"id\":11},{\"price\":\"$12.99\",\"name\":\"New Belgium Oakspire Bourbon Barrel Ale\",\"rating\":{\"average\":2.0996330805016186,\"reviews\":342},\"image\":\"https://www.totalwine.com/media/sys_master/twmmedia/h8b/h8f/11475320012830.png\",\"id\":12},{\"price\":\"$7.49\",\"name\":\"Guinness Draught\",\"rating\":{\"average\":1.4506545003190645,\"reviews\":452},\"image\":\"https://www.totalwine.com/media/sys_master/twmmedia/hcc/h64/11996579201054.png\",\"id\":13},{\"price\":\"$10.99\",\"name\":\"Dogfish Head 60-Minute IPA\",\"rating\":{\"average\":1.3770307904176358,\"reviews\":324},\"image\":\"https://www.totalwine.com/media/sys_master/twmmedia/h17/hc9/10124015599646.png\",\"id\":14},{\"price\":\"$7.99\",\"name\":\"Blue Moon Belgian White Belgian-Style Wheat Ale\",\"rating\":{\"average\":4.041128289991199,\"reviews\":50},\"image\":\"https://www.totalwine.com/media/sys_master/twmmedia/h5b/hff/11941592694814.png\",\"id\":15},{\"price\":\"$16.99\",\"name\":\"Guinness Draught\",\"rating\":{\"average\":2.9002860700543973,\"reviews\":401},\"image\":\"https://www.totalwine.com/media/sys_master/twmmedia/h66/h6a/11996634775582.png\",\"id\":16},{\"price\":\"$10.99\",\"name\":\"Weihenstephaner Hefe Weissbier\",\"rating\":{\"average\":2.89292945072894,\"reviews\":267},\"image\":\"https://www.totalwine.com/media/sys_master/twmmedia/h19/he2/11969419083806.png\",\"id\":17},{\"price\":\"$2.29\",\"name\":\"Cigar City Jai-Alai IPA\",\"rating\":{\"average\":3.779669618771213,\"reviews\":206},\"image\":\"https://www.totalwine.com/media/sys_master/twmmedia/hdb/h25/11969380712478.png\",\"id\":18},{\"price\":\"$21.99\",\"name\":\"Bell\\'s Two Hearted Ale\",\"rating\":{\"average\":1.768500733899927,\"reviews\":63},\"image\":\"https://www.totalwine.com/media/sys_master/twmmedia/hfc/h84/11735172120606.png\",\"id\":19},{\"price\":\"$12.99\",\"name\":\"Kentucky Bourbon Barrel Ale\",\"rating\":{\"average\":2.2328898766089313,\"reviews\":377},\"image\":\"https://www.totalwine.com/media/sys_master/twmmedia/h0f/h40/11931598913566.png\",\"id\":20},{\"price\":\"$12.99\",\"name\":\"Dogfish Head 90-Minute IPA\",\"rating\":{\"average\":3.7771776781196387,\"reviews\":496},\"image\":\"https://www.totalwine.com/media/sys_master/twmmedia/hd0/h80/11717909905438.png\",\"id\":21},{\"price\":\"$9.49\",\"name\":\"Sierra Nevada Hazy Little Thing IPA\",\"rating\":{\"average\":1.4359814370189987,\"reviews\":351},\"image\":\"https://www.totalwine.com/media/sys_master/twmmedia/h42/h71/11375171207198.png\",\"id\":22},{\"price\":\"$4.99\",\"name\":\"Bell\\'s Double Two Hearted\",\"rating\":{\"average\":4.268804254746469,\"reviews\":74},\"image\":\"https://www.totalwine.com/media/sys_master/cmsmedia/hff/h0e/8979036078110.png\",\"id\":23},{\"price\":\"$11.99\",\"name\":\"Victory Golden Monkey Ale\",\"rating\":{\"average\":3.1676642120290497,\"reviews\":141},\"image\":\"https://www.totalwine.com/media/sys_master/twmmedia/hab/ha1/11849258827806.png\",\"id\":24},{\"price\":\"$18.49\",\"name\":\"Founders Underground Mountain Brown\",\"rating\":{\"average\":2.1446471059009395,\"reviews\":319},\"image\":\"https://www.totalwine.com/media/sys_master/cmsmedia/hff/h0e/8979036078110.png\",\"id\":25},{\"price\":\"$10.99\",\"name\":\"Bell\\'s Two Hearted Ale\",\"rating\":{\"average\":2.857913327526303,\"reviews\":440},\"image\":\"https://www.totalwine.com/media/sys_master/twmmedia/hd0/h7c/8813760610334.png\",\"id\":26},{\"price\":\"$89.99\",\"name\":\"Blue Moon Belgian White Belgian-Style Wheat Ale\",\"rating\":{\"average\":1.508525625330103,\"reviews\":381},\"image\":\"https://www.totalwine.com/media/sys_master/twmmedia/hc2/he9/11975816085534.png\",\"id\":27},{\"price\":\"$11.49\",\"name\":\"Elysian Space Dust IPA\",\"rating\":{\"average\":1.56330286120944,\"reviews\":203},\"image\":\"https://www.totalwine.com/media/sys_master/twmmedia/h0f/hb6/11735169466398.png\",\"id\":28},{\"price\":\"$12.49\",\"name\":\"Duvel Belgian Ale\",\"rating\":{\"average\":2.5572486237237335,\"reviews\":191},\"image\":\"https://www.totalwine.com/media/sys_master/twmmedia/h0c/h86/8810864082974.png\",\"id\":29},{\"price\":\"$9.99\",\"name\":\"Founders Breakfast Stout\",\"rating\":{\"average\":2.536098631569753,\"reviews\":105},\"image\":\"https://www.totalwine.com/media/sys_master/twmmedia/ha2/he2/8796687728670.png\",\"id\":30},{\"price\":\"$16.79\",\"name\":\"Founders Centennial IPA\",\"rating\":{\"average\":4.902598150770166,\"reviews\":407},\"image\":\"https://www.totalwine.com/media/sys_master/twmmedia/h9d/h94/11167126519838.png\",\"id\":31},{\"price\":\"$8.99\",\"name\":\"Lagunitas IPA\",\"rating\":{\"average\":4.599331298776508,\"reviews\":135},\"image\":\"https://www.totalwine.com/media/sys_master/twmmedia/h2c/h78/8804310777886.png\",\"id\":32},{\"price\":\"$14.99\",\"name\":\"New Belgium Fat Tire\",\"rating\":{\"average\":1.056104104160374,\"reviews\":492},\"image\":\"https://www.totalwine.com/media/sys_master/twmmedia/hee/hb0/8809351217182.png\",\"id\":33},{\"price\":\"$8.49\",\"name\":\"Boddingtons Pub Ale\",\"rating\":{\"average\":1.3365664144031921,\"reviews\":364},\"image\":\"https://www.totalwine.com/media/sys_master/twmmedia/hc8/h2c/8806352846878.png\",\"id\":34},{\"price\":\"$7.99\",\"name\":\"Hoegaarden Witbier Blanche\",\"rating\":{\"average\":3.565917975071695,\"reviews\":189},\"image\":\"https://www.totalwine.com/media/sys_master/twmmedia/h97/h48/11931669102622.png\",\"id\":35},{\"price\":\"$9.99\",\"name\":\"Lagunitas Daytime IPA\",\"rating\":{\"average\":3.7896243815044306,\"reviews\":477},\"image\":\"https://www.totalwine.com/media/sys_master/twmmedia/hd1/h89/11657040003102.png\",\"id\":36},{\"price\":\"$11.49\",\"name\":\"Stone IPA (India Pale Ale)\",\"rating\":{\"average\":1.878226983778763,\"reviews\":380},\"image\":\"https://www.totalwine.com/media/sys_master/twmmedia/h26/h91/11770094026782.png\",\"id\":37},{\"price\":\"$9.99\",\"name\":\"Spaten Franziskaner Hefe-Weisse\",\"rating\":{\"average\":1.9830030107855592,\"reviews\":223},\"image\":\"https://www.totalwine.com/media/sys_master/twmmedia/h25/h97/8798007754782.png\",\"id\":38},{\"price\":\"$18.99\",\"name\":\"Southern Tier Warlock Imperial Pumpkin Stout\",\"rating\":{\"average\":2.043941554653335,\"reviews\":241},\"image\":\"https://www.totalwine.com/media/sys_master/twmmedia/h80/h0d/10734657470494.png\",\"id\":39},{\"price\":\"$19.99\",\"name\":\"Dogfish Head 60-Minute IPA\",\"rating\":{\"average\":3.48129639229092,\"reviews\":310},\"image\":\"https://www.totalwine.com/media/sys_master/twmmedia/h5f/h00/10124016648222.png\",\"id\":40},{\"price\":\"$16.99\",\"name\":\"Newcastle Brown Ale\",\"rating\":{\"average\":1.0385809111488369,\"reviews\":485},\"image\":\"https://www.totalwine.com/media/sys_master/twmmedia/hf5/h03/11969565622302.png\",\"id\":41},{\"price\":\"$11.49\",\"name\":\"New Belgium Voodoo Ranger Imperial IPA\",\"rating\":{\"average\":1.030031658964159,\"reviews\":412},\"image\":\"https://www.totalwine.com/media/sys_master/twmmedia/h06/h57/10672758161438.png\",\"id\":42},{\"price\":\"$9.99\",\"name\":\"Smithwick\\'s Irish Ale\",\"rating\":{\"average\":3.344299483944976,\"reviews\":190},\"image\":\"https://www.totalwine.com/media/sys_master/twmmedia/h64/had/11996577431582.png\",\"id\":43},{\"price\":\"$19.99\",\"name\":\"Stone IPA (India Pale Ale)\",\"rating\":{\"average\":3.679742063810279,\"reviews\":404},\"image\":\"https://www.totalwine.com/media/sys_master/twmmedia/h80/he9/10140961341470.png\",\"id\":44},{\"price\":\"$11.49\",\"name\":\"Left Hand Milk Stout Nitro\",\"rating\":{\"average\":1.5222183530402447,\"reviews\":457},\"image\":\"https://www.totalwine.com/media/sys_master/twmmedia/h2d/haf/8813239762974.png\",\"id\":45},{\"price\":\"$9.99\",\"name\":\"Founders Porter\",\"rating\":{\"average\":3.7036191902784807,\"reviews\":247},\"image\":\"https://www.totalwine.com/media/sys_master/twmmedia/h37/h9f/8796760277022.png\",\"id\":46},{\"price\":\"$14.99\",\"name\":\"Shock Top Belgian White Ale\",\"rating\":{\"average\":4.02565627585603,\"reviews\":418},\"image\":\"https://www.totalwine.com/media/sys_master/twmmedia/hbe/h78/11891420495902.png\",\"id\":47},{\"price\":\"$10.99\",\"name\":\"Dogfish Head Slightly Mighty IPA\",\"rating\":{\"average\":3.518525930659723,\"reviews\":312},\"image\":\"https://www.totalwine.com/media/sys_master/twmmedia/hcd/ha2/11845581078558.png\",\"id\":48},{\"price\":\"$15.99\",\"name\":\"Founders Backwoods Bastard\",\"rating\":{\"average\":3.0187543429516914,\"reviews\":226},\"image\":\"https://www.totalwine.com/media/sys_master/twmmedia/h8f/h35/11536035217438.png\",\"id\":49},{\"price\":\"$16.99\",\"name\":\"Goose Island IPA\",\"rating\":{\"average\":1.1082348289013026,\"reviews\":117},\"image\":\"https://www.totalwine.com/media/sys_master/twmmedia/hb3/h9b/11444657618974.png\",\"id\":50},{\"price\":\"$18.49\",\"name\":\"Stone Farking Wheaton w00tstout\",\"rating\":{\"average\":3.3898938755564823,\"reviews\":61},\"image\":\"https://www.totalwine.com/media/sys_master/cmsmedia/hff/h0e/8979036078110.png\",\"id\":51},{\"price\":\"$7.99\",\"name\":\"Kona Big Wave Golden Ale\",\"rating\":{\"average\":4.216231501611103,\"reviews\":253},\"image\":\"https://www.totalwine.com/media/sys_master/twmmedia/hb9/h8e/8797338894366.png\",\"id\":52},{\"price\":\"$10.99\",\"name\":\"North Coast Old Rasputin Imperial Stout\",\"rating\":{\"average\":1.7226627560750893,\"reviews\":171},\"image\":\"https://www.totalwine.com/media/sys_master/twmmedia/h25/h63/11770107363358.png\",\"id\":53},{\"price\":\"$9.99\",\"name\":\"Lagunitas A Little Sumpin Sumpin\",\"rating\":{\"average\":3.5321444435967244,\"reviews\":129},\"image\":\"https://www.totalwine.com/media/sys_master/twmmedia/hdb/h96/10856913207326.png\",\"id\":54},{\"price\":\"$21.49\",\"name\":\"Chimay Grande Reserve Blue\",\"rating\":{\"average\":4.7937905748912435,\"reviews\":99},\"image\":\"https://www.totalwine.com/media/sys_master/twmmedia/h8a/h92/8798154031134.png\",\"id\":55},{\"price\":\"$13.99\",\"name\":\"Ballast Point Sculpin IPA\",\"rating\":{\"average\":1.0633744801576714,\"reviews\":323},\"image\":\"https://www.totalwine.com/media/sys_master/twmmedia/he7/hcf/11969504673822.png\",\"id\":56},{\"price\":\"$12.99\",\"name\":\"Stone Fear.Movie.Lions Double IPA\",\"rating\":{\"average\":4.193323291786882,\"reviews\":319},\"image\":\"https://www.totalwine.com/media/sys_master/twmmedia/h78/hdf/11797725052958.png\",\"id\":57},{\"price\":\"$7.99\",\"name\":\"New Belgium Fat Tire\",\"rating\":{\"average\":4.36964965425013,\"reviews\":440},\"image\":\"https://www.totalwine.com/media/sys_master/twmmedia/hfa/hc0/11805929209886.png\",\"id\":58},{\"price\":\"$87.99\",\"name\":\"New Belgium Fat Tire\",\"rating\":{\"average\":4.492195528374378,\"reviews\":83},\"image\":\"https://www.totalwine.com/media/sys_master/twmmedia/h5f/h1f/9781897035806.png\",\"id\":59},{\"price\":\"$10.99\",\"name\":\"New Belgium Trippel Belgian Style Ale\",\"rating\":{\"average\":2.6576216939051998,\"reviews\":389},\"image\":\"https://www.totalwine.com/media/sys_master/twmmedia/hc7/h44/11464107982878.png\",\"id\":60},{\"price\":\"$1.99\",\"name\":\"Paulaner Hefe Weizen\",\"rating\":{\"average\":2.224460075596946,\"reviews\":87},\"image\":\"https://www.totalwine.com/media/sys_master/twmmedia/h7f/h64/8820569014302.png\",\"id\":61},{\"price\":\"$10.99\",\"name\":\"Dogfish Head SeaQuenchAle\",\"rating\":{\"average\":2.604050274543601,\"reviews\":62},\"image\":\"https://www.totalwine.com/media/sys_master/twmmedia/h60/h11/10124017303582.png\",\"id\":62},{\"price\":\"$20.99\",\"name\":\"St Bernardus Abt 12\",\"rating\":{\"average\":1.0089880840508387,\"reviews\":205},\"image\":\"https://www.totalwine.com/media/sys_master/twmmedia/hcc/h30/10728889778206.png\",\"id\":63},{\"price\":\"$36.99\",\"name\":\"Dogfish Head World Wide Stout\",\"rating\":{\"average\":1.1643783197497646,\"reviews\":119},\"image\":\"https://www.totalwine.com/media/sys_master/twmmedia/h8c/h4e/10657395245086.png\",\"id\":64},{\"price\":\"$9.99\",\"name\":\"Unibroue - La Fin Du Monde\",\"rating\":{\"average\":2.514476444565455,\"reviews\":127},\"image\":\"https://www.totalwine.com/media/sys_master/twmmedia/h8c/hcd/8800920829982.png\",\"id\":65},{\"price\":\"$9.49\",\"name\":\"Sierra Nevada Pale Ale\",\"rating\":{\"average\":4.017110604857885,\"reviews\":393},\"image\":\"https://www.totalwine.com/media/sys_master/twmmedia/h05/h54/11589988024350.png\",\"id\":66},{\"price\":\"$8.99\",\"name\":\"Blue Moon Mango Wheat\",\"rating\":{\"average\":3.7853182263516203,\"reviews\":58},\"image\":\"https://www.totalwine.com/media/sys_master/twmmedia/hed/h46/11170760327198.png\",\"id\":67},{\"price\":\"$12.99\",\"name\":\"Oskar Blues Death By Coconut\",\"rating\":{\"average\":2.499562698383815,\"reviews\":130},\"image\":\"https://www.totalwine.com/media/sys_master/twmmedia/ha6/h87/9664767787038.png\",\"id\":68},{\"price\":\"$16.49\",\"name\":\"New Belgium Voodoo Ranger IPA\",\"rating\":{\"average\":1.3981363388800485,\"reviews\":441},\"image\":\"https://www.totalwine.com/media/sys_master/twmmedia/h5d/h93/10675772489758.png\",\"id\":69},{\"price\":\"$14.99\",\"name\":\"Kona Big Wave Golden Ale\",\"rating\":{\"average\":3.366369397953016,\"reviews\":370},\"image\":\"https://www.totalwine.com/media/sys_master/twmmedia/h8a/hcc/12027169669150.png\",\"id\":70},{\"price\":\"$8.99\",\"name\":\"Guinness Foreign Extra Stout\",\"rating\":{\"average\":3.955232912250458,\"reviews\":57},\"image\":\"https://www.totalwine.com/media/sys_master/twmmedia/h64/h42/11996578906142.png\",\"id\":71},{\"price\":\"$15.99\",\"name\":\"Schofferhofer Hefeweizen Grapefruit\",\"rating\":{\"average\":2.887846830566846,\"reviews\":297},\"image\":\"https://www.totalwine.com/media/sys_master/twmmedia/hb5/hd5/11358023155742.png\",\"id\":72},{\"price\":\"$13.99\",\"name\":\"Ballast Point Sculpin IPA\",\"rating\":{\"average\":1.4983124359520046,\"reviews\":53},\"image\":\"https://www.totalwine.com/media/sys_master/twmmedia/h54/h09/11969425702942.png\",\"id\":73},{\"price\":\"$11.49\",\"name\":\"Stone Arrogant Bastard Ale\",\"rating\":{\"average\":4.476922876044725,\"reviews\":410},\"image\":\"https://www.totalwine.com/media/sys_master/twmmedia/h7a/h9c/11770097860638.png\",\"id\":74},{\"price\":\"$13.49\",\"name\":\"Ballast Point Grapefruit Sculpin IPA\",\"rating\":{\"average\":2.2181579436694605,\"reviews\":130},\"image\":\"https://www.totalwine.com/media/sys_master/twmmedia/h2e/h8e/11969407221790.png\",\"id\":75},{\"price\":\"$9.99\",\"name\":\"Oskar Blues Dale\\'s Pale Ale\",\"rating\":{\"average\":1.0189692403493238,\"reviews\":280},\"image\":\"https://www.totalwine.com/media/sys_master/twmmedia/h2f/h10/8804817240094.png\",\"id\":76},{\"price\":\"$13.99\",\"name\":\"Chimay Grande Reserve Blue\",\"rating\":{\"average\":3.3233628692606922,\"reviews\":90},\"image\":\"https://www.totalwine.com/media/sys_master/twmmedia/h43/hf5/8820567834654.png\",\"id\":77},{\"price\":\"$17.49\",\"name\":\"Boulevard Bourbon Barrel Quad\",\"rating\":{\"average\":3.3608031669590206,\"reviews\":126},\"image\":\"https://www.totalwine.com/media/sys_master/twmmedia/h6b/ha4/10501577375774.png\",\"id\":78},{\"price\":\"$9.49\",\"name\":\"Hofbrau Hefe Weizen\",\"rating\":{\"average\":3.1129695093601795,\"reviews\":169},\"image\":\"https://www.totalwine.com/media/sys_master/twmmedia/h08/h77/8816818946078.png\",\"id\":79},{\"price\":\"$14.99\",\"name\":\"Boulevard Tank 7 Farmhouse Ale\",\"rating\":{\"average\":2.525521586557562,\"reviews\":369},\"image\":\"https://www.totalwine.com/media/sys_master/twmmedia/h41/h0f/12021147697182.png\",\"id\":80},{\"price\":\"$2.99\",\"name\":\"Samuel Smith\\'s Organic Chocolate Stout\",\"rating\":{\"average\":4.1555247865397416,\"reviews\":169},\"image\":\"https://www.totalwine.com/media/sys_master/twmmedia/h37/ha6/8803802054686.png\",\"id\":81},{\"price\":\"$2.79\",\"name\":\"Bell\\'s Special Double Cream Stout\",\"rating\":{\"average\":3.682967725411885,\"reviews\":56},\"image\":\"https://www.totalwine.com/media/sys_master/twmmedia/h73/h11/8803018965022.png\",\"id\":82},{\"price\":\"$9.99\",\"name\":\"Founders Dirty Bastard Ale\",\"rating\":{\"average\":3.970086617125669,\"reviews\":72},\"image\":\"https://www.totalwine.com/media/sys_master/twmmedia/h6b/ha2/8806269812766.png\",\"id\":83},{\"price\":\"$11.79\",\"name\":\"Achouffe La Chouffe\",\"rating\":{\"average\":3.800563812674647,\"reviews\":151},\"image\":\"https://www.totalwine.com/media/sys_master/twmmedia/ha0/h87/10140920315934.png\",\"id\":84},{\"price\":\"$17.99\",\"name\":\"Founders Mosaic Promise\",\"rating\":{\"average\":4.052128197668433,\"reviews\":378},\"image\":\"https://www.totalwine.com/media/sys_master/twmmedia/h32/hca/10698194583582.png\",\"id\":85},{\"price\":\"$22.99\",\"name\":\"Stone Delicious IPA\",\"rating\":{\"average\":4.437512706307549,\"reviews\":238},\"image\":\"https://www.totalwine.com/media/sys_master/twmmedia/ha2/h39/12007074758686.png\",\"id\":86},{\"price\":\"$10.99\",\"name\":\"Rogue Batsquatch Hazy IPA\",\"rating\":{\"average\":4.502906484625454,\"reviews\":483},\"image\":\"https://www.totalwine.com/media/sys_master/twmmedia/hc3/h11/11931839692830.png\",\"id\":87},{\"price\":\"$11.49\",\"name\":\"New Belgium Voodoo Ranger Juicy Haze IPA\",\"rating\":{\"average\":4.800191829796816,\"reviews\":255},\"image\":\"https://www.totalwine.com/media/sys_master/cmsmedia/hff/h0e/8979036078110.png\",\"id\":88},{\"price\":\"$17.99\",\"name\":\"Boulevard Whiskey Barrel Stout\",\"rating\":{\"average\":3.7756782589755353,\"reviews\":180},\"image\":\"https://www.totalwine.com/media/sys_master/twmmedia/h69/h85/11443360235550.png\",\"id\":89},{\"price\":\"$9.99\",\"name\":\"Lagunitas Maximus IPA\",\"rating\":{\"average\":3.641323719494787,\"reviews\":493},\"image\":\"https://www.totalwine.com/media/sys_master/twmmedia/h45/h8f/9418350657566.png\",\"id\":90},{\"price\":\"$12.99\",\"name\":\"Offshoot Relax (It\\'s Just a Hazy IPA)\",\"rating\":{\"average\":4.169674694322197,\"reviews\":164},\"image\":\"https://www.totalwine.com/media/sys_master/twmmedia/h90/h58/11311020245022.png\",\"id\":91},{\"price\":\"$12.99\",\"name\":\"Sixpoint Resin\",\"rating\":{\"average\":3.1029248482584535,\"reviews\":234},\"image\":\"https://www.totalwine.com/media/sys_master/twmmedia/hf5/hfb/10657396424734.png\",\"id\":92},{\"price\":\"$99.99\",\"name\":\"Cigar City Jai-Alai IPA\",\"rating\":{\"average\":1.0601853988027745,\"reviews\":485},\"image\":\"https://www.totalwine.com/media/sys_master/twmmedia/hdc/h98/9781940322334.png\",\"id\":93},{\"price\":\"$12.99\",\"name\":\"Wicked Weed Pernicious IPA\",\"rating\":{\"average\":1.3267940892543262,\"reviews\":234},\"image\":\"https://www.totalwine.com/media/sys_master/cmsmedia/hff/h0e/8979036078110.png\",\"id\":94},{\"price\":\"$12.99\",\"name\":\"Dogfish Head SuperEIGHT\",\"rating\":{\"average\":2.4587302813711283,\"reviews\":191},\"image\":\"https://www.totalwine.com/media/sys_master/cmsmedia/hff/h0e/8979036078110.png\",\"id\":95},{\"price\":\"$6.99\",\"name\":\"Rochefort 10 Trappist Ale\",\"rating\":{\"average\":2.6243993844011806,\"reviews\":303},\"image\":\"https://www.totalwine.com/media/sys_master/twmmedia/hcc/h4a/8803981787166.png\",\"id\":96},{\"price\":\"$18.99\",\"name\":\"Delirium Tremens\",\"rating\":{\"average\":4.2526903890313905,\"reviews\":463},\"image\":\"https://www.totalwine.com/media/sys_master/twmmedia/h05/ha0/8804687970334.png\",\"id\":97},{\"price\":\"$8.99\",\"name\":\"Lagunitas SuperCluster\",\"rating\":{\"average\":4.969725976340016,\"reviews\":59},\"image\":\"https://www.totalwine.com/media/sys_master/cmsmedia/hff/h0e/8979036078110.png\",\"id\":98},{\"price\":\"$12.99\",\"name\":\"New Holland Dragon\\'s Milk White Stout\",\"rating\":{\"average\":2.62207680296948,\"reviews\":66},\"image\":\"https://www.totalwine.com/media/sys_master/cmsmedia/hff/h0e/8979036078110.png\",\"id\":99},{\"price\":\"$7.99\",\"name\":\"Goose Island IPA\",\"rating\":{\"average\":4.002017823140871,\"reviews\":323},\"image\":\"https://www.totalwine.com/media/sys_master/twmmedia/h39/h7f/9985249247262.png\",\"id\":100},{\"price\":\"$13.49\",\"name\":\"Ballast Point Grapefruit Sculpin IPA\",\"rating\":{\"average\":2.924150050325185,\"reviews\":66},\"image\":\"https://www.totalwine.com/media/sys_master/twmmedia/h14/h10/11969425997854.png\",\"id\":101},{\"price\":\"$1.79\",\"name\":\"Sierra Nevada Torpedo Extra IPA\",\"rating\":{\"average\":4.132209648216585,\"reviews\":86},\"image\":\"https://www.totalwine.com/media/sys_master/twmmedia/h88/h47/8796708962334.png\",\"id\":102},{\"price\":\"$10.99\",\"name\":\"Duclaw Sweet Baby Jesus!\",\"rating\":{\"average\":4.089769886898315,\"reviews\":402},\"image\":\"https://www.totalwine.com/media/sys_master/twmmedia/hb1/h21/9351707328542.png\",\"id\":103},{\"price\":\"$16.99\",\"name\":\"Lagunitas Sumpin\\' Easy\",\"rating\":{\"average\":1.3485746897254929,\"reviews\":334},\"image\":\"https://www.totalwine.com/media/sys_master/twmmedia/h29/h71/11312566894622.png\",\"id\":104},{\"price\":\"$12.99\",\"name\":\"Lord Hobo Boom Sauce\",\"rating\":{\"average\":4.271835995644435,\"reviews\":102},\"image\":\"https://www.totalwine.com/media/sys_master/twmmedia/h28/h24/11544524718110.png\",\"id\":105},{\"price\":\"$12.99\",\"name\":\"Weihenstephaner Vitus\",\"rating\":{\"average\":1.3135036691160673,\"reviews\":469},\"image\":\"https://www.totalwine.com/media/sys_master/twmmedia/he4/hd0/11969417609246.png\",\"id\":106},{\"price\":\"$12.79\",\"name\":\"New Belgium Voodoo Ranger Juicifer IPA\",\"rating\":{\"average\":3.9492021918949725,\"reviews\":236},\"image\":\"https://www.totalwine.com/media/sys_master/cmsmedia/hff/h0e/8979036078110.png\",\"id\":107},{\"price\":\"$12.99\",\"name\":\"Lindeman\\'s Framboise\",\"rating\":{\"average\":2.7519071827960273,\"reviews\":108},\"image\":\"https://www.totalwine.com/media/sys_master/cmsmedia/hff/h0e/8979036078110.png\",\"id\":108},{\"price\":\"$14.99\",\"name\":\"Dogfish Head Palo Santo Marron\",\"rating\":{\"average\":2.4190073235744673,\"reviews\":75},\"image\":\"https://www.totalwine.com/media/sys_master/twmmedia/hbe/h3c/10225139908638.png\",\"id\":109},{\"price\":\"$15.49\",\"name\":\"Clown Shoes Space Cake\",\"rating\":{\"average\":4.883356891746129,\"reviews\":367},\"image\":\"https://www.totalwine.com/media/sys_master/cmsmedia/hff/h0e/8979036078110.png\",\"id\":110},{\"price\":\"$9.99\",\"name\":\"Bell\\'s Best Brown Ale\",\"rating\":{\"average\":2.6802502419403025,\"reviews\":406},\"image\":\"https://www.totalwine.com/media/sys_master/twmmedia/heb/h89/8815740649502.png\",\"id\":111},{\"price\":\"$11.99\",\"name\":\"Victory Golden Monkey Ale\",\"rating\":{\"average\":3.223867503577261,\"reviews\":257},\"image\":\"https://www.totalwine.com/media/sys_master/twmmedia/h2e/h20/11849258532894.png\",\"id\":112},{\"price\":\"$8.99\",\"name\":\"Erdinger Weissbier\",\"rating\":{\"average\":3.9267369526916545,\"reviews\":78},\"image\":\"https://www.totalwine.com/media/sys_master/twmmedia/h61/hda/8820602109982.png\",\"id\":113},{\"price\":\"$10.99\",\"name\":\"Robinsons Trooper Ale\",\"rating\":{\"average\":3.834032592144709,\"reviews\":338},\"image\":\"https://www.totalwine.com/media/sys_master/twmmedia/h42/hf3/10675674120222.png\",\"id\":114},{\"price\":\"$3.99\",\"name\":\"Kentucky Coffee Barrel Stout\",\"rating\":{\"average\":1.335718639280703,\"reviews\":416},\"image\":\"https://www.totalwine.com/media/sys_master/twmmedia/h25/h7f/11931443626014.png\",\"id\":115},{\"price\":\"$9.99\",\"name\":\"21st Amendment Brew Free Or Die Blood Orange IPA\",\"rating\":{\"average\":4.894730680324359,\"reviews\":230},\"image\":\"https://www.totalwine.com/media/sys_master/twmmedia/h7d/had/11170752692254.png\",\"id\":116},{\"price\":\"$9.49\",\"name\":\"Kronenbourg Blanc\",\"rating\":{\"average\":2.7826152662684214,\"reviews\":304},\"image\":\"https://www.totalwine.com/media/sys_master/twmmedia/h8c/ha4/9354116857886.png\",\"id\":117},{\"price\":\"$10.99\",\"name\":\"Bell\\'s Official Hazy IPA\",\"rating\":{\"average\":4.4548183643373855,\"reviews\":480},\"image\":\"https://www.totalwine.com/media/sys_master/cmsmedia/hff/h0e/8979036078110.png\",\"id\":118},{\"price\":\"$8.99\",\"name\":\"Cigar City Maduro Brown\",\"rating\":{\"average\":2.6831070228729246,\"reviews\":474},\"image\":\"https://www.totalwine.com/media/sys_master/twmmedia/h8f/heb/11589816057886.png\",\"id\":119},{\"price\":\"$20.99\",\"name\":\"Gulden Draak 9000 Quadrupel\",\"rating\":{\"average\":2.7633099153167375,\"reviews\":359},\"image\":\"https://www.totalwine.com/media/sys_master/twmmedia/h71/h01/8800490422302.png\",\"id\":120},{\"price\":\"$10.99\",\"name\":\"Bell\\'s Two Hearted Ale\",\"rating\":{\"average\":3.086009671445667,\"reviews\":499},\"image\":\"https://www.totalwine.com/media/sys_master/cmsmedia/hff/h0e/8979036078110.png\",\"id\":121},{\"price\":\"$9.99\",\"name\":\"Sierra Nevada Hop Bullet\",\"rating\":{\"average\":4.606551938913049,\"reviews\":409},\"image\":\"https://www.totalwine.com/media/sys_master/cmsmedia/hff/h0e/8979036078110.png\",\"id\":122},{\"price\":\"$8.99\",\"name\":\"Sweetwater 420 Strain G-13\",\"rating\":{\"average\":4.176603737571783,\"reviews\":371},\"image\":\"https://www.totalwine.com/media/sys_master/cmsmedia/hff/h0e/8979036078110.png\",\"id\":123},{\"price\":\"$19.99\",\"name\":\"Tripel Karmeliet\",\"rating\":{\"average\":3.5888947699078804,\"reviews\":378},\"image\":\"https://www.totalwine.com/media/sys_master/twmmedia/h7f/h6e/8797892739102.png\",\"id\":124},{\"price\":\"$8.49\",\"name\":\"New Belgium Voodoo Ranger IPA\",\"rating\":{\"average\":4.107273030523367,\"reviews\":93},\"image\":\"https://www.totalwine.com/media/sys_master/twmmedia/h2c/h7e/10508834045982.png\",\"id\":125},{\"price\":\"$92.99\",\"name\":\"Kona Big Wave Golden Ale\",\"rating\":{\"average\":1.4034451390194747,\"reviews\":443},\"image\":\"https://www.totalwine.com/media/sys_master/twmmedia/h90/hfb/9687556685854.png\",\"id\":126},{\"price\":\"$9.99\",\"name\":\"Heavy Seas Loose Cannon IPA\",\"rating\":{\"average\":4.2247057118155755,\"reviews\":189},\"image\":\"https://www.totalwine.com/media/sys_master/twmmedia/hba/h54/11931504771102.png\",\"id\":127},{\"price\":\"$9.49\",\"name\":\"Newcastle Brown Ale\",\"rating\":{\"average\":1.3062165130061514,\"reviews\":122},\"image\":\"https://www.totalwine.com/media/sys_master/twmmedia/h2e/he3/10072387780638.png\",\"id\":128},{\"price\":\"$15.99\",\"name\":\"Ommegang Three Philosophers\",\"rating\":{\"average\":3.7650339790702576,\"reviews\":271},\"image\":\"https://www.totalwine.com/media/sys_master/twmmedia/h39/h4a/9382849708062.png\",\"id\":129},{\"price\":\"$7.49\",\"name\":\"Shock Top Belgian White Ale\",\"rating\":{\"average\":3.5245058222634285,\"reviews\":262},\"image\":\"https://www.totalwine.com/media/sys_master/twmmedia/hf6/h53/11891418136606.png\",\"id\":130},{\"price\":\"$19.49\",\"name\":\"Duchesse De Bourgogne\",\"rating\":{\"average\":3.7854120339206645,\"reviews\":115},\"image\":\"https://www.totalwine.com/media/sys_master/twmmedia/h1d/h1c/8804202479646.png\",\"id\":131},{\"price\":\"$9.49\",\"name\":\"New Belgium Fat Tire Belgian White\",\"rating\":{\"average\":3.079965625452034,\"reviews\":160},\"image\":\"https://www.totalwine.com/media/sys_master/twmmedia/hb5/hd4/11698320834590.png\",\"id\":132},{\"price\":\"$10.49\",\"name\":\"Cigar City Guayabera Citra Pale Ale\",\"rating\":{\"average\":4.146664357611568,\"reviews\":416},\"image\":\"https://www.totalwine.com/media/sys_master/twmmedia/h4a/h12/11401918382110.png\",\"id\":133},{\"price\":\"$13.99\",\"name\":\"Dogfish Head American Beauty\",\"rating\":{\"average\":2.1059576853999387,\"reviews\":64},\"image\":\"https://www.totalwine.com/media/sys_master/twmmedia/hc1/hc4/11797694316574.png\",\"id\":134},{\"price\":\"$11.49\",\"name\":\"Old Speckled Hen\",\"rating\":{\"average\":2.3637872222112417,\"reviews\":187},\"image\":\"https://www.totalwine.com/media/sys_master/twmmedia/h18/h7e/8804595925022.png\",\"id\":135},{\"price\":\"$10.99\",\"name\":\"Samuel Smith\\'s Oatmeal Stout\",\"rating\":{\"average\":3.755651312235952,\"reviews\":231},\"image\":\"https://www.totalwine.com/media/sys_master/twmmedia/hf4/h32/8802976104478.png\",\"id\":136},{\"price\":\"$1.99\",\"name\":\"Foster\\'s Special Bitter\",\"rating\":{\"average\":3.345153453413597,\"reviews\":456},\"image\":\"https://www.totalwine.com/media/sys_master/twmmedia/hd3/hf0/11941521293342.png\",\"id\":137},{\"price\":\"$8.99\",\"name\":\"Kona Hanalei Island IPA\",\"rating\":{\"average\":3.861066233750919,\"reviews\":59},\"image\":\"https://www.totalwine.com/media/sys_master/twmmedia/hc4/h25/9947401158686.png\",\"id\":138},{\"price\":\"$12.99\",\"name\":\"Gaffel Kolsch\",\"rating\":{\"average\":3.5860968066070953,\"reviews\":446},\"image\":\"https://www.totalwine.com/media/sys_master/twmmedia/h4d/h45/8804792565790.png\",\"id\":139},{\"price\":\"$9.99\",\"name\":\"Left Hand Milk Stout Nitro\",\"rating\":{\"average\":4.726783116573011,\"reviews\":236},\"image\":\"https://www.totalwine.com/media/sys_master/twmmedia/h13/hcc/10950394413086.png\",\"id\":140},{\"price\":\"$8.99\",\"name\":\"Paulaner Hefe Weizen\",\"rating\":{\"average\":2.290946882490756,\"reviews\":55},\"image\":\"https://www.totalwine.com/media/sys_master/cmsmedia/hff/h0e/8979036078110.png\",\"id\":141},{\"price\":\"$11.49\",\"name\":\"Stone Tangerine Express IPA\",\"rating\":{\"average\":2.4853029525964736,\"reviews\":185},\"image\":\"https://www.totalwine.com/media/sys_master/twmmedia/h44/h41/12007072989214.png\",\"id\":142},{\"price\":\"$15.99\",\"name\":\"Samuel Adams Rebel IPA\",\"rating\":{\"average\":2.8238527317268174,\"reviews\":383},\"image\":\"https://www.totalwine.com/media/sys_master/twmmedia/h4f/h71/8807125319710.png\",\"id\":143},{\"price\":\"$8.49\",\"name\":\"Bass Ale\",\"rating\":{\"average\":4.05017330128582,\"reviews\":374},\"image\":\"https://www.totalwine.com/media/sys_master/twmmedia/h83/he6/11931937210398.png\",\"id\":144},{\"price\":\"$20.49\",\"name\":\"Chimay Premiere Red\",\"rating\":{\"average\":3.240237215285262,\"reviews\":79},\"image\":\"https://www.totalwine.com/media/sys_master/twmmedia/h8c/hec/8804559716382.png\",\"id\":145},{\"price\":\"$11.99\",\"name\":\"Duvel Tripel Hop\",\"rating\":{\"average\":1.7576812202358694,\"reviews\":357},\"image\":\"https://www.totalwine.com/media/sys_master/twmmedia/h47/h64/10126441840670.png\",\"id\":146},{\"price\":\"$11.99\",\"name\":\"Tripel Karmeliet\",\"rating\":{\"average\":2.0935730249494418,\"reviews\":428},\"image\":\"https://www.totalwine.com/media/sys_master/twmmedia/h92/h87/8820300283934.png\",\"id\":147},{\"price\":\"$11.99\",\"name\":\"Rogue Hazelnut Brown Nectar\",\"rating\":{\"average\":1.9354656518898867,\"reviews\":259},\"image\":\"https://www.totalwine.com/media/sys_master/twmmedia/h53/hf1/11139791421470.png\",\"id\":148},{\"price\":\"$19.99\",\"name\":\"Chimay Cinq Cents White Triple\",\"rating\":{\"average\":3.750476125324088,\"reviews\":184},\"image\":\"https://www.totalwine.com/media/sys_master/twmmedia/hb8/h2f/8804746330142.png\",\"id\":149},{\"price\":\"$8.99\",\"name\":\"Cigar City Florida Cracker Belgian-style White Ale\",\"rating\":{\"average\":3.6242276941091225,\"reviews\":113},\"image\":\"https://www.totalwine.com/media/sys_master/twmmedia/h33/h59/11589816352798.png\",\"id\":150},{\"price\":\"$12.99\",\"name\":\"New Belgium Honey Orange Tripel\",\"rating\":{\"average\":4.180322318620529,\"reviews\":408},\"image\":\"https://www.totalwine.com/media/sys_master/twmmedia/h03/h93/11375132606494.png\",\"id\":151},{\"price\":\"$14.79\",\"name\":\"Dogfish Head Flesh and Blood IPA\",\"rating\":{\"average\":3.250643535696838,\"reviews\":385},\"image\":\"https://www.totalwine.com/media/sys_master/twmmedia/hdd/hba/10124016943134.png\",\"id\":152},{\"price\":\"$17.99\",\"name\":\"Bell\\'s Expedition Stout\",\"rating\":{\"average\":3.717992549497703,\"reviews\":404},\"image\":\"https://www.totalwine.com/media/sys_master/twmmedia/h60/hb2/8800955105310.png\",\"id\":153},{\"price\":\"$11.49\",\"name\":\"Duchesse De Bourgogne\",\"rating\":{\"average\":2.524190913111866,\"reviews\":262},\"image\":\"https://www.totalwine.com/media/sys_master/twmmedia/h8f/h1d/8801000161310.png\",\"id\":154},{\"price\":\"$14.99\",\"name\":\"Westmalle Tripel Trappist Ale\",\"rating\":{\"average\":2.209130924062644,\"reviews\":129},\"image\":\"https://www.totalwine.com/media/sys_master/twmmedia/hb1/hd1/8798192369694.png\",\"id\":155},{\"price\":\"$3.99\",\"name\":\"Weihenstephaner HefeWeissbier Dark\",\"rating\":{\"average\":3.434066764526942,\"reviews\":374},\"image\":\"https://www.totalwine.com/media/sys_master/twmmedia/h43/h4b/10734629224478.png\",\"id\":156},{\"price\":\"$8.99\",\"name\":\"Fuller\\'s London Pride\",\"rating\":{\"average\":4.788464936323404,\"reviews\":465},\"image\":\"https://www.totalwine.com/media/sys_master/twmmedia/had/h2c/9770875682846.png\",\"id\":157},{\"price\":\"$16.49\",\"name\":\"SweetWater 420 Pale Ale\",\"rating\":{\"average\":1.5438991712581398,\"reviews\":144},\"image\":\"https://www.totalwine.com/media/sys_master/twmmedia/h38/h5f/11508996374558.png\",\"id\":158},{\"price\":\"$16.99\",\"name\":\"Sweetwater 420 Strain G-13\",\"rating\":{\"average\":4.032524982682152,\"reviews\":370},\"image\":\"https://www.totalwine.com/media/sys_master/cmsmedia/hff/h0e/8979036078110.png\",\"id\":159},{\"price\":\"$9.99\",\"name\":\"Lagunitas Hop Stoopid Ale\",\"rating\":{\"average\":2.0824476203303357,\"reviews\":468},\"image\":\"https://www.totalwine.com/media/sys_master/twmmedia/h59/hc4/11213336576030.png\",\"id\":160},{\"price\":\"$114.99\",\"name\":\"Dogfish Head 60-Minute IPA\",\"rating\":{\"average\":1.630334145085353,\"reviews\":311},\"image\":\"https://www.totalwine.com/media/sys_master/twmmedia/h52/h71/9789269934110.png\",\"id\":161},{\"price\":\"$9.99\",\"name\":\"Founders All Day IPA\",\"rating\":{\"average\":4.008025403767698,\"reviews\":441},\"image\":\"https://www.totalwine.com/media/sys_master/twmmedia/h13/hd3/11891418726430.png\",\"id\":162},{\"price\":\"$8.49\",\"name\":\"Unibroue - La Fin Du Monde\",\"rating\":{\"average\":2.8047611369349283,\"reviews\":470},\"image\":\"https://www.totalwine.com/media/sys_master/twmmedia/h74/h43/8804124753950.png\",\"id\":163},{\"price\":\"$15.99\",\"name\":\"Oskar Blues Ten FIDY\",\"rating\":{\"average\":2.9788154999137637,\"reviews\":436},\"image\":\"https://www.totalwine.com/media/sys_master/twmmedia/hc1/h8e/11465945481246.png\",\"id\":164},{\"price\":\"$10.99\",\"name\":\"Anderson Valley GOSE Blood Orange\",\"rating\":{\"average\":3.1066752148241683,\"reviews\":288},\"image\":\"https://www.totalwine.com/media/sys_master/twmmedia/h4a/h43/11635363905566.png\",\"id\":165},{\"price\":\"$12.49\",\"name\":\"Lindeman\\'s Peche\",\"rating\":{\"average\":3.0755646338784075,\"reviews\":138},\"image\":\"https://www.totalwine.com/media/sys_master/twmmedia/h3a/hf0/8810013884446.png\",\"id\":166},{\"price\":\"$12.49\",\"name\":\"Stone Scorpion Bowl IPA\",\"rating\":{\"average\":2.733436034499219,\"reviews\":339},\"image\":\"https://www.totalwine.com/media/sys_master/twmmedia/h49/h76/11443412828190.png\",\"id\":167},{\"price\":\"$15.99\",\"name\":\"Dogfish Head Burton Baton\",\"rating\":{\"average\":3.926503869642703,\"reviews\":86},\"image\":\"https://www.totalwine.com/media/sys_master/twmmedia/hae/haf/10124015304734.png\",\"id\":168},{\"price\":\"$14.99\",\"name\":\"Boulevard The Calling IPA\",\"rating\":{\"average\":1.5012371833611837,\"reviews\":93},\"image\":\"https://www.totalwine.com/media/sys_master/twmmedia/hec/hc3/11192440225822.png\",\"id\":169},{\"price\":\"$4.99\",\"name\":\"Delirium Red\",\"rating\":{\"average\":3.329751337964476,\"reviews\":385},\"image\":\"https://www.totalwine.com/media/sys_master/cmsmedia/hff/h0e/8979036078110.png\",\"id\":170},{\"price\":\"$1.99\",\"name\":\"Karbach Love Street Summer\",\"rating\":{\"average\":4.620266818178933,\"reviews\":185},\"image\":\"https://www.totalwine.com/media/sys_master/twmmedia/h47/hf1/10777645285406.png\",\"id\":171},{\"price\":\"$11.99\",\"name\":\"Einstok Icelandic White Ale\",\"rating\":{\"average\":4.81471460936719,\"reviews\":58},\"image\":\"https://www.totalwine.com/media/sys_master/twmmedia/h66/h62/11234593931294.png\",\"id\":172},{\"price\":\"$9.99\",\"name\":\"Dogfish Head 90-Minute IPA\",\"rating\":{\"average\":3.8590704317769315,\"reviews\":120},\"image\":\"https://www.totalwine.com/media/sys_master/cmsmedia/hff/h0e/8979036078110.png\",\"id\":173},{\"price\":\"$10.99\",\"name\":\"Anderson Valley Briney Melon Gose\",\"rating\":{\"average\":1.6308706827038444,\"reviews\":215},\"image\":\"https://www.totalwine.com/media/sys_master/twmmedia/h0b/hbe/11635387465758.png\",\"id\":174},{\"price\":\"$8.99\",\"name\":\"Boulevard Space Camper Cosmic IPA\",\"rating\":{\"average\":1.0521580970660143,\"reviews\":214},\"image\":\"https://www.totalwine.com/media/sys_master/twmmedia/hff/h26/11735207706654.png\",\"id\":175},{\"price\":\"$17.99\",\"name\":\"Piraat Ale\",\"rating\":{\"average\":4.94233495501944,\"reviews\":185},\"image\":\"https://www.totalwine.com/media/sys_master/twmmedia/h67/he1/9071469920286.png\",\"id\":176},{\"price\":\"$6.49\",\"name\":\"Lindeman\\'s Framboise\",\"rating\":{\"average\":3.749494609725903,\"reviews\":321},\"image\":\"https://www.totalwine.com/media/sys_master/twmmedia/h6e/h57/10225140629534.png\",\"id\":177},{\"price\":\"$13.99\",\"name\":\"Blue Moon Belgian White Belgian-Style Wheat Ale\",\"rating\":{\"average\":2.323260489551802,\"reviews\":132},\"image\":\"https://www.totalwine.com/media/sys_master/twmmedia/h54/h53/11931543535646.png\",\"id\":178},{\"price\":\"$9.99\",\"name\":\"Founders All Day IPA\",\"rating\":{\"average\":5,\"reviews\":462},\"image\":\"https://www.totalwine.com/media/sys_master/twmmedia/hcb/h02/11891413352478.png\",\"id\":179},{\"price\":\"$11.99\",\"name\":\"Chimay Cinq Cents White Triple\",\"rating\":{\"average\":1.997464538301898,\"reviews\":89},\"image\":\"https://www.totalwine.com/media/sys_master/twmmedia/h67/h22/8801543749662.png\",\"id\":180}]'"
      ]
     },
     "execution_count": 11,
     "metadata": {},
     "output_type": "execute_result"
    }
   ],
>>>>>>> 27abb7cde2f2c449d1e9d586b2022a91e4a64529
   "source": [
    "# .content returns the result as a flow of bytes (note the b' at the beginning)\n",
    "# Podes mostrar o resultado como un texto\n",
    "response.text"
   ]
  },
  {
   "cell_type": "code",
<<<<<<< HEAD
   "execution_count": null,
   "id": "2df44f36-4dac-4a7e-8e19-46301b381fc0",
   "metadata": {},
   "outputs": [],
=======
   "execution_count": 12,
   "id": "2df44f36-4dac-4a7e-8e19-46301b381fc0",
   "metadata": {},
   "outputs": [
    {
     "data": {
      "text/plain": [
       "[{'price': '$16.99',\n",
       "  'name': 'Founders All Day IPA',\n",
       "  'rating': {'average': 4.411243509154233, 'reviews': 453},\n",
       "  'image': 'https://www.totalwine.com/media/sys_master/twmmedia/h00/h94/11891416367134.png',\n",
       "  'id': 1},\n",
       " {'price': '$13.99',\n",
       "  'name': 'Blue Moon Belgian White Belgian-Style Wheat Ale',\n",
       "  'rating': {'average': 4.775260833383482, 'reviews': 305},\n",
       "  'image': 'https://www.totalwine.com/media/sys_master/twmmedia/he8/h67/11931543830558.png',\n",
       "  'id': 2},\n",
       " {'price': '$16.99',\n",
       "  'name': 'Guinness Extra Stout',\n",
       "  'rating': {'average': 3.9785961474594638, 'reviews': 119},\n",
       "  'image': 'https://www.totalwine.com/media/sys_master/twmmedia/h50/h90/11996630056990.png',\n",
       "  'id': 3},\n",
       " {'price': '$8.99',\n",
       "  'name': 'Guinness Extra Stout',\n",
       "  'rating': {'average': 3.5135460961961718, 'reviews': 199},\n",
       "  'image': 'https://www.totalwine.com/media/sys_master/twmmedia/h35/he7/11996577726494.png',\n",
       "  'id': 4},\n",
       " {'price': '$15.49',\n",
       "  'name': 'Sierra Nevada Pale Ale',\n",
       "  'rating': {'average': 4.266364643483868, 'reviews': 414},\n",
       "  'image': 'https://www.totalwine.com/media/sys_master/twmmedia/h19/h43/11735160193054.png',\n",
       "  'id': 5},\n",
       " {'price': '$15.49',\n",
       "  'name': 'Sierra Nevada Pale Ale',\n",
       "  'rating': {'average': 3.141161723541611, 'reviews': 459},\n",
       "  'image': 'https://www.totalwine.com/media/sys_master/twmmedia/h0a/h17/11589987434526.png',\n",
       "  'id': 6},\n",
       " {'price': '$15.99',\n",
       "  'name': 'Lagunitas IPA',\n",
       "  'rating': {'average': 1.7610665871324303, 'reviews': 358},\n",
       "  'image': 'https://www.totalwine.com/media/sys_master/twmmedia/hd2/hfd/11348869382174.png',\n",
       "  'id': 7},\n",
       " {'price': '$11.99',\n",
       "  'name': 'Dogfish Head 120-Minute IPA',\n",
       "  'rating': {'average': 3.1053162095618543, 'reviews': 64},\n",
       "  'image': 'https://www.totalwine.com/media/sys_master/twmmedia/hf7/h2e/8814407614494.png',\n",
       "  'id': 8},\n",
       " {'price': '$15.49',\n",
       "  'name': 'Sierra Nevada Torpedo Extra IPA',\n",
       "  'rating': {'average': 1.1092369711087207, 'reviews': 345},\n",
       "  'image': 'https://www.totalwine.com/media/sys_master/twmmedia/ha5/h01/8799883329566.png',\n",
       "  'id': 9},\n",
       " {'price': '$15.99',\n",
       "  'name': 'Sierra Nevada Hazy Little Thing IPA',\n",
       "  'rating': {'average': 3.9890785544340925, 'reviews': 170},\n",
       "  'image': 'https://www.totalwine.com/media/sys_master/cmsmedia/hff/h0e/8979036078110.png',\n",
       "  'id': 10},\n",
       " {'price': '$14.99',\n",
       "  'name': \"New Holland Dragon's Milk\",\n",
       "  'rating': {'average': 1.2005615080794012, 'reviews': 493},\n",
       "  'image': 'https://www.totalwine.com/media/sys_master/twmmedia/hf1/hef/11388243083294.png',\n",
       "  'id': 11},\n",
       " {'price': '$12.99',\n",
       "  'name': 'New Belgium Oakspire Bourbon Barrel Ale',\n",
       "  'rating': {'average': 2.0996330805016186, 'reviews': 342},\n",
       "  'image': 'https://www.totalwine.com/media/sys_master/twmmedia/h8b/h8f/11475320012830.png',\n",
       "  'id': 12},\n",
       " {'price': '$7.49',\n",
       "  'name': 'Guinness Draught',\n",
       "  'rating': {'average': 1.4506545003190645, 'reviews': 452},\n",
       "  'image': 'https://www.totalwine.com/media/sys_master/twmmedia/hcc/h64/11996579201054.png',\n",
       "  'id': 13},\n",
       " {'price': '$10.99',\n",
       "  'name': 'Dogfish Head 60-Minute IPA',\n",
       "  'rating': {'average': 1.3770307904176358, 'reviews': 324},\n",
       "  'image': 'https://www.totalwine.com/media/sys_master/twmmedia/h17/hc9/10124015599646.png',\n",
       "  'id': 14},\n",
       " {'price': '$7.99',\n",
       "  'name': 'Blue Moon Belgian White Belgian-Style Wheat Ale',\n",
       "  'rating': {'average': 4.041128289991199, 'reviews': 50},\n",
       "  'image': 'https://www.totalwine.com/media/sys_master/twmmedia/h5b/hff/11941592694814.png',\n",
       "  'id': 15},\n",
       " {'price': '$16.99',\n",
       "  'name': 'Guinness Draught',\n",
       "  'rating': {'average': 2.9002860700543973, 'reviews': 401},\n",
       "  'image': 'https://www.totalwine.com/media/sys_master/twmmedia/h66/h6a/11996634775582.png',\n",
       "  'id': 16},\n",
       " {'price': '$10.99',\n",
       "  'name': 'Weihenstephaner Hefe Weissbier',\n",
       "  'rating': {'average': 2.89292945072894, 'reviews': 267},\n",
       "  'image': 'https://www.totalwine.com/media/sys_master/twmmedia/h19/he2/11969419083806.png',\n",
       "  'id': 17},\n",
       " {'price': '$2.29',\n",
       "  'name': 'Cigar City Jai-Alai IPA',\n",
       "  'rating': {'average': 3.779669618771213, 'reviews': 206},\n",
       "  'image': 'https://www.totalwine.com/media/sys_master/twmmedia/hdb/h25/11969380712478.png',\n",
       "  'id': 18},\n",
       " {'price': '$21.99',\n",
       "  'name': \"Bell's Two Hearted Ale\",\n",
       "  'rating': {'average': 1.768500733899927, 'reviews': 63},\n",
       "  'image': 'https://www.totalwine.com/media/sys_master/twmmedia/hfc/h84/11735172120606.png',\n",
       "  'id': 19},\n",
       " {'price': '$12.99',\n",
       "  'name': 'Kentucky Bourbon Barrel Ale',\n",
       "  'rating': {'average': 2.2328898766089313, 'reviews': 377},\n",
       "  'image': 'https://www.totalwine.com/media/sys_master/twmmedia/h0f/h40/11931598913566.png',\n",
       "  'id': 20},\n",
       " {'price': '$12.99',\n",
       "  'name': 'Dogfish Head 90-Minute IPA',\n",
       "  'rating': {'average': 3.7771776781196387, 'reviews': 496},\n",
       "  'image': 'https://www.totalwine.com/media/sys_master/twmmedia/hd0/h80/11717909905438.png',\n",
       "  'id': 21},\n",
       " {'price': '$9.49',\n",
       "  'name': 'Sierra Nevada Hazy Little Thing IPA',\n",
       "  'rating': {'average': 1.4359814370189987, 'reviews': 351},\n",
       "  'image': 'https://www.totalwine.com/media/sys_master/twmmedia/h42/h71/11375171207198.png',\n",
       "  'id': 22},\n",
       " {'price': '$4.99',\n",
       "  'name': \"Bell's Double Two Hearted\",\n",
       "  'rating': {'average': 4.268804254746469, 'reviews': 74},\n",
       "  'image': 'https://www.totalwine.com/media/sys_master/cmsmedia/hff/h0e/8979036078110.png',\n",
       "  'id': 23},\n",
       " {'price': '$11.99',\n",
       "  'name': 'Victory Golden Monkey Ale',\n",
       "  'rating': {'average': 3.1676642120290497, 'reviews': 141},\n",
       "  'image': 'https://www.totalwine.com/media/sys_master/twmmedia/hab/ha1/11849258827806.png',\n",
       "  'id': 24},\n",
       " {'price': '$18.49',\n",
       "  'name': 'Founders Underground Mountain Brown',\n",
       "  'rating': {'average': 2.1446471059009395, 'reviews': 319},\n",
       "  'image': 'https://www.totalwine.com/media/sys_master/cmsmedia/hff/h0e/8979036078110.png',\n",
       "  'id': 25},\n",
       " {'price': '$10.99',\n",
       "  'name': \"Bell's Two Hearted Ale\",\n",
       "  'rating': {'average': 2.857913327526303, 'reviews': 440},\n",
       "  'image': 'https://www.totalwine.com/media/sys_master/twmmedia/hd0/h7c/8813760610334.png',\n",
       "  'id': 26},\n",
       " {'price': '$89.99',\n",
       "  'name': 'Blue Moon Belgian White Belgian-Style Wheat Ale',\n",
       "  'rating': {'average': 1.508525625330103, 'reviews': 381},\n",
       "  'image': 'https://www.totalwine.com/media/sys_master/twmmedia/hc2/he9/11975816085534.png',\n",
       "  'id': 27},\n",
       " {'price': '$11.49',\n",
       "  'name': 'Elysian Space Dust IPA',\n",
       "  'rating': {'average': 1.56330286120944, 'reviews': 203},\n",
       "  'image': 'https://www.totalwine.com/media/sys_master/twmmedia/h0f/hb6/11735169466398.png',\n",
       "  'id': 28},\n",
       " {'price': '$12.49',\n",
       "  'name': 'Duvel Belgian Ale',\n",
       "  'rating': {'average': 2.5572486237237335, 'reviews': 191},\n",
       "  'image': 'https://www.totalwine.com/media/sys_master/twmmedia/h0c/h86/8810864082974.png',\n",
       "  'id': 29},\n",
       " {'price': '$9.99',\n",
       "  'name': 'Founders Breakfast Stout',\n",
       "  'rating': {'average': 2.536098631569753, 'reviews': 105},\n",
       "  'image': 'https://www.totalwine.com/media/sys_master/twmmedia/ha2/he2/8796687728670.png',\n",
       "  'id': 30},\n",
       " {'price': '$16.79',\n",
       "  'name': 'Founders Centennial IPA',\n",
       "  'rating': {'average': 4.902598150770166, 'reviews': 407},\n",
       "  'image': 'https://www.totalwine.com/media/sys_master/twmmedia/h9d/h94/11167126519838.png',\n",
       "  'id': 31},\n",
       " {'price': '$8.99',\n",
       "  'name': 'Lagunitas IPA',\n",
       "  'rating': {'average': 4.599331298776508, 'reviews': 135},\n",
       "  'image': 'https://www.totalwine.com/media/sys_master/twmmedia/h2c/h78/8804310777886.png',\n",
       "  'id': 32},\n",
       " {'price': '$14.99',\n",
       "  'name': 'New Belgium Fat Tire',\n",
       "  'rating': {'average': 1.056104104160374, 'reviews': 492},\n",
       "  'image': 'https://www.totalwine.com/media/sys_master/twmmedia/hee/hb0/8809351217182.png',\n",
       "  'id': 33},\n",
       " {'price': '$8.49',\n",
       "  'name': 'Boddingtons Pub Ale',\n",
       "  'rating': {'average': 1.3365664144031921, 'reviews': 364},\n",
       "  'image': 'https://www.totalwine.com/media/sys_master/twmmedia/hc8/h2c/8806352846878.png',\n",
       "  'id': 34},\n",
       " {'price': '$7.99',\n",
       "  'name': 'Hoegaarden Witbier Blanche',\n",
       "  'rating': {'average': 3.565917975071695, 'reviews': 189},\n",
       "  'image': 'https://www.totalwine.com/media/sys_master/twmmedia/h97/h48/11931669102622.png',\n",
       "  'id': 35},\n",
       " {'price': '$9.99',\n",
       "  'name': 'Lagunitas Daytime IPA',\n",
       "  'rating': {'average': 3.7896243815044306, 'reviews': 477},\n",
       "  'image': 'https://www.totalwine.com/media/sys_master/twmmedia/hd1/h89/11657040003102.png',\n",
       "  'id': 36},\n",
       " {'price': '$11.49',\n",
       "  'name': 'Stone IPA (India Pale Ale)',\n",
       "  'rating': {'average': 1.878226983778763, 'reviews': 380},\n",
       "  'image': 'https://www.totalwine.com/media/sys_master/twmmedia/h26/h91/11770094026782.png',\n",
       "  'id': 37},\n",
       " {'price': '$9.99',\n",
       "  'name': 'Spaten Franziskaner Hefe-Weisse',\n",
       "  'rating': {'average': 1.9830030107855592, 'reviews': 223},\n",
       "  'image': 'https://www.totalwine.com/media/sys_master/twmmedia/h25/h97/8798007754782.png',\n",
       "  'id': 38},\n",
       " {'price': '$18.99',\n",
       "  'name': 'Southern Tier Warlock Imperial Pumpkin Stout',\n",
       "  'rating': {'average': 2.043941554653335, 'reviews': 241},\n",
       "  'image': 'https://www.totalwine.com/media/sys_master/twmmedia/h80/h0d/10734657470494.png',\n",
       "  'id': 39},\n",
       " {'price': '$19.99',\n",
       "  'name': 'Dogfish Head 60-Minute IPA',\n",
       "  'rating': {'average': 3.48129639229092, 'reviews': 310},\n",
       "  'image': 'https://www.totalwine.com/media/sys_master/twmmedia/h5f/h00/10124016648222.png',\n",
       "  'id': 40},\n",
       " {'price': '$16.99',\n",
       "  'name': 'Newcastle Brown Ale',\n",
       "  'rating': {'average': 1.0385809111488369, 'reviews': 485},\n",
       "  'image': 'https://www.totalwine.com/media/sys_master/twmmedia/hf5/h03/11969565622302.png',\n",
       "  'id': 41},\n",
       " {'price': '$11.49',\n",
       "  'name': 'New Belgium Voodoo Ranger Imperial IPA',\n",
       "  'rating': {'average': 1.030031658964159, 'reviews': 412},\n",
       "  'image': 'https://www.totalwine.com/media/sys_master/twmmedia/h06/h57/10672758161438.png',\n",
       "  'id': 42},\n",
       " {'price': '$9.99',\n",
       "  'name': \"Smithwick's Irish Ale\",\n",
       "  'rating': {'average': 3.344299483944976, 'reviews': 190},\n",
       "  'image': 'https://www.totalwine.com/media/sys_master/twmmedia/h64/had/11996577431582.png',\n",
       "  'id': 43},\n",
       " {'price': '$19.99',\n",
       "  'name': 'Stone IPA (India Pale Ale)',\n",
       "  'rating': {'average': 3.679742063810279, 'reviews': 404},\n",
       "  'image': 'https://www.totalwine.com/media/sys_master/twmmedia/h80/he9/10140961341470.png',\n",
       "  'id': 44},\n",
       " {'price': '$11.49',\n",
       "  'name': 'Left Hand Milk Stout Nitro',\n",
       "  'rating': {'average': 1.5222183530402447, 'reviews': 457},\n",
       "  'image': 'https://www.totalwine.com/media/sys_master/twmmedia/h2d/haf/8813239762974.png',\n",
       "  'id': 45},\n",
       " {'price': '$9.99',\n",
       "  'name': 'Founders Porter',\n",
       "  'rating': {'average': 3.7036191902784807, 'reviews': 247},\n",
       "  'image': 'https://www.totalwine.com/media/sys_master/twmmedia/h37/h9f/8796760277022.png',\n",
       "  'id': 46},\n",
       " {'price': '$14.99',\n",
       "  'name': 'Shock Top Belgian White Ale',\n",
       "  'rating': {'average': 4.02565627585603, 'reviews': 418},\n",
       "  'image': 'https://www.totalwine.com/media/sys_master/twmmedia/hbe/h78/11891420495902.png',\n",
       "  'id': 47},\n",
       " {'price': '$10.99',\n",
       "  'name': 'Dogfish Head Slightly Mighty IPA',\n",
       "  'rating': {'average': 3.518525930659723, 'reviews': 312},\n",
       "  'image': 'https://www.totalwine.com/media/sys_master/twmmedia/hcd/ha2/11845581078558.png',\n",
       "  'id': 48},\n",
       " {'price': '$15.99',\n",
       "  'name': 'Founders Backwoods Bastard',\n",
       "  'rating': {'average': 3.0187543429516914, 'reviews': 226},\n",
       "  'image': 'https://www.totalwine.com/media/sys_master/twmmedia/h8f/h35/11536035217438.png',\n",
       "  'id': 49},\n",
       " {'price': '$16.99',\n",
       "  'name': 'Goose Island IPA',\n",
       "  'rating': {'average': 1.1082348289013026, 'reviews': 117},\n",
       "  'image': 'https://www.totalwine.com/media/sys_master/twmmedia/hb3/h9b/11444657618974.png',\n",
       "  'id': 50},\n",
       " {'price': '$18.49',\n",
       "  'name': 'Stone Farking Wheaton w00tstout',\n",
       "  'rating': {'average': 3.3898938755564823, 'reviews': 61},\n",
       "  'image': 'https://www.totalwine.com/media/sys_master/cmsmedia/hff/h0e/8979036078110.png',\n",
       "  'id': 51},\n",
       " {'price': '$7.99',\n",
       "  'name': 'Kona Big Wave Golden Ale',\n",
       "  'rating': {'average': 4.216231501611103, 'reviews': 253},\n",
       "  'image': 'https://www.totalwine.com/media/sys_master/twmmedia/hb9/h8e/8797338894366.png',\n",
       "  'id': 52},\n",
       " {'price': '$10.99',\n",
       "  'name': 'North Coast Old Rasputin Imperial Stout',\n",
       "  'rating': {'average': 1.7226627560750893, 'reviews': 171},\n",
       "  'image': 'https://www.totalwine.com/media/sys_master/twmmedia/h25/h63/11770107363358.png',\n",
       "  'id': 53},\n",
       " {'price': '$9.99',\n",
       "  'name': 'Lagunitas A Little Sumpin Sumpin',\n",
       "  'rating': {'average': 3.5321444435967244, 'reviews': 129},\n",
       "  'image': 'https://www.totalwine.com/media/sys_master/twmmedia/hdb/h96/10856913207326.png',\n",
       "  'id': 54},\n",
       " {'price': '$21.49',\n",
       "  'name': 'Chimay Grande Reserve Blue',\n",
       "  'rating': {'average': 4.7937905748912435, 'reviews': 99},\n",
       "  'image': 'https://www.totalwine.com/media/sys_master/twmmedia/h8a/h92/8798154031134.png',\n",
       "  'id': 55},\n",
       " {'price': '$13.99',\n",
       "  'name': 'Ballast Point Sculpin IPA',\n",
       "  'rating': {'average': 1.0633744801576714, 'reviews': 323},\n",
       "  'image': 'https://www.totalwine.com/media/sys_master/twmmedia/he7/hcf/11969504673822.png',\n",
       "  'id': 56},\n",
       " {'price': '$12.99',\n",
       "  'name': 'Stone Fear.Movie.Lions Double IPA',\n",
       "  'rating': {'average': 4.193323291786882, 'reviews': 319},\n",
       "  'image': 'https://www.totalwine.com/media/sys_master/twmmedia/h78/hdf/11797725052958.png',\n",
       "  'id': 57},\n",
       " {'price': '$7.99',\n",
       "  'name': 'New Belgium Fat Tire',\n",
       "  'rating': {'average': 4.36964965425013, 'reviews': 440},\n",
       "  'image': 'https://www.totalwine.com/media/sys_master/twmmedia/hfa/hc0/11805929209886.png',\n",
       "  'id': 58},\n",
       " {'price': '$87.99',\n",
       "  'name': 'New Belgium Fat Tire',\n",
       "  'rating': {'average': 4.492195528374378, 'reviews': 83},\n",
       "  'image': 'https://www.totalwine.com/media/sys_master/twmmedia/h5f/h1f/9781897035806.png',\n",
       "  'id': 59},\n",
       " {'price': '$10.99',\n",
       "  'name': 'New Belgium Trippel Belgian Style Ale',\n",
       "  'rating': {'average': 2.6576216939051998, 'reviews': 389},\n",
       "  'image': 'https://www.totalwine.com/media/sys_master/twmmedia/hc7/h44/11464107982878.png',\n",
       "  'id': 60},\n",
       " {'price': '$1.99',\n",
       "  'name': 'Paulaner Hefe Weizen',\n",
       "  'rating': {'average': 2.224460075596946, 'reviews': 87},\n",
       "  'image': 'https://www.totalwine.com/media/sys_master/twmmedia/h7f/h64/8820569014302.png',\n",
       "  'id': 61},\n",
       " {'price': '$10.99',\n",
       "  'name': 'Dogfish Head SeaQuenchAle',\n",
       "  'rating': {'average': 2.604050274543601, 'reviews': 62},\n",
       "  'image': 'https://www.totalwine.com/media/sys_master/twmmedia/h60/h11/10124017303582.png',\n",
       "  'id': 62},\n",
       " {'price': '$20.99',\n",
       "  'name': 'St Bernardus Abt 12',\n",
       "  'rating': {'average': 1.0089880840508387, 'reviews': 205},\n",
       "  'image': 'https://www.totalwine.com/media/sys_master/twmmedia/hcc/h30/10728889778206.png',\n",
       "  'id': 63},\n",
       " {'price': '$36.99',\n",
       "  'name': 'Dogfish Head World Wide Stout',\n",
       "  'rating': {'average': 1.1643783197497646, 'reviews': 119},\n",
       "  'image': 'https://www.totalwine.com/media/sys_master/twmmedia/h8c/h4e/10657395245086.png',\n",
       "  'id': 64},\n",
       " {'price': '$9.99',\n",
       "  'name': 'Unibroue - La Fin Du Monde',\n",
       "  'rating': {'average': 2.514476444565455, 'reviews': 127},\n",
       "  'image': 'https://www.totalwine.com/media/sys_master/twmmedia/h8c/hcd/8800920829982.png',\n",
       "  'id': 65},\n",
       " {'price': '$9.49',\n",
       "  'name': 'Sierra Nevada Pale Ale',\n",
       "  'rating': {'average': 4.017110604857885, 'reviews': 393},\n",
       "  'image': 'https://www.totalwine.com/media/sys_master/twmmedia/h05/h54/11589988024350.png',\n",
       "  'id': 66},\n",
       " {'price': '$8.99',\n",
       "  'name': 'Blue Moon Mango Wheat',\n",
       "  'rating': {'average': 3.7853182263516203, 'reviews': 58},\n",
       "  'image': 'https://www.totalwine.com/media/sys_master/twmmedia/hed/h46/11170760327198.png',\n",
       "  'id': 67},\n",
       " {'price': '$12.99',\n",
       "  'name': 'Oskar Blues Death By Coconut',\n",
       "  'rating': {'average': 2.499562698383815, 'reviews': 130},\n",
       "  'image': 'https://www.totalwine.com/media/sys_master/twmmedia/ha6/h87/9664767787038.png',\n",
       "  'id': 68},\n",
       " {'price': '$16.49',\n",
       "  'name': 'New Belgium Voodoo Ranger IPA',\n",
       "  'rating': {'average': 1.3981363388800485, 'reviews': 441},\n",
       "  'image': 'https://www.totalwine.com/media/sys_master/twmmedia/h5d/h93/10675772489758.png',\n",
       "  'id': 69},\n",
       " {'price': '$14.99',\n",
       "  'name': 'Kona Big Wave Golden Ale',\n",
       "  'rating': {'average': 3.366369397953016, 'reviews': 370},\n",
       "  'image': 'https://www.totalwine.com/media/sys_master/twmmedia/h8a/hcc/12027169669150.png',\n",
       "  'id': 70},\n",
       " {'price': '$8.99',\n",
       "  'name': 'Guinness Foreign Extra Stout',\n",
       "  'rating': {'average': 3.955232912250458, 'reviews': 57},\n",
       "  'image': 'https://www.totalwine.com/media/sys_master/twmmedia/h64/h42/11996578906142.png',\n",
       "  'id': 71},\n",
       " {'price': '$15.99',\n",
       "  'name': 'Schofferhofer Hefeweizen Grapefruit',\n",
       "  'rating': {'average': 2.887846830566846, 'reviews': 297},\n",
       "  'image': 'https://www.totalwine.com/media/sys_master/twmmedia/hb5/hd5/11358023155742.png',\n",
       "  'id': 72},\n",
       " {'price': '$13.99',\n",
       "  'name': 'Ballast Point Sculpin IPA',\n",
       "  'rating': {'average': 1.4983124359520046, 'reviews': 53},\n",
       "  'image': 'https://www.totalwine.com/media/sys_master/twmmedia/h54/h09/11969425702942.png',\n",
       "  'id': 73},\n",
       " {'price': '$11.49',\n",
       "  'name': 'Stone Arrogant Bastard Ale',\n",
       "  'rating': {'average': 4.476922876044725, 'reviews': 410},\n",
       "  'image': 'https://www.totalwine.com/media/sys_master/twmmedia/h7a/h9c/11770097860638.png',\n",
       "  'id': 74},\n",
       " {'price': '$13.49',\n",
       "  'name': 'Ballast Point Grapefruit Sculpin IPA',\n",
       "  'rating': {'average': 2.2181579436694605, 'reviews': 130},\n",
       "  'image': 'https://www.totalwine.com/media/sys_master/twmmedia/h2e/h8e/11969407221790.png',\n",
       "  'id': 75},\n",
       " {'price': '$9.99',\n",
       "  'name': \"Oskar Blues Dale's Pale Ale\",\n",
       "  'rating': {'average': 1.0189692403493238, 'reviews': 280},\n",
       "  'image': 'https://www.totalwine.com/media/sys_master/twmmedia/h2f/h10/8804817240094.png',\n",
       "  'id': 76},\n",
       " {'price': '$13.99',\n",
       "  'name': 'Chimay Grande Reserve Blue',\n",
       "  'rating': {'average': 3.3233628692606922, 'reviews': 90},\n",
       "  'image': 'https://www.totalwine.com/media/sys_master/twmmedia/h43/hf5/8820567834654.png',\n",
       "  'id': 77},\n",
       " {'price': '$17.49',\n",
       "  'name': 'Boulevard Bourbon Barrel Quad',\n",
       "  'rating': {'average': 3.3608031669590206, 'reviews': 126},\n",
       "  'image': 'https://www.totalwine.com/media/sys_master/twmmedia/h6b/ha4/10501577375774.png',\n",
       "  'id': 78},\n",
       " {'price': '$9.49',\n",
       "  'name': 'Hofbrau Hefe Weizen',\n",
       "  'rating': {'average': 3.1129695093601795, 'reviews': 169},\n",
       "  'image': 'https://www.totalwine.com/media/sys_master/twmmedia/h08/h77/8816818946078.png',\n",
       "  'id': 79},\n",
       " {'price': '$14.99',\n",
       "  'name': 'Boulevard Tank 7 Farmhouse Ale',\n",
       "  'rating': {'average': 2.525521586557562, 'reviews': 369},\n",
       "  'image': 'https://www.totalwine.com/media/sys_master/twmmedia/h41/h0f/12021147697182.png',\n",
       "  'id': 80},\n",
       " {'price': '$2.99',\n",
       "  'name': \"Samuel Smith's Organic Chocolate Stout\",\n",
       "  'rating': {'average': 4.1555247865397416, 'reviews': 169},\n",
       "  'image': 'https://www.totalwine.com/media/sys_master/twmmedia/h37/ha6/8803802054686.png',\n",
       "  'id': 81},\n",
       " {'price': '$2.79',\n",
       "  'name': \"Bell's Special Double Cream Stout\",\n",
       "  'rating': {'average': 3.682967725411885, 'reviews': 56},\n",
       "  'image': 'https://www.totalwine.com/media/sys_master/twmmedia/h73/h11/8803018965022.png',\n",
       "  'id': 82},\n",
       " {'price': '$9.99',\n",
       "  'name': 'Founders Dirty Bastard Ale',\n",
       "  'rating': {'average': 3.970086617125669, 'reviews': 72},\n",
       "  'image': 'https://www.totalwine.com/media/sys_master/twmmedia/h6b/ha2/8806269812766.png',\n",
       "  'id': 83},\n",
       " {'price': '$11.79',\n",
       "  'name': 'Achouffe La Chouffe',\n",
       "  'rating': {'average': 3.800563812674647, 'reviews': 151},\n",
       "  'image': 'https://www.totalwine.com/media/sys_master/twmmedia/ha0/h87/10140920315934.png',\n",
       "  'id': 84},\n",
       " {'price': '$17.99',\n",
       "  'name': 'Founders Mosaic Promise',\n",
       "  'rating': {'average': 4.052128197668433, 'reviews': 378},\n",
       "  'image': 'https://www.totalwine.com/media/sys_master/twmmedia/h32/hca/10698194583582.png',\n",
       "  'id': 85},\n",
       " {'price': '$22.99',\n",
       "  'name': 'Stone Delicious IPA',\n",
       "  'rating': {'average': 4.437512706307549, 'reviews': 238},\n",
       "  'image': 'https://www.totalwine.com/media/sys_master/twmmedia/ha2/h39/12007074758686.png',\n",
       "  'id': 86},\n",
       " {'price': '$10.99',\n",
       "  'name': 'Rogue Batsquatch Hazy IPA',\n",
       "  'rating': {'average': 4.502906484625454, 'reviews': 483},\n",
       "  'image': 'https://www.totalwine.com/media/sys_master/twmmedia/hc3/h11/11931839692830.png',\n",
       "  'id': 87},\n",
       " {'price': '$11.49',\n",
       "  'name': 'New Belgium Voodoo Ranger Juicy Haze IPA',\n",
       "  'rating': {'average': 4.800191829796816, 'reviews': 255},\n",
       "  'image': 'https://www.totalwine.com/media/sys_master/cmsmedia/hff/h0e/8979036078110.png',\n",
       "  'id': 88},\n",
       " {'price': '$17.99',\n",
       "  'name': 'Boulevard Whiskey Barrel Stout',\n",
       "  'rating': {'average': 3.7756782589755353, 'reviews': 180},\n",
       "  'image': 'https://www.totalwine.com/media/sys_master/twmmedia/h69/h85/11443360235550.png',\n",
       "  'id': 89},\n",
       " {'price': '$9.99',\n",
       "  'name': 'Lagunitas Maximus IPA',\n",
       "  'rating': {'average': 3.641323719494787, 'reviews': 493},\n",
       "  'image': 'https://www.totalwine.com/media/sys_master/twmmedia/h45/h8f/9418350657566.png',\n",
       "  'id': 90},\n",
       " {'price': '$12.99',\n",
       "  'name': \"Offshoot Relax (It's Just a Hazy IPA)\",\n",
       "  'rating': {'average': 4.169674694322197, 'reviews': 164},\n",
       "  'image': 'https://www.totalwine.com/media/sys_master/twmmedia/h90/h58/11311020245022.png',\n",
       "  'id': 91},\n",
       " {'price': '$12.99',\n",
       "  'name': 'Sixpoint Resin',\n",
       "  'rating': {'average': 3.1029248482584535, 'reviews': 234},\n",
       "  'image': 'https://www.totalwine.com/media/sys_master/twmmedia/hf5/hfb/10657396424734.png',\n",
       "  'id': 92},\n",
       " {'price': '$99.99',\n",
       "  'name': 'Cigar City Jai-Alai IPA',\n",
       "  'rating': {'average': 1.0601853988027745, 'reviews': 485},\n",
       "  'image': 'https://www.totalwine.com/media/sys_master/twmmedia/hdc/h98/9781940322334.png',\n",
       "  'id': 93},\n",
       " {'price': '$12.99',\n",
       "  'name': 'Wicked Weed Pernicious IPA',\n",
       "  'rating': {'average': 1.3267940892543262, 'reviews': 234},\n",
       "  'image': 'https://www.totalwine.com/media/sys_master/cmsmedia/hff/h0e/8979036078110.png',\n",
       "  'id': 94},\n",
       " {'price': '$12.99',\n",
       "  'name': 'Dogfish Head SuperEIGHT',\n",
       "  'rating': {'average': 2.4587302813711283, 'reviews': 191},\n",
       "  'image': 'https://www.totalwine.com/media/sys_master/cmsmedia/hff/h0e/8979036078110.png',\n",
       "  'id': 95},\n",
       " {'price': '$6.99',\n",
       "  'name': 'Rochefort 10 Trappist Ale',\n",
       "  'rating': {'average': 2.6243993844011806, 'reviews': 303},\n",
       "  'image': 'https://www.totalwine.com/media/sys_master/twmmedia/hcc/h4a/8803981787166.png',\n",
       "  'id': 96},\n",
       " {'price': '$18.99',\n",
       "  'name': 'Delirium Tremens',\n",
       "  'rating': {'average': 4.2526903890313905, 'reviews': 463},\n",
       "  'image': 'https://www.totalwine.com/media/sys_master/twmmedia/h05/ha0/8804687970334.png',\n",
       "  'id': 97},\n",
       " {'price': '$8.99',\n",
       "  'name': 'Lagunitas SuperCluster',\n",
       "  'rating': {'average': 4.969725976340016, 'reviews': 59},\n",
       "  'image': 'https://www.totalwine.com/media/sys_master/cmsmedia/hff/h0e/8979036078110.png',\n",
       "  'id': 98},\n",
       " {'price': '$12.99',\n",
       "  'name': \"New Holland Dragon's Milk White Stout\",\n",
       "  'rating': {'average': 2.62207680296948, 'reviews': 66},\n",
       "  'image': 'https://www.totalwine.com/media/sys_master/cmsmedia/hff/h0e/8979036078110.png',\n",
       "  'id': 99},\n",
       " {'price': '$7.99',\n",
       "  'name': 'Goose Island IPA',\n",
       "  'rating': {'average': 4.002017823140871, 'reviews': 323},\n",
       "  'image': 'https://www.totalwine.com/media/sys_master/twmmedia/h39/h7f/9985249247262.png',\n",
       "  'id': 100},\n",
       " {'price': '$13.49',\n",
       "  'name': 'Ballast Point Grapefruit Sculpin IPA',\n",
       "  'rating': {'average': 2.924150050325185, 'reviews': 66},\n",
       "  'image': 'https://www.totalwine.com/media/sys_master/twmmedia/h14/h10/11969425997854.png',\n",
       "  'id': 101},\n",
       " {'price': '$1.79',\n",
       "  'name': 'Sierra Nevada Torpedo Extra IPA',\n",
       "  'rating': {'average': 4.132209648216585, 'reviews': 86},\n",
       "  'image': 'https://www.totalwine.com/media/sys_master/twmmedia/h88/h47/8796708962334.png',\n",
       "  'id': 102},\n",
       " {'price': '$10.99',\n",
       "  'name': 'Duclaw Sweet Baby Jesus!',\n",
       "  'rating': {'average': 4.089769886898315, 'reviews': 402},\n",
       "  'image': 'https://www.totalwine.com/media/sys_master/twmmedia/hb1/h21/9351707328542.png',\n",
       "  'id': 103},\n",
       " {'price': '$16.99',\n",
       "  'name': \"Lagunitas Sumpin' Easy\",\n",
       "  'rating': {'average': 1.3485746897254929, 'reviews': 334},\n",
       "  'image': 'https://www.totalwine.com/media/sys_master/twmmedia/h29/h71/11312566894622.png',\n",
       "  'id': 104},\n",
       " {'price': '$12.99',\n",
       "  'name': 'Lord Hobo Boom Sauce',\n",
       "  'rating': {'average': 4.271835995644435, 'reviews': 102},\n",
       "  'image': 'https://www.totalwine.com/media/sys_master/twmmedia/h28/h24/11544524718110.png',\n",
       "  'id': 105},\n",
       " {'price': '$12.99',\n",
       "  'name': 'Weihenstephaner Vitus',\n",
       "  'rating': {'average': 1.3135036691160673, 'reviews': 469},\n",
       "  'image': 'https://www.totalwine.com/media/sys_master/twmmedia/he4/hd0/11969417609246.png',\n",
       "  'id': 106},\n",
       " {'price': '$12.79',\n",
       "  'name': 'New Belgium Voodoo Ranger Juicifer IPA',\n",
       "  'rating': {'average': 3.9492021918949725, 'reviews': 236},\n",
       "  'image': 'https://www.totalwine.com/media/sys_master/cmsmedia/hff/h0e/8979036078110.png',\n",
       "  'id': 107},\n",
       " {'price': '$12.99',\n",
       "  'name': \"Lindeman's Framboise\",\n",
       "  'rating': {'average': 2.7519071827960273, 'reviews': 108},\n",
       "  'image': 'https://www.totalwine.com/media/sys_master/cmsmedia/hff/h0e/8979036078110.png',\n",
       "  'id': 108},\n",
       " {'price': '$14.99',\n",
       "  'name': 'Dogfish Head Palo Santo Marron',\n",
       "  'rating': {'average': 2.4190073235744673, 'reviews': 75},\n",
       "  'image': 'https://www.totalwine.com/media/sys_master/twmmedia/hbe/h3c/10225139908638.png',\n",
       "  'id': 109},\n",
       " {'price': '$15.49',\n",
       "  'name': 'Clown Shoes Space Cake',\n",
       "  'rating': {'average': 4.883356891746129, 'reviews': 367},\n",
       "  'image': 'https://www.totalwine.com/media/sys_master/cmsmedia/hff/h0e/8979036078110.png',\n",
       "  'id': 110},\n",
       " {'price': '$9.99',\n",
       "  'name': \"Bell's Best Brown Ale\",\n",
       "  'rating': {'average': 2.6802502419403025, 'reviews': 406},\n",
       "  'image': 'https://www.totalwine.com/media/sys_master/twmmedia/heb/h89/8815740649502.png',\n",
       "  'id': 111},\n",
       " {'price': '$11.99',\n",
       "  'name': 'Victory Golden Monkey Ale',\n",
       "  'rating': {'average': 3.223867503577261, 'reviews': 257},\n",
       "  'image': 'https://www.totalwine.com/media/sys_master/twmmedia/h2e/h20/11849258532894.png',\n",
       "  'id': 112},\n",
       " {'price': '$8.99',\n",
       "  'name': 'Erdinger Weissbier',\n",
       "  'rating': {'average': 3.9267369526916545, 'reviews': 78},\n",
       "  'image': 'https://www.totalwine.com/media/sys_master/twmmedia/h61/hda/8820602109982.png',\n",
       "  'id': 113},\n",
       " {'price': '$10.99',\n",
       "  'name': 'Robinsons Trooper Ale',\n",
       "  'rating': {'average': 3.834032592144709, 'reviews': 338},\n",
       "  'image': 'https://www.totalwine.com/media/sys_master/twmmedia/h42/hf3/10675674120222.png',\n",
       "  'id': 114},\n",
       " {'price': '$3.99',\n",
       "  'name': 'Kentucky Coffee Barrel Stout',\n",
       "  'rating': {'average': 1.335718639280703, 'reviews': 416},\n",
       "  'image': 'https://www.totalwine.com/media/sys_master/twmmedia/h25/h7f/11931443626014.png',\n",
       "  'id': 115},\n",
       " {'price': '$9.99',\n",
       "  'name': '21st Amendment Brew Free Or Die Blood Orange IPA',\n",
       "  'rating': {'average': 4.894730680324359, 'reviews': 230},\n",
       "  'image': 'https://www.totalwine.com/media/sys_master/twmmedia/h7d/had/11170752692254.png',\n",
       "  'id': 116},\n",
       " {'price': '$9.49',\n",
       "  'name': 'Kronenbourg Blanc',\n",
       "  'rating': {'average': 2.7826152662684214, 'reviews': 304},\n",
       "  'image': 'https://www.totalwine.com/media/sys_master/twmmedia/h8c/ha4/9354116857886.png',\n",
       "  'id': 117},\n",
       " {'price': '$10.99',\n",
       "  'name': \"Bell's Official Hazy IPA\",\n",
       "  'rating': {'average': 4.4548183643373855, 'reviews': 480},\n",
       "  'image': 'https://www.totalwine.com/media/sys_master/cmsmedia/hff/h0e/8979036078110.png',\n",
       "  'id': 118},\n",
       " {'price': '$8.99',\n",
       "  'name': 'Cigar City Maduro Brown',\n",
       "  'rating': {'average': 2.6831070228729246, 'reviews': 474},\n",
       "  'image': 'https://www.totalwine.com/media/sys_master/twmmedia/h8f/heb/11589816057886.png',\n",
       "  'id': 119},\n",
       " {'price': '$20.99',\n",
       "  'name': 'Gulden Draak 9000 Quadrupel',\n",
       "  'rating': {'average': 2.7633099153167375, 'reviews': 359},\n",
       "  'image': 'https://www.totalwine.com/media/sys_master/twmmedia/h71/h01/8800490422302.png',\n",
       "  'id': 120},\n",
       " {'price': '$10.99',\n",
       "  'name': \"Bell's Two Hearted Ale\",\n",
       "  'rating': {'average': 3.086009671445667, 'reviews': 499},\n",
       "  'image': 'https://www.totalwine.com/media/sys_master/cmsmedia/hff/h0e/8979036078110.png',\n",
       "  'id': 121},\n",
       " {'price': '$9.99',\n",
       "  'name': 'Sierra Nevada Hop Bullet',\n",
       "  'rating': {'average': 4.606551938913049, 'reviews': 409},\n",
       "  'image': 'https://www.totalwine.com/media/sys_master/cmsmedia/hff/h0e/8979036078110.png',\n",
       "  'id': 122},\n",
       " {'price': '$8.99',\n",
       "  'name': 'Sweetwater 420 Strain G-13',\n",
       "  'rating': {'average': 4.176603737571783, 'reviews': 371},\n",
       "  'image': 'https://www.totalwine.com/media/sys_master/cmsmedia/hff/h0e/8979036078110.png',\n",
       "  'id': 123},\n",
       " {'price': '$19.99',\n",
       "  'name': 'Tripel Karmeliet',\n",
       "  'rating': {'average': 3.5888947699078804, 'reviews': 378},\n",
       "  'image': 'https://www.totalwine.com/media/sys_master/twmmedia/h7f/h6e/8797892739102.png',\n",
       "  'id': 124},\n",
       " {'price': '$8.49',\n",
       "  'name': 'New Belgium Voodoo Ranger IPA',\n",
       "  'rating': {'average': 4.107273030523367, 'reviews': 93},\n",
       "  'image': 'https://www.totalwine.com/media/sys_master/twmmedia/h2c/h7e/10508834045982.png',\n",
       "  'id': 125},\n",
       " {'price': '$92.99',\n",
       "  'name': 'Kona Big Wave Golden Ale',\n",
       "  'rating': {'average': 1.4034451390194747, 'reviews': 443},\n",
       "  'image': 'https://www.totalwine.com/media/sys_master/twmmedia/h90/hfb/9687556685854.png',\n",
       "  'id': 126},\n",
       " {'price': '$9.99',\n",
       "  'name': 'Heavy Seas Loose Cannon IPA',\n",
       "  'rating': {'average': 4.2247057118155755, 'reviews': 189},\n",
       "  'image': 'https://www.totalwine.com/media/sys_master/twmmedia/hba/h54/11931504771102.png',\n",
       "  'id': 127},\n",
       " {'price': '$9.49',\n",
       "  'name': 'Newcastle Brown Ale',\n",
       "  'rating': {'average': 1.3062165130061514, 'reviews': 122},\n",
       "  'image': 'https://www.totalwine.com/media/sys_master/twmmedia/h2e/he3/10072387780638.png',\n",
       "  'id': 128},\n",
       " {'price': '$15.99',\n",
       "  'name': 'Ommegang Three Philosophers',\n",
       "  'rating': {'average': 3.7650339790702576, 'reviews': 271},\n",
       "  'image': 'https://www.totalwine.com/media/sys_master/twmmedia/h39/h4a/9382849708062.png',\n",
       "  'id': 129},\n",
       " {'price': '$7.49',\n",
       "  'name': 'Shock Top Belgian White Ale',\n",
       "  'rating': {'average': 3.5245058222634285, 'reviews': 262},\n",
       "  'image': 'https://www.totalwine.com/media/sys_master/twmmedia/hf6/h53/11891418136606.png',\n",
       "  'id': 130},\n",
       " {'price': '$19.49',\n",
       "  'name': 'Duchesse De Bourgogne',\n",
       "  'rating': {'average': 3.7854120339206645, 'reviews': 115},\n",
       "  'image': 'https://www.totalwine.com/media/sys_master/twmmedia/h1d/h1c/8804202479646.png',\n",
       "  'id': 131},\n",
       " {'price': '$9.49',\n",
       "  'name': 'New Belgium Fat Tire Belgian White',\n",
       "  'rating': {'average': 3.079965625452034, 'reviews': 160},\n",
       "  'image': 'https://www.totalwine.com/media/sys_master/twmmedia/hb5/hd4/11698320834590.png',\n",
       "  'id': 132},\n",
       " {'price': '$10.49',\n",
       "  'name': 'Cigar City Guayabera Citra Pale Ale',\n",
       "  'rating': {'average': 4.146664357611568, 'reviews': 416},\n",
       "  'image': 'https://www.totalwine.com/media/sys_master/twmmedia/h4a/h12/11401918382110.png',\n",
       "  'id': 133},\n",
       " {'price': '$13.99',\n",
       "  'name': 'Dogfish Head American Beauty',\n",
       "  'rating': {'average': 2.1059576853999387, 'reviews': 64},\n",
       "  'image': 'https://www.totalwine.com/media/sys_master/twmmedia/hc1/hc4/11797694316574.png',\n",
       "  'id': 134},\n",
       " {'price': '$11.49',\n",
       "  'name': 'Old Speckled Hen',\n",
       "  'rating': {'average': 2.3637872222112417, 'reviews': 187},\n",
       "  'image': 'https://www.totalwine.com/media/sys_master/twmmedia/h18/h7e/8804595925022.png',\n",
       "  'id': 135},\n",
       " {'price': '$10.99',\n",
       "  'name': \"Samuel Smith's Oatmeal Stout\",\n",
       "  'rating': {'average': 3.755651312235952, 'reviews': 231},\n",
       "  'image': 'https://www.totalwine.com/media/sys_master/twmmedia/hf4/h32/8802976104478.png',\n",
       "  'id': 136},\n",
       " {'price': '$1.99',\n",
       "  'name': \"Foster's Special Bitter\",\n",
       "  'rating': {'average': 3.345153453413597, 'reviews': 456},\n",
       "  'image': 'https://www.totalwine.com/media/sys_master/twmmedia/hd3/hf0/11941521293342.png',\n",
       "  'id': 137},\n",
       " {'price': '$8.99',\n",
       "  'name': 'Kona Hanalei Island IPA',\n",
       "  'rating': {'average': 3.861066233750919, 'reviews': 59},\n",
       "  'image': 'https://www.totalwine.com/media/sys_master/twmmedia/hc4/h25/9947401158686.png',\n",
       "  'id': 138},\n",
       " {'price': '$12.99',\n",
       "  'name': 'Gaffel Kolsch',\n",
       "  'rating': {'average': 3.5860968066070953, 'reviews': 446},\n",
       "  'image': 'https://www.totalwine.com/media/sys_master/twmmedia/h4d/h45/8804792565790.png',\n",
       "  'id': 139},\n",
       " {'price': '$9.99',\n",
       "  'name': 'Left Hand Milk Stout Nitro',\n",
       "  'rating': {'average': 4.726783116573011, 'reviews': 236},\n",
       "  'image': 'https://www.totalwine.com/media/sys_master/twmmedia/h13/hcc/10950394413086.png',\n",
       "  'id': 140},\n",
       " {'price': '$8.99',\n",
       "  'name': 'Paulaner Hefe Weizen',\n",
       "  'rating': {'average': 2.290946882490756, 'reviews': 55},\n",
       "  'image': 'https://www.totalwine.com/media/sys_master/cmsmedia/hff/h0e/8979036078110.png',\n",
       "  'id': 141},\n",
       " {'price': '$11.49',\n",
       "  'name': 'Stone Tangerine Express IPA',\n",
       "  'rating': {'average': 2.4853029525964736, 'reviews': 185},\n",
       "  'image': 'https://www.totalwine.com/media/sys_master/twmmedia/h44/h41/12007072989214.png',\n",
       "  'id': 142},\n",
       " {'price': '$15.99',\n",
       "  'name': 'Samuel Adams Rebel IPA',\n",
       "  'rating': {'average': 2.8238527317268174, 'reviews': 383},\n",
       "  'image': 'https://www.totalwine.com/media/sys_master/twmmedia/h4f/h71/8807125319710.png',\n",
       "  'id': 143},\n",
       " {'price': '$8.49',\n",
       "  'name': 'Bass Ale',\n",
       "  'rating': {'average': 4.05017330128582, 'reviews': 374},\n",
       "  'image': 'https://www.totalwine.com/media/sys_master/twmmedia/h83/he6/11931937210398.png',\n",
       "  'id': 144},\n",
       " {'price': '$20.49',\n",
       "  'name': 'Chimay Premiere Red',\n",
       "  'rating': {'average': 3.240237215285262, 'reviews': 79},\n",
       "  'image': 'https://www.totalwine.com/media/sys_master/twmmedia/h8c/hec/8804559716382.png',\n",
       "  'id': 145},\n",
       " {'price': '$11.99',\n",
       "  'name': 'Duvel Tripel Hop',\n",
       "  'rating': {'average': 1.7576812202358694, 'reviews': 357},\n",
       "  'image': 'https://www.totalwine.com/media/sys_master/twmmedia/h47/h64/10126441840670.png',\n",
       "  'id': 146},\n",
       " {'price': '$11.99',\n",
       "  'name': 'Tripel Karmeliet',\n",
       "  'rating': {'average': 2.0935730249494418, 'reviews': 428},\n",
       "  'image': 'https://www.totalwine.com/media/sys_master/twmmedia/h92/h87/8820300283934.png',\n",
       "  'id': 147},\n",
       " {'price': '$11.99',\n",
       "  'name': 'Rogue Hazelnut Brown Nectar',\n",
       "  'rating': {'average': 1.9354656518898867, 'reviews': 259},\n",
       "  'image': 'https://www.totalwine.com/media/sys_master/twmmedia/h53/hf1/11139791421470.png',\n",
       "  'id': 148},\n",
       " {'price': '$19.99',\n",
       "  'name': 'Chimay Cinq Cents White Triple',\n",
       "  'rating': {'average': 3.750476125324088, 'reviews': 184},\n",
       "  'image': 'https://www.totalwine.com/media/sys_master/twmmedia/hb8/h2f/8804746330142.png',\n",
       "  'id': 149},\n",
       " {'price': '$8.99',\n",
       "  'name': 'Cigar City Florida Cracker Belgian-style White Ale',\n",
       "  'rating': {'average': 3.6242276941091225, 'reviews': 113},\n",
       "  'image': 'https://www.totalwine.com/media/sys_master/twmmedia/h33/h59/11589816352798.png',\n",
       "  'id': 150},\n",
       " {'price': '$12.99',\n",
       "  'name': 'New Belgium Honey Orange Tripel',\n",
       "  'rating': {'average': 4.180322318620529, 'reviews': 408},\n",
       "  'image': 'https://www.totalwine.com/media/sys_master/twmmedia/h03/h93/11375132606494.png',\n",
       "  'id': 151},\n",
       " {'price': '$14.79',\n",
       "  'name': 'Dogfish Head Flesh and Blood IPA',\n",
       "  'rating': {'average': 3.250643535696838, 'reviews': 385},\n",
       "  'image': 'https://www.totalwine.com/media/sys_master/twmmedia/hdd/hba/10124016943134.png',\n",
       "  'id': 152},\n",
       " {'price': '$17.99',\n",
       "  'name': \"Bell's Expedition Stout\",\n",
       "  'rating': {'average': 3.717992549497703, 'reviews': 404},\n",
       "  'image': 'https://www.totalwine.com/media/sys_master/twmmedia/h60/hb2/8800955105310.png',\n",
       "  'id': 153},\n",
       " {'price': '$11.49',\n",
       "  'name': 'Duchesse De Bourgogne',\n",
       "  'rating': {'average': 2.524190913111866, 'reviews': 262},\n",
       "  'image': 'https://www.totalwine.com/media/sys_master/twmmedia/h8f/h1d/8801000161310.png',\n",
       "  'id': 154},\n",
       " {'price': '$14.99',\n",
       "  'name': 'Westmalle Tripel Trappist Ale',\n",
       "  'rating': {'average': 2.209130924062644, 'reviews': 129},\n",
       "  'image': 'https://www.totalwine.com/media/sys_master/twmmedia/hb1/hd1/8798192369694.png',\n",
       "  'id': 155},\n",
       " {'price': '$3.99',\n",
       "  'name': 'Weihenstephaner HefeWeissbier Dark',\n",
       "  'rating': {'average': 3.434066764526942, 'reviews': 374},\n",
       "  'image': 'https://www.totalwine.com/media/sys_master/twmmedia/h43/h4b/10734629224478.png',\n",
       "  'id': 156},\n",
       " {'price': '$8.99',\n",
       "  'name': \"Fuller's London Pride\",\n",
       "  'rating': {'average': 4.788464936323404, 'reviews': 465},\n",
       "  'image': 'https://www.totalwine.com/media/sys_master/twmmedia/had/h2c/9770875682846.png',\n",
       "  'id': 157},\n",
       " {'price': '$16.49',\n",
       "  'name': 'SweetWater 420 Pale Ale',\n",
       "  'rating': {'average': 1.5438991712581398, 'reviews': 144},\n",
       "  'image': 'https://www.totalwine.com/media/sys_master/twmmedia/h38/h5f/11508996374558.png',\n",
       "  'id': 158},\n",
       " {'price': '$16.99',\n",
       "  'name': 'Sweetwater 420 Strain G-13',\n",
       "  'rating': {'average': 4.032524982682152, 'reviews': 370},\n",
       "  'image': 'https://www.totalwine.com/media/sys_master/cmsmedia/hff/h0e/8979036078110.png',\n",
       "  'id': 159},\n",
       " {'price': '$9.99',\n",
       "  'name': 'Lagunitas Hop Stoopid Ale',\n",
       "  'rating': {'average': 2.0824476203303357, 'reviews': 468},\n",
       "  'image': 'https://www.totalwine.com/media/sys_master/twmmedia/h59/hc4/11213336576030.png',\n",
       "  'id': 160},\n",
       " {'price': '$114.99',\n",
       "  'name': 'Dogfish Head 60-Minute IPA',\n",
       "  'rating': {'average': 1.630334145085353, 'reviews': 311},\n",
       "  'image': 'https://www.totalwine.com/media/sys_master/twmmedia/h52/h71/9789269934110.png',\n",
       "  'id': 161},\n",
       " {'price': '$9.99',\n",
       "  'name': 'Founders All Day IPA',\n",
       "  'rating': {'average': 4.008025403767698, 'reviews': 441},\n",
       "  'image': 'https://www.totalwine.com/media/sys_master/twmmedia/h13/hd3/11891418726430.png',\n",
       "  'id': 162},\n",
       " {'price': '$8.49',\n",
       "  'name': 'Unibroue - La Fin Du Monde',\n",
       "  'rating': {'average': 2.8047611369349283, 'reviews': 470},\n",
       "  'image': 'https://www.totalwine.com/media/sys_master/twmmedia/h74/h43/8804124753950.png',\n",
       "  'id': 163},\n",
       " {'price': '$15.99',\n",
       "  'name': 'Oskar Blues Ten FIDY',\n",
       "  'rating': {'average': 2.9788154999137637, 'reviews': 436},\n",
       "  'image': 'https://www.totalwine.com/media/sys_master/twmmedia/hc1/h8e/11465945481246.png',\n",
       "  'id': 164},\n",
       " {'price': '$10.99',\n",
       "  'name': 'Anderson Valley GOSE Blood Orange',\n",
       "  'rating': {'average': 3.1066752148241683, 'reviews': 288},\n",
       "  'image': 'https://www.totalwine.com/media/sys_master/twmmedia/h4a/h43/11635363905566.png',\n",
       "  'id': 165},\n",
       " {'price': '$12.49',\n",
       "  'name': \"Lindeman's Peche\",\n",
       "  'rating': {'average': 3.0755646338784075, 'reviews': 138},\n",
       "  'image': 'https://www.totalwine.com/media/sys_master/twmmedia/h3a/hf0/8810013884446.png',\n",
       "  'id': 166},\n",
       " {'price': '$12.49',\n",
       "  'name': 'Stone Scorpion Bowl IPA',\n",
       "  'rating': {'average': 2.733436034499219, 'reviews': 339},\n",
       "  'image': 'https://www.totalwine.com/media/sys_master/twmmedia/h49/h76/11443412828190.png',\n",
       "  'id': 167},\n",
       " {'price': '$15.99',\n",
       "  'name': 'Dogfish Head Burton Baton',\n",
       "  'rating': {'average': 3.926503869642703, 'reviews': 86},\n",
       "  'image': 'https://www.totalwine.com/media/sys_master/twmmedia/hae/haf/10124015304734.png',\n",
       "  'id': 168},\n",
       " {'price': '$14.99',\n",
       "  'name': 'Boulevard The Calling IPA',\n",
       "  'rating': {'average': 1.5012371833611837, 'reviews': 93},\n",
       "  'image': 'https://www.totalwine.com/media/sys_master/twmmedia/hec/hc3/11192440225822.png',\n",
       "  'id': 169},\n",
       " {'price': '$4.99',\n",
       "  'name': 'Delirium Red',\n",
       "  'rating': {'average': 3.329751337964476, 'reviews': 385},\n",
       "  'image': 'https://www.totalwine.com/media/sys_master/cmsmedia/hff/h0e/8979036078110.png',\n",
       "  'id': 170},\n",
       " {'price': '$1.99',\n",
       "  'name': 'Karbach Love Street Summer',\n",
       "  'rating': {'average': 4.620266818178933, 'reviews': 185},\n",
       "  'image': 'https://www.totalwine.com/media/sys_master/twmmedia/h47/hf1/10777645285406.png',\n",
       "  'id': 171},\n",
       " {'price': '$11.99',\n",
       "  'name': 'Einstok Icelandic White Ale',\n",
       "  'rating': {'average': 4.81471460936719, 'reviews': 58},\n",
       "  'image': 'https://www.totalwine.com/media/sys_master/twmmedia/h66/h62/11234593931294.png',\n",
       "  'id': 172},\n",
       " {'price': '$9.99',\n",
       "  'name': 'Dogfish Head 90-Minute IPA',\n",
       "  'rating': {'average': 3.8590704317769315, 'reviews': 120},\n",
       "  'image': 'https://www.totalwine.com/media/sys_master/cmsmedia/hff/h0e/8979036078110.png',\n",
       "  'id': 173},\n",
       " {'price': '$10.99',\n",
       "  'name': 'Anderson Valley Briney Melon Gose',\n",
       "  'rating': {'average': 1.6308706827038444, 'reviews': 215},\n",
       "  'image': 'https://www.totalwine.com/media/sys_master/twmmedia/h0b/hbe/11635387465758.png',\n",
       "  'id': 174},\n",
       " {'price': '$8.99',\n",
       "  'name': 'Boulevard Space Camper Cosmic IPA',\n",
       "  'rating': {'average': 1.0521580970660143, 'reviews': 214},\n",
       "  'image': 'https://www.totalwine.com/media/sys_master/twmmedia/hff/h26/11735207706654.png',\n",
       "  'id': 175},\n",
       " {'price': '$17.99',\n",
       "  'name': 'Piraat Ale',\n",
       "  'rating': {'average': 4.94233495501944, 'reviews': 185},\n",
       "  'image': 'https://www.totalwine.com/media/sys_master/twmmedia/h67/he1/9071469920286.png',\n",
       "  'id': 176},\n",
       " {'price': '$6.49',\n",
       "  'name': \"Lindeman's Framboise\",\n",
       "  'rating': {'average': 3.749494609725903, 'reviews': 321},\n",
       "  'image': 'https://www.totalwine.com/media/sys_master/twmmedia/h6e/h57/10225140629534.png',\n",
       "  'id': 177},\n",
       " {'price': '$13.99',\n",
       "  'name': 'Blue Moon Belgian White Belgian-Style Wheat Ale',\n",
       "  'rating': {'average': 2.323260489551802, 'reviews': 132},\n",
       "  'image': 'https://www.totalwine.com/media/sys_master/twmmedia/h54/h53/11931543535646.png',\n",
       "  'id': 178},\n",
       " {'price': '$9.99',\n",
       "  'name': 'Founders All Day IPA',\n",
       "  'rating': {'average': 5, 'reviews': 462},\n",
       "  'image': 'https://www.totalwine.com/media/sys_master/twmmedia/hcb/h02/11891413352478.png',\n",
       "  'id': 179},\n",
       " {'price': '$11.99',\n",
       "  'name': 'Chimay Cinq Cents White Triple',\n",
       "  'rating': {'average': 1.997464538301898, 'reviews': 89},\n",
       "  'image': 'https://www.totalwine.com/media/sys_master/twmmedia/h67/h22/8801543749662.png',\n",
       "  'id': 180}]"
      ]
     },
     "execution_count": 12,
     "metadata": {},
     "output_type": "execute_result"
    }
   ],
>>>>>>> 27abb7cde2f2c449d1e9d586b2022a91e4a64529
   "source": [
    "# .text may not help much either.\n",
    "# As you can see, this is a JSON object, so a good idea would be to interpret it as JSON object\n",
    "response.json()"
   ]
  },
  {
   "cell_type": "code",
<<<<<<< HEAD
   "execution_count": null,
   "id": "1c4e253a-2c77-4283-887b-c9a2f6f4194b",
   "metadata": {},
   "outputs": [],
=======
   "execution_count": 13,
   "id": "1c4e253a-2c77-4283-887b-c9a2f6f4194b",
   "metadata": {},
   "outputs": [
    {
     "data": {
      "text/plain": [
       "list"
      ]
     },
     "execution_count": 13,
     "metadata": {},
     "output_type": "execute_result"
    }
   ],
>>>>>>> 27abb7cde2f2c449d1e9d586b2022a91e4a64529
   "source": [
    "# The type of the answer is a dictionaries python list, so the data can be accessed as such.\n",
    "type(response.json())"
   ]
  },
  {
   "cell_type": "code",
<<<<<<< HEAD
   "execution_count": null,
   "id": "44b27bf9-59c5-49df-8a56-7a9eb555d88f",
   "metadata": {},
   "outputs": [],
=======
   "execution_count": 14,
   "id": "44b27bf9-59c5-49df-8a56-7a9eb555d88f",
   "metadata": {},
   "outputs": [
    {
     "data": {
      "text/plain": [
       "{'price': '$16.99',\n",
       " 'name': 'Founders All Day IPA',\n",
       " 'rating': {'average': 4.411243509154233, 'reviews': 453},\n",
       " 'image': 'https://www.totalwine.com/media/sys_master/twmmedia/h00/h94/11891416367134.png',\n",
       " 'id': 1}"
      ]
     },
     "execution_count": 14,
     "metadata": {},
     "output_type": "execute_result"
    }
   ],
>>>>>>> 27abb7cde2f2c449d1e9d586b2022a91e4a64529
   "source": [
    "# You can access the first element of the list\n",
    "response_list = response.json()\n",
    "response_list[0]"
   ]
  },
  {
   "cell_type": "code",
<<<<<<< HEAD
   "execution_count": null,
   "id": "8383b726",
   "metadata": {},
   "outputs": [],
=======
   "execution_count": 15,
   "id": "8383b726",
   "metadata": {},
   "outputs": [
    {
     "data": {
      "text/plain": [
       "dict"
      ]
     },
     "execution_count": 15,
     "metadata": {},
     "output_type": "execute_result"
    }
   ],
>>>>>>> 27abb7cde2f2c449d1e9d586b2022a91e4a64529
   "source": [
    "type(response_list[0])"
   ]
  },
  {
   "cell_type": "code",
<<<<<<< HEAD
   "execution_count": null,
   "id": "d87fb585-59ee-4bf4-bec0-288ba64f613f",
   "metadata": {},
   "outputs": [],
=======
   "execution_count": 16,
   "id": "d87fb585-59ee-4bf4-bec0-288ba64f613f",
   "metadata": {},
   "outputs": [
    {
     "data": {
      "text/plain": [
       "'$16.99'"
      ]
     },
     "execution_count": 16,
     "metadata": {},
     "output_type": "execute_result"
    }
   ],
>>>>>>> 27abb7cde2f2c449d1e9d586b2022a91e4a64529
   "source": [
    "response_list[0]['price']"
   ]
  },
  {
   "cell_type": "code",
<<<<<<< HEAD
   "execution_count": null,
   "id": "ce6db35e",
   "metadata": {},
   "outputs": [],
=======
   "execution_count": 17,
   "id": "ce6db35e",
   "metadata": {},
   "outputs": [
    {
     "data": {
      "text/plain": [
       "{'average': 4.411243509154233, 'reviews': 453}"
      ]
     },
     "execution_count": 17,
     "metadata": {},
     "output_type": "execute_result"
    }
   ],
>>>>>>> 27abb7cde2f2c449d1e9d586b2022a91e4a64529
   "source": [
    "response_list[0]['rating']"
   ]
  },
  {
   "cell_type": "code",
<<<<<<< HEAD
   "execution_count": null,
   "id": "f80b3161-abf9-471c-b171-dd0687aee6f2",
   "metadata": {},
   "outputs": [],
=======
   "execution_count": 18,
   "id": "f80b3161-abf9-471c-b171-dd0687aee6f2",
   "metadata": {},
   "outputs": [
    {
     "data": {
      "text/plain": [
       "{'average': 4.411243509154233, 'reviews': 453}"
      ]
     },
     "execution_count": 18,
     "metadata": {},
     "output_type": "execute_result"
    }
   ],
>>>>>>> 27abb7cde2f2c449d1e9d586b2022a91e4a64529
   "source": [
    "# You can access the data directly from the response variable\n",
    "response.json()[0]['rating']"
   ]
  },
  {
   "cell_type": "code",
<<<<<<< HEAD
   "execution_count": null,
   "id": "e0dc04f1",
   "metadata": {},
   "outputs": [],
=======
   "execution_count": 19,
   "id": "e0dc04f1",
   "metadata": {},
   "outputs": [
    {
     "data": {
      "text/plain": [
       "{'Date': 'Tue, 03 Dec 2024 16:48:10 GMT', 'Content-Type': 'application/json; charset=utf-8', 'Transfer-Encoding': 'chunked', 'Connection': 'keep-alive', 'X-Powered-By': 'Express', 'Access-Control-Allow-Origin': '*', 'X-RateLimit-Limit': '5000', 'X-RateLimit-Remaining': '4139', 'X-RateLimit-Reset': '1733244911', 'X-Content-Type-Options': 'nosniff', 'ETag': 'W/\"8fcf-uxEQY3VaCggHKcsP0m8F8CzIDKY\"', 'CF-Cache-Status': 'DYNAMIC', 'Report-To': '{\"endpoints\":[{\"url\":\"https:\\\\/\\\\/a.nel.cloudflare.com\\\\/report\\\\/v4?s=GUhA3Wd7l%2FnkYJsChd0hnsu%2Fbco6ytsW94bLsqa6jsz6ysCFz2Pr4aUIgsIAHwaXy95LYYkHq0gXd8Ki3m8ixz4jYRcVTIQbxD4Qrkfd63HgODpa%2FOsyEM3emJLlOyUp1IvVRyw%3D\"}],\"group\":\"cf-nel\",\"max_age\":604800}', 'NEL': '{\"success_fraction\":0,\"report_to\":\"cf-nel\",\"max_age\":604800}', 'Server': 'cloudflare', 'CF-RAY': '8ec50af20e6dc8f8-MAD', 'Content-Encoding': 'zstd', 'alt-svc': 'h3=\":443\"; ma=86400', 'server-timing': 'cfL4;desc=\"?proto=TCP&rtt=14495&min_rtt=14444&rtt_var=5518&sent=5&recv=6&lost=0&retrans=0&sent_bytes=2847&recv_bytes=787&delivery_rate=272268&cwnd=252&unsent_bytes=0&cid=ccede35acd94cfb1&ts=167&x=0\"'}"
      ]
     },
     "execution_count": 19,
     "metadata": {},
     "output_type": "execute_result"
    }
   ],
>>>>>>> 27abb7cde2f2c449d1e9d586b2022a91e4a64529
   "source": [
    "# The headers are a part of the request or response of an API.\n",
    "# They can provide us with interesting information\n",
    "response.headers"
   ]
  },
  {
   "cell_type": "code",
<<<<<<< HEAD
   "execution_count": null,
   "id": "6f714e24",
   "metadata": {},
   "outputs": [],
=======
   "execution_count": 20,
   "id": "6f714e24",
   "metadata": {},
   "outputs": [
    {
     "data": {
      "text/plain": [
       "'cloudflare'"
      ]
     },
     "execution_count": 20,
     "metadata": {},
     "output_type": "execute_result"
    }
   ],
>>>>>>> 27abb7cde2f2c449d1e9d586b2022a91e4a64529
   "source": [
    "# We can access to the data in headers as we access a dictionary.\n",
    "response.headers['Server']"
   ]
  },
  {
   "cell_type": "code",
<<<<<<< HEAD
   "execution_count": null,
   "id": "d7abf3dd",
   "metadata": {},
   "outputs": [],
=======
   "execution_count": 21,
   "id": "d7abf3dd",
   "metadata": {},
   "outputs": [
    {
     "data": {
      "text/plain": [
       "'application/json; charset=utf-8'"
      ]
     },
     "execution_count": 21,
     "metadata": {},
     "output_type": "execute_result"
    }
   ],
>>>>>>> 27abb7cde2f2c449d1e9d586b2022a91e4a64529
   "source": [
    "response.headers['content-type']"
   ]
  },
  {
   "cell_type": "markdown",
   "metadata": {},
   "source": [
    "To recap...\n",
    "- We connect to an ENDPOIND\n",
    "- We use GET method\n",
    "- We receive a RESPONSE\n",
    "- response has a STATUS\n",
    "- response has a CONTENT\n",
    "- response has a HEADERS"
   ]
  },
  {
   "cell_type": "markdown",
   "metadata": {},
   "source": []
  }
 ],
 "metadata": {
  "kernelspec": {
<<<<<<< HEAD
   "display_name": "sistemas24",
=======
   "display_name": "sistemas-bigdata",
>>>>>>> 27abb7cde2f2c449d1e9d586b2022a91e4a64529
   "language": "python",
   "name": "python3"
  },
  "language_info": {
   "codemirror_mode": {
    "name": "ipython",
    "version": 3
   },
   "file_extension": ".py",
   "mimetype": "text/x-python",
   "name": "python",
   "nbconvert_exporter": "python",
   "pygments_lexer": "ipython3",
   "version": "3.13.0"
  }
 },
 "nbformat": 4,
 "nbformat_minor": 5
}
