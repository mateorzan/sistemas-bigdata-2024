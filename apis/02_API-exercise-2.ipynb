{
 "cells": [
  {
   "cell_type": "markdown",
   "metadata": {},
   "source": [
    "# APIs. Exercise 2\n",
    "## Meteogalicia API"
   ]
  },
  {
   "cell_type": "code",
   "execution_count": 1,
   "id": "a4a78c8f-6cdb-4fcd-89f5-729135106c5e",
   "metadata": {},
   "outputs": [],
   "source": [
    "# METEOGALICIA\n",
    "# Look for the documentation for the meteorological forecast by counties in the short term (\"Predición por concellos\")\n",
    "# In the main page go to RSS, GeoRSS and JSON\n",
    "# Copy the PDF file url\n",
    "# LINK HERE: https://servizos.meteogalicia.gal/mgrss/predicion/jsonPredConcellos.action?idConc=15030&request_locale=gl\n",
    "import requests"
   ]
  },
  {
   "cell_type": "code",
   "execution_count": 10,
   "id": "4984891c-7fb2-4734-b688-40aa5734e84c",
   "metadata": {},
   "outputs": [
    {
     "data": {
      "text/plain": [
       "<Response [200]>"
      ]
     },
     "execution_count": 10,
     "metadata": {},
     "output_type": "execute_result"
    }
   ],
   "source": [
    "# Each API has its specific documentation, sometimes in web format, sometimes PDF, ... \n",
    "# Take a look at the documentation offered by Meteogalicia for the short term forecasting by municipality\n",
    "# to understand the type of service and data offered and to be able to carry out the exercise.\n",
    "endpoint = 'http://servizos.meteogalicia.gal/rss/predicion/jsonCPrazo.action?dia=-1&request_locale=es'\n",
    "\n",
    "requests.get(endpoint)"
   ]
  },
  {
   "cell_type": "code",
   "execution_count": 11,
   "id": "583581b9-0b93-42ae-b56e-54372b957b65",
   "metadata": {},
   "outputs": [
    {
     "data": {
      "text/plain": [
       "{'listaPredicions': [{'comentario': 'El martes se prevé la llegada de un frente poco activo a últimas horas de la mañana, entrando por el noroeste de Galicia. Así, tendremos mucha humedad con nieblas y nubes bajas y precipitaciones débiles que irán extendiéndose de norte a sur con el transcurso del día, serán más probables e intensas en el oeste y zonas altas. Las temperaturas descenderán ligeramente. El viento soplará del sudoeste flojo en tierra, moderado con intervalos fuertes en el litoral, cambiando a norte-noroeste por la noche.',\n",
       "   'comentarioEsp': '',\n",
       "   'dataActualizacion': '2024-12-03T18:04:00',\n",
       "   'dataPredicion': '2024-12-03T00:00:00',\n",
       "   'dia': 0,\n",
       "   'listaMapas': [{'dia': 0,\n",
       "     'franxa': 1,\n",
       "     'urlMapa': '/rss/predicion/cprazo/getImaxeM.action?dia=0'},\n",
       "    {'dia': 0,\n",
       "     'franxa': 2,\n",
       "     'urlMapa': '/rss/predicion/cprazo/getImaxeT.action?dia=0'},\n",
       "    {'dia': 0,\n",
       "     'franxa': 3,\n",
       "     'urlMapa': '/rss/predicion/cprazo/getImaxeN.action?dia=0'}],\n",
       "   'tendMax': 400,\n",
       "   'tendMin': 403,\n",
       "   'titulo': 'Predicción para el martes 03 de diciembre de 2024'},\n",
       "  {'comentario': 'El miércoles seguiremos en una situación intermedia entre las altas y las bajas presiones. Con esto, tendremos nieblas y nubes bajas en comarcas del interior, con el avance del día irá quedando el cielo muy abierto en general con nubosidad de tipo alto. Por la noche se volverán a cubrir los cielos por el oeste de la Comunidad. Las temperaturas experimentarán un ligero ascenso. El viento soplará flojo del oeste-sudoeste, moderado en el litoral norte.',\n",
       "   'comentarioEsp': '',\n",
       "   'dataActualizacion': '2024-12-03T10:02:00',\n",
       "   'dataPredicion': '2024-12-04T00:00:00',\n",
       "   'dia': 1,\n",
       "   'listaMapas': [{'dia': 1,\n",
       "     'franxa': 1,\n",
       "     'urlMapa': '/rss/predicion/cprazo/getImaxeM.action?dia=1'},\n",
       "    {'dia': 1,\n",
       "     'franxa': 2,\n",
       "     'urlMapa': '/rss/predicion/cprazo/getImaxeT.action?dia=1'},\n",
       "    {'dia': 1,\n",
       "     'franxa': 3,\n",
       "     'urlMapa': '/rss/predicion/cprazo/getImaxeN.action?dia=1'}],\n",
       "   'tendMax': 402,\n",
       "   'tendMin': 405,\n",
       "   'titulo': 'Predicción para el miércoles 04 de diciembre de 2024'},\n",
       "  {'comentario': 'Durante el jueves se espera predominio de la influencia anticiclónica sobre Galcia, pero la presencia de ciertos frentes al  norte de la Comunidad dejarán los cielos con abundantes nubes e incluso alguna lluvia débil, aislada y ocasional. Las temperaturas no experimentarán cambios significativos. Los ventos soplarán del sur- sudoeste, flojos en general, moderados en el litoral noroeste, con intervalos fuertes en el extremo norte.',\n",
       "   'comentarioEsp': '',\n",
       "   'dataActualizacion': '2024-12-03T11:02:00',\n",
       "   'dataPredicion': '2024-12-05T00:00:00',\n",
       "   'dia': 2,\n",
       "   'listaMapas': [{'dia': 2,\n",
       "     'franxa': 1,\n",
       "     'urlMapa': '/rss/predicion/cprazo/getImaxeM.action?dia=2'},\n",
       "    {'dia': 2,\n",
       "     'franxa': 2,\n",
       "     'urlMapa': '/rss/predicion/cprazo/getImaxeT.action?dia=2'},\n",
       "    {'dia': 2,\n",
       "     'franxa': 3,\n",
       "     'urlMapa': '/rss/predicion/cprazo/getImaxeN.action?dia=2'}],\n",
       "   'tendMax': 401,\n",
       "   'tendMin': 404,\n",
       "   'titulo': 'Predicción para el jueves 05 de diciembre de 2024'},\n",
       "  {'comentario': 'Continuamos nunha situación de predominio da influencia anticiclónica pero con ventos do suroeste, que nos achegan masas de aire húmidas. Deste xeito, teremos ceos con máis nubes canto máis ó oeste, onde mesmo haberá posibilidade de chuvias febles. As temperaturas mínimas terán un lixeiro ascenso, continuando as máximas sen cambios. Os ventos soprarán do suroeste, frouxos no interior, moderados no litoral, fortes no extremo norte.',\n",
       "   'comentarioEsp': '',\n",
       "   'dataActualizacion': '2024-12-03T11:02:00',\n",
       "   'dataPredicion': '2024-12-06T00:00:00',\n",
       "   'dia': 3,\n",
       "   'listaMapas': [{'dia': 3,\n",
       "     'franxa': 1,\n",
       "     'urlMapa': '/rss/predicion/cprazo/getImaxeM.action?dia=3'},\n",
       "    {'dia': 3,\n",
       "     'franxa': 2,\n",
       "     'urlMapa': '/rss/predicion/cprazo/getImaxeT.action?dia=3'},\n",
       "    {'dia': 3,\n",
       "     'franxa': 3,\n",
       "     'urlMapa': '/rss/predicion/cprazo/getImaxeN.action?dia=3'}],\n",
       "   'tendMax': 402,\n",
       "   'tendMin': 405,\n",
       "   'titulo': 'Predicción para el viernes 06 de diciembre de 2024'}],\n",
       " 'urlBase': 'https://servizos.meteogalicia.gal'}"
      ]
     },
     "execution_count": 11,
     "metadata": {},
     "output_type": "execute_result"
    }
   ],
   "source": [
    "# Query the short term forecast for the municipality of Monfero.\n",
    "# Use the documentation to understand how the API works and what the results mean\n",
    "# It's enough to get the JSON with the prediction\n",
    "# You can try to access the different elements\n",
    "response = requests.get(endpoint)\n",
    "response.content\n",
    "response.json()"
   ]
  },
  {
   "cell_type": "code",
   "execution_count": null,
   "id": "53d53d0b",
   "metadata": {},
   "outputs": [],
   "source": []
  },
  {
   "cell_type": "code",
   "execution_count": null,
   "id": "b9d98ad8",
   "metadata": {},
   "outputs": [],
   "source": [
    "# Check the maximum and minimum temperatures forecast in the short term for the municipality of Paderne.\n",
    "# In concrete, for the day after the current one (for tomorrow)"
   ]
  },
  {
   "cell_type": "code",
   "execution_count": null,
   "id": "d6bb683a-95ab-4dbc-a7ce-6504a7ac5b2e",
   "metadata": {},
   "outputs": [],
   "source": []
  },
  {
   "cell_type": "code",
   "execution_count": null,
   "id": "2f2e1260-d2b9-42d0-bb91-5fc64ad37c00",
   "metadata": {},
   "outputs": [],
   "source": [
    "# Meteogalicia also offers information about the beaches through its API.\n",
    "# https://www.meteogalicia.gal/datosred/infoweb/meteo/docs/rss/JSON_Pred_Praia_gl.pdf"
   ]
  },
  {
   "cell_type": "code",
   "execution_count": null,
   "id": "46c52797-4aaa-49d2-8555-2245597c2a3d",
   "metadata": {},
   "outputs": [],
   "source": [
    "# Check the prediction for the temperature of the water in Riazor beach and compare it with that of the Catedrais beach."
   ]
  },
  {
   "cell_type": "code",
   "execution_count": null,
   "id": "1ff27f02-80f3-428c-b192-2bf8948b95c1",
   "metadata": {},
   "outputs": [],
   "source": []
  },
  {
   "cell_type": "code",
   "execution_count": null,
   "id": "fdfe2aad",
   "metadata": {},
   "outputs": [],
   "source": [
    "# Research on the Meteogalicia website among the different services available.\n",
    "# Connect to one of the services and extract some information.\n",
    "# Imagine a use case for this data (it can be something simple, you don't have to think in BigData)\n",
    "# If it's something simple, you can try programming it!!!"
   ]
  },
  {
   "cell_type": "code",
   "execution_count": null,
   "id": "902fed70",
   "metadata": {},
   "outputs": [],
   "source": []
  }
 ],
 "metadata": {
  "kernelspec": {
   "display_name": "sistemas-bigdata",
   "language": "python",
   "name": "python3"
  },
  "language_info": {
   "codemirror_mode": {
    "name": "ipython",
    "version": 3
   },
   "file_extension": ".py",
   "mimetype": "text/x-python",
   "name": "python",
   "nbconvert_exporter": "python",
   "pygments_lexer": "ipython3",
   "version": "3.13.0"
  }
 },
 "nbformat": 4,
 "nbformat_minor": 5
}
